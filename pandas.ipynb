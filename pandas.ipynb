{
  "nbformat": 4,
  "nbformat_minor": 0,
  "metadata": {
    "colab": {
      "name": "pandas.ipynb",
      "provenance": [],
      "collapsed_sections": [],
      "authorship_tag": "ABX9TyPFvy8WLAX3NClP34khAMbi",
      "include_colab_link": true
    },
    "kernelspec": {
      "name": "python3",
      "display_name": "Python 3"
    },
    "language_info": {
      "name": "python"
    }
  },
  "cells": [
    {
      "cell_type": "markdown",
      "metadata": {
        "id": "view-in-github",
        "colab_type": "text"
      },
      "source": [
        "<a href=\"https://colab.research.google.com/github/SIRI1023/SIRI1023.github.io/blob/master/pandas.ipynb\" target=\"_parent\"><img src=\"https://colab.research.google.com/assets/colab-badge.svg\" alt=\"Open In Colab\"/></a>"
      ]
    },
    {
      "cell_type": "markdown",
      "metadata": {
        "id": "qdjcd9QswF3W"
      },
      "source": [
        "pandas "
      ]
    },
    {
      "cell_type": "code",
      "metadata": {
        "colab": {
          "resources": {
            "http://localhost:8080/nbextensions/google.colab/files.js": {
              "data": "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",
              "ok": true,
              "headers": [
                [
                  "content-type",
                  "application/javascript"
                ]
              ],
              "status": 200,
              "status_text": "OK"
            }
          },
          "base_uri": "https://localhost:8080/",
          "height": 89
        },
        "id": "s_J0kN_Txkwu",
        "outputId": "d7c0eb91-527d-4934-d391-e7f12c840eb8"
      },
      "source": [
        "! pip install -q kaggle\n",
        "\n",
        "from google.colab import files\n",
        "\n",
        "files.upload()"
      ],
      "execution_count": null,
      "outputs": [
        {
          "output_type": "display_data",
          "data": {
            "text/html": [
              "\n",
              "     <input type=\"file\" id=\"files-792ecd6f-bdf7-41aa-a20a-221f776d7238\" name=\"files[]\" multiple disabled\n",
              "        style=\"border:none\" />\n",
              "     <output id=\"result-792ecd6f-bdf7-41aa-a20a-221f776d7238\">\n",
              "      Upload widget is only available when the cell has been executed in the\n",
              "      current browser session. Please rerun this cell to enable.\n",
              "      </output>\n",
              "      <script src=\"/nbextensions/google.colab/files.js\"></script> "
            ],
            "text/plain": [
              "<IPython.core.display.HTML object>"
            ]
          },
          "metadata": {
            "tags": []
          }
        },
        {
          "output_type": "stream",
          "text": [
            "Saving kaggle.json to kaggle.json\n"
          ],
          "name": "stdout"
        },
        {
          "output_type": "execute_result",
          "data": {
            "text/plain": [
              "{'kaggle.json': b'{\"username\":\"sirigovvala\",\"key\":\"af55e0df964ff1611c2839648ef47bbd\"}'}"
            ]
          },
          "metadata": {
            "tags": []
          },
          "execution_count": 3
        }
      ]
    },
    {
      "cell_type": "code",
      "metadata": {
        "id": "8PKeaVNg32IB"
      },
      "source": [
        "! mkdir ~/.kaggle\n",
        "\n",
        "! cp kaggle.json ~/.kaggle/"
      ],
      "execution_count": null,
      "outputs": []
    },
    {
      "cell_type": "code",
      "metadata": {
        "id": "xORFbpIy4IZJ"
      },
      "source": [
        " ! chmod 600 ~/.kaggle/kaggle.json"
      ],
      "execution_count": null,
      "outputs": []
    },
    {
      "cell_type": "code",
      "metadata": {
        "colab": {
          "base_uri": "https://localhost:8080/"
        },
        "id": "cZOphBlz4Mth",
        "outputId": "d247464b-2afd-4d31-d661-541dc6821b60"
      },
      "source": [
        "! kaggle datasets list"
      ],
      "execution_count": null,
      "outputs": [
        {
          "output_type": "stream",
          "text": [
            "Warning: Looks like you're using an outdated API Version, please consider updating (server 1.5.12 / client 1.5.4)\n",
            "ref                                                         title                                              size  lastUpdated          downloadCount  \n",
            "----------------------------------------------------------  ------------------------------------------------  -----  -------------------  -------------  \n",
            "gpreda/reddit-vaccine-myths                                 Reddit Vaccine Myths                              234KB  2021-07-24 09:20:05           9795  \n",
            "crowww/a-large-scale-fish-dataset                           A Large Scale Fish Dataset                          3GB  2021-04-28 17:03:01           6029  \n",
            "imsparsh/musicnet-dataset                                   MusicNet Dataset                                   22GB  2021-02-18 14:12:19           2227  \n",
            "dhruvildave/wikibooks-dataset                               Wikibooks Dataset                                   2GB  2021-07-03 18:37:20           2487  \n",
            "fatiimaezzahra/famous-iconic-women                          Famous Iconic Women                               838MB  2021-02-28 14:56:00           1017  \n",
            "promptcloud/careerbuilder-job-listing-2020                  Careerbuilder Job Listing 2020                     42MB  2021-03-05 06:59:52           1448  \n",
            "nickuzmenkov/nih-chest-xrays-tfrecords                      NIH Chest X-rays TFRecords                         11GB  2021-03-09 04:49:23            826  \n",
            "alsgroup/end-als                                            End ALS Kaggle Challenge                           12GB  2021-04-08 12:16:37            807  \n",
            "coloradokb/dandelionimages                                  DandelionImages                                     4GB  2021-02-19 20:03:47            695  \n",
            "mathurinache/twitter-edge-nodes                             Twitter Edge Nodes                                342MB  2021-03-08 06:43:04            670  \n",
            "simiotic/github-code-snippets                               GitHub Code Snippets                                7GB  2021-03-03 11:34:39            238  \n",
            "mathurinache/the-lj-speech-dataset                          The LJ Speech Dataset                               3GB  2021-02-15 09:19:54            252  \n",
            "stuartjames/lights                                          LightS: Light Specularity Dataset                  18GB  2021-02-18 14:32:26            101  \n",
            "landrykezebou/lvzhdr-tone-mapping-benchmark-dataset-tmonet  LVZ-HDR Tone Mapping Benchmark Dataset (TMO-Net)   24GB  2021-03-01 05:03:40            163  \n",
            "imsparsh/accentdb-core-extended                             AccentDB - Core & Extended                          6GB  2021-02-17 14:22:54            120  \n",
            "nickuzmenkov/ranzcr-clip-kfold-tfrecords                    RANZCR CLiP KFold TFRecords                         2GB  2021-02-21 13:29:51            109  \n",
            "datasnaek/youtube-new                                       Trending YouTube Video Statistics                 201MB  2019-06-03 00:56:47         145308  \n",
            "zynicide/wine-reviews                                       Wine Reviews                                       51MB  2017-11-27 17:08:04         140851  \n",
            "residentmario/ramen-ratings                                 Ramen Ratings                                      40KB  2018-01-11 16:04:39          25211  \n",
            "datasnaek/chess                                             Chess Game Dataset (Lichess)                        3MB  2017-09-04 03:09:09          20199  \n"
          ],
          "name": "stdout"
        }
      ]
    },
    {
      "cell_type": "code",
      "metadata": {
        "colab": {
          "base_uri": "https://localhost:8080/"
        },
        "id": "MoKpBcdb4VFa",
        "outputId": "aff8c1a7-5866-4f73-9d8a-85d90919d657"
      },
      "source": [
        "!kaggle datasets download -d mattiuzc/stock-exchange-data"
      ],
      "execution_count": null,
      "outputs": [
        {
          "output_type": "stream",
          "text": [
            "stock-exchange-data.zip: Skipping, found more recently modified local copy (use --force to force download)\n"
          ],
          "name": "stdout"
        }
      ]
    },
    {
      "cell_type": "code",
      "metadata": {
        "colab": {
          "base_uri": "https://localhost:8080/"
        },
        "id": "_VhIvaHT40bw",
        "outputId": "dcb5a41a-47fc-4d4d-91cd-bffd595cb9e6"
      },
      "source": [
        "!ls /content"
      ],
      "execution_count": null,
      "outputs": [
        {
          "output_type": "stream",
          "text": [
            "allsides.csv\t\t\t\t\t  indexProcessed.csv\n",
            "allsides.json\t\t\t\t\t  kaggle.json\n",
            "allsides-ratings-of-bias-in-electronic-media.zip  sample_data\n",
            "indexData.csv\t\t\t\t\t  stock-exchange-data.zip\n",
            "indexInfo.csv\n"
          ],
          "name": "stdout"
        }
      ]
    },
    {
      "cell_type": "code",
      "metadata": {
        "colab": {
          "base_uri": "https://localhost:8080/"
        },
        "id": "UCjgwHyM6vvy",
        "outputId": "37ba8457-4474-475b-9cad-5be2c6610bfa"
      },
      "source": [
        "!unzip '/content/stock-exchange-data.zip' -d '/content/'"
      ],
      "execution_count": null,
      "outputs": [
        {
          "output_type": "stream",
          "text": [
            "Archive:  /content/stock-exchange-data.zip\n",
            "replace /content/indexData.csv? [y]es, [n]o, [A]ll, [N]one, [r]ename: "
          ],
          "name": "stdout"
        }
      ]
    },
    {
      "cell_type": "code",
      "metadata": {
        "id": "Sv2u4lT361CN"
      },
      "source": [
        "import pandas as pd"
      ],
      "execution_count": 4,
      "outputs": []
    },
    {
      "cell_type": "code",
      "metadata": {
        "id": "Bgs0wptx65F5"
      },
      "source": [
        "df = pd.read_csv('indexData.csv')"
      ],
      "execution_count": 9,
      "outputs": []
    },
    {
      "cell_type": "code",
      "metadata": {
        "colab": {
          "base_uri": "https://localhost:8080/",
          "height": 419
        },
        "id": "g1jf7Xn66_VR",
        "outputId": "72714e98-3042-4b95-f524-7ab0b86a2bc4"
      },
      "source": [
        "df"
      ],
      "execution_count": 10,
      "outputs": [
        {
          "output_type": "execute_result",
          "data": {
            "text/html": [
              "<div>\n",
              "<style scoped>\n",
              "    .dataframe tbody tr th:only-of-type {\n",
              "        vertical-align: middle;\n",
              "    }\n",
              "\n",
              "    .dataframe tbody tr th {\n",
              "        vertical-align: top;\n",
              "    }\n",
              "\n",
              "    .dataframe thead th {\n",
              "        text-align: right;\n",
              "    }\n",
              "</style>\n",
              "<table border=\"1\" class=\"dataframe\">\n",
              "  <thead>\n",
              "    <tr style=\"text-align: right;\">\n",
              "      <th></th>\n",
              "      <th>Index</th>\n",
              "      <th>Date</th>\n",
              "      <th>Open</th>\n",
              "      <th>High</th>\n",
              "      <th>Low</th>\n",
              "      <th>Close</th>\n",
              "      <th>Adj Close</th>\n",
              "      <th>Volume</th>\n",
              "    </tr>\n",
              "  </thead>\n",
              "  <tbody>\n",
              "    <tr>\n",
              "      <th>0</th>\n",
              "      <td>NYA</td>\n",
              "      <td>1965-12-31</td>\n",
              "      <td>528.690002</td>\n",
              "      <td>528.690002</td>\n",
              "      <td>528.690002</td>\n",
              "      <td>528.690002</td>\n",
              "      <td>528.690002</td>\n",
              "      <td>0.0</td>\n",
              "    </tr>\n",
              "    <tr>\n",
              "      <th>1</th>\n",
              "      <td>NYA</td>\n",
              "      <td>1966-01-03</td>\n",
              "      <td>527.210022</td>\n",
              "      <td>527.210022</td>\n",
              "      <td>527.210022</td>\n",
              "      <td>527.210022</td>\n",
              "      <td>527.210022</td>\n",
              "      <td>0.0</td>\n",
              "    </tr>\n",
              "    <tr>\n",
              "      <th>2</th>\n",
              "      <td>NYA</td>\n",
              "      <td>1966-01-04</td>\n",
              "      <td>527.840027</td>\n",
              "      <td>527.840027</td>\n",
              "      <td>527.840027</td>\n",
              "      <td>527.840027</td>\n",
              "      <td>527.840027</td>\n",
              "      <td>0.0</td>\n",
              "    </tr>\n",
              "    <tr>\n",
              "      <th>3</th>\n",
              "      <td>NYA</td>\n",
              "      <td>1966-01-05</td>\n",
              "      <td>531.119995</td>\n",
              "      <td>531.119995</td>\n",
              "      <td>531.119995</td>\n",
              "      <td>531.119995</td>\n",
              "      <td>531.119995</td>\n",
              "      <td>0.0</td>\n",
              "    </tr>\n",
              "    <tr>\n",
              "      <th>4</th>\n",
              "      <td>NYA</td>\n",
              "      <td>1966-01-06</td>\n",
              "      <td>532.070007</td>\n",
              "      <td>532.070007</td>\n",
              "      <td>532.070007</td>\n",
              "      <td>532.070007</td>\n",
              "      <td>532.070007</td>\n",
              "      <td>0.0</td>\n",
              "    </tr>\n",
              "    <tr>\n",
              "      <th>...</th>\n",
              "      <td>...</td>\n",
              "      <td>...</td>\n",
              "      <td>...</td>\n",
              "      <td>...</td>\n",
              "      <td>...</td>\n",
              "      <td>...</td>\n",
              "      <td>...</td>\n",
              "      <td>...</td>\n",
              "    </tr>\n",
              "    <tr>\n",
              "      <th>112452</th>\n",
              "      <td>N100</td>\n",
              "      <td>2021-05-27</td>\n",
              "      <td>1241.119995</td>\n",
              "      <td>1251.910034</td>\n",
              "      <td>1241.119995</td>\n",
              "      <td>1247.069946</td>\n",
              "      <td>1247.069946</td>\n",
              "      <td>379696400.0</td>\n",
              "    </tr>\n",
              "    <tr>\n",
              "      <th>112453</th>\n",
              "      <td>N100</td>\n",
              "      <td>2021-05-28</td>\n",
              "      <td>1249.469971</td>\n",
              "      <td>1259.209961</td>\n",
              "      <td>1249.030029</td>\n",
              "      <td>1256.599976</td>\n",
              "      <td>1256.599976</td>\n",
              "      <td>160773400.0</td>\n",
              "    </tr>\n",
              "    <tr>\n",
              "      <th>112454</th>\n",
              "      <td>N100</td>\n",
              "      <td>2021-05-31</td>\n",
              "      <td>1256.079956</td>\n",
              "      <td>1258.880005</td>\n",
              "      <td>1248.140015</td>\n",
              "      <td>1248.930054</td>\n",
              "      <td>1248.930054</td>\n",
              "      <td>91173700.0</td>\n",
              "    </tr>\n",
              "    <tr>\n",
              "      <th>112455</th>\n",
              "      <td>N100</td>\n",
              "      <td>2021-06-01</td>\n",
              "      <td>1254.609985</td>\n",
              "      <td>1265.660034</td>\n",
              "      <td>1254.609985</td>\n",
              "      <td>1258.579956</td>\n",
              "      <td>1258.579956</td>\n",
              "      <td>155179900.0</td>\n",
              "    </tr>\n",
              "    <tr>\n",
              "      <th>112456</th>\n",
              "      <td>N100</td>\n",
              "      <td>2021-06-02</td>\n",
              "      <td>1258.489990</td>\n",
              "      <td>1263.709961</td>\n",
              "      <td>1258.239990</td>\n",
              "      <td>1263.619995</td>\n",
              "      <td>1263.619995</td>\n",
              "      <td>148465000.0</td>\n",
              "    </tr>\n",
              "  </tbody>\n",
              "</table>\n",
              "<p>112457 rows × 8 columns</p>\n",
              "</div>"
            ],
            "text/plain": [
              "       Index        Date         Open  ...        Close    Adj Close       Volume\n",
              "0        NYA  1965-12-31   528.690002  ...   528.690002   528.690002          0.0\n",
              "1        NYA  1966-01-03   527.210022  ...   527.210022   527.210022          0.0\n",
              "2        NYA  1966-01-04   527.840027  ...   527.840027   527.840027          0.0\n",
              "3        NYA  1966-01-05   531.119995  ...   531.119995   531.119995          0.0\n",
              "4        NYA  1966-01-06   532.070007  ...   532.070007   532.070007          0.0\n",
              "...      ...         ...          ...  ...          ...          ...          ...\n",
              "112452  N100  2021-05-27  1241.119995  ...  1247.069946  1247.069946  379696400.0\n",
              "112453  N100  2021-05-28  1249.469971  ...  1256.599976  1256.599976  160773400.0\n",
              "112454  N100  2021-05-31  1256.079956  ...  1248.930054  1248.930054   91173700.0\n",
              "112455  N100  2021-06-01  1254.609985  ...  1258.579956  1258.579956  155179900.0\n",
              "112456  N100  2021-06-02  1258.489990  ...  1263.619995  1263.619995  148465000.0\n",
              "\n",
              "[112457 rows x 8 columns]"
            ]
          },
          "metadata": {
            "tags": []
          },
          "execution_count": 10
        }
      ]
    },
    {
      "cell_type": "code",
      "metadata": {
        "colab": {
          "base_uri": "https://localhost:8080/"
        },
        "id": "tD_rXX8c7DxA",
        "outputId": "8348c313-96d4-4225-911c-3ddac2fa447c"
      },
      "source": [
        "df.High.idxmax()"
      ],
      "execution_count": null,
      "outputs": [
        {
          "output_type": "execute_result",
          "data": {
            "text/plain": [
              "92390"
            ]
          },
          "metadata": {
            "tags": []
          },
          "execution_count": 14
        }
      ]
    },
    {
      "cell_type": "code",
      "metadata": {
        "colab": {
          "base_uri": "https://localhost:8080/"
        },
        "id": "ykYQctP57K3M",
        "outputId": "9ceedfa7-f238-4d0c-ca26-49076edf8b71"
      },
      "source": [
        "ratio_df = (df['High']/df['Low'])\n",
        "ratio_df"
      ],
      "execution_count": null,
      "outputs": [
        {
          "output_type": "execute_result",
          "data": {
            "text/plain": [
              "0         1.000000\n",
              "1         1.000000\n",
              "2         1.000000\n",
              "3         1.000000\n",
              "4         1.000000\n",
              "            ...   \n",
              "112452    1.008694\n",
              "112453    1.008150\n",
              "112454    1.008605\n",
              "112455    1.008808\n",
              "112456    1.004347\n",
              "Length: 112457, dtype: float64"
            ]
          },
          "metadata": {
            "tags": []
          },
          "execution_count": 15
        }
      ]
    },
    {
      "cell_type": "code",
      "metadata": {
        "colab": {
          "base_uri": "https://localhost:8080/"
        },
        "id": "2KjETWGu7n3F",
        "outputId": "621c845e-746b-4bf8-c6a6-b3442f6ea85c"
      },
      "source": [
        "ratio_df.idxmax()"
      ],
      "execution_count": null,
      "outputs": [
        {
          "output_type": "execute_result",
          "data": {
            "text/plain": [
              "106003"
            ]
          },
          "metadata": {
            "tags": []
          },
          "execution_count": 16
        }
      ]
    },
    {
      "cell_type": "code",
      "metadata": {
        "colab": {
          "base_uri": "https://localhost:8080/"
        },
        "id": "O_RLXo7473fl",
        "outputId": "b3ff855d-eb56-4d22-a524-279cb6d27596"
      },
      "source": [
        "ratio_df[106003]"
      ],
      "execution_count": null,
      "outputs": [
        {
          "output_type": "execute_result",
          "data": {
            "text/plain": [
              "1.261069359821139"
            ]
          },
          "metadata": {
            "tags": []
          },
          "execution_count": 17
        }
      ]
    },
    {
      "cell_type": "code",
      "metadata": {
        "id": "1-N11fUhBiS6"
      },
      "source": [
        "df1 = pd.read_csv('indexInfo.csv')"
      ],
      "execution_count": 7,
      "outputs": []
    },
    {
      "cell_type": "code",
      "metadata": {
        "colab": {
          "base_uri": "https://localhost:8080/",
          "height": 483
        },
        "id": "-VITStnfBtT2",
        "outputId": "2c1e0286-d3c3-4911-9ec7-259883c776a9"
      },
      "source": [
        "df1"
      ],
      "execution_count": 8,
      "outputs": [
        {
          "output_type": "execute_result",
          "data": {
            "text/html": [
              "<div>\n",
              "<style scoped>\n",
              "    .dataframe tbody tr th:only-of-type {\n",
              "        vertical-align: middle;\n",
              "    }\n",
              "\n",
              "    .dataframe tbody tr th {\n",
              "        vertical-align: top;\n",
              "    }\n",
              "\n",
              "    .dataframe thead th {\n",
              "        text-align: right;\n",
              "    }\n",
              "</style>\n",
              "<table border=\"1\" class=\"dataframe\">\n",
              "  <thead>\n",
              "    <tr style=\"text-align: right;\">\n",
              "      <th></th>\n",
              "      <th>Region</th>\n",
              "      <th>Exchange</th>\n",
              "      <th>Index</th>\n",
              "      <th>Currency</th>\n",
              "    </tr>\n",
              "  </thead>\n",
              "  <tbody>\n",
              "    <tr>\n",
              "      <th>0</th>\n",
              "      <td>United States</td>\n",
              "      <td>New York Stock Exchange</td>\n",
              "      <td>NYA</td>\n",
              "      <td>USD</td>\n",
              "    </tr>\n",
              "    <tr>\n",
              "      <th>1</th>\n",
              "      <td>United States</td>\n",
              "      <td>NASDAQ</td>\n",
              "      <td>IXIC</td>\n",
              "      <td>USD</td>\n",
              "    </tr>\n",
              "    <tr>\n",
              "      <th>2</th>\n",
              "      <td>Hong Kong</td>\n",
              "      <td>Hong Kong Stock Exchange</td>\n",
              "      <td>HSI</td>\n",
              "      <td>HKD</td>\n",
              "    </tr>\n",
              "    <tr>\n",
              "      <th>3</th>\n",
              "      <td>China</td>\n",
              "      <td>Shanghai Stock Exchange</td>\n",
              "      <td>000001.SS</td>\n",
              "      <td>CNY</td>\n",
              "    </tr>\n",
              "    <tr>\n",
              "      <th>4</th>\n",
              "      <td>Japan</td>\n",
              "      <td>Tokyo Stock Exchange</td>\n",
              "      <td>N225</td>\n",
              "      <td>JPY</td>\n",
              "    </tr>\n",
              "    <tr>\n",
              "      <th>5</th>\n",
              "      <td>Europe</td>\n",
              "      <td>Euronext</td>\n",
              "      <td>N100</td>\n",
              "      <td>EUR</td>\n",
              "    </tr>\n",
              "    <tr>\n",
              "      <th>6</th>\n",
              "      <td>China</td>\n",
              "      <td>Shenzhen Stock Exchange</td>\n",
              "      <td>399001.SZ</td>\n",
              "      <td>CNY</td>\n",
              "    </tr>\n",
              "    <tr>\n",
              "      <th>7</th>\n",
              "      <td>Canada</td>\n",
              "      <td>Toronto Stock Exchange</td>\n",
              "      <td>GSPTSE</td>\n",
              "      <td>CAD</td>\n",
              "    </tr>\n",
              "    <tr>\n",
              "      <th>8</th>\n",
              "      <td>India</td>\n",
              "      <td>National Stock Exchange of India</td>\n",
              "      <td>NSEI</td>\n",
              "      <td>INR</td>\n",
              "    </tr>\n",
              "    <tr>\n",
              "      <th>9</th>\n",
              "      <td>Germany</td>\n",
              "      <td>Frankfurt Stock Exchange</td>\n",
              "      <td>GDAXI</td>\n",
              "      <td>EUR</td>\n",
              "    </tr>\n",
              "    <tr>\n",
              "      <th>10</th>\n",
              "      <td>Korea</td>\n",
              "      <td>Korea Exchange</td>\n",
              "      <td>KS11</td>\n",
              "      <td>KRW</td>\n",
              "    </tr>\n",
              "    <tr>\n",
              "      <th>11</th>\n",
              "      <td>Switzerland</td>\n",
              "      <td>SIX Swiss Exchange</td>\n",
              "      <td>SSMI</td>\n",
              "      <td>CHF</td>\n",
              "    </tr>\n",
              "    <tr>\n",
              "      <th>12</th>\n",
              "      <td>Taiwan</td>\n",
              "      <td>Taiwan Stock Exchange</td>\n",
              "      <td>TWII</td>\n",
              "      <td>TWD</td>\n",
              "    </tr>\n",
              "    <tr>\n",
              "      <th>13</th>\n",
              "      <td>South Africa</td>\n",
              "      <td>Johannesburg Stock Exchange</td>\n",
              "      <td>J203.JO</td>\n",
              "      <td>ZAR</td>\n",
              "    </tr>\n",
              "  </tbody>\n",
              "</table>\n",
              "</div>"
            ],
            "text/plain": [
              "           Region                          Exchange      Index Currency\n",
              "0   United States           New York Stock Exchange        NYA      USD\n",
              "1   United States                            NASDAQ       IXIC      USD\n",
              "2       Hong Kong          Hong Kong Stock Exchange        HSI      HKD\n",
              "3           China           Shanghai Stock Exchange  000001.SS      CNY\n",
              "4           Japan              Tokyo Stock Exchange       N225      JPY\n",
              "5          Europe                          Euronext       N100      EUR\n",
              "6           China           Shenzhen Stock Exchange  399001.SZ      CNY\n",
              "7          Canada            Toronto Stock Exchange     GSPTSE      CAD\n",
              "8           India  National Stock Exchange of India       NSEI      INR\n",
              "9         Germany          Frankfurt Stock Exchange      GDAXI      EUR\n",
              "10          Korea                    Korea Exchange       KS11      KRW\n",
              "11    Switzerland                SIX Swiss Exchange       SSMI      CHF\n",
              "12         Taiwan             Taiwan Stock Exchange       TWII      TWD\n",
              "13   South Africa       Johannesburg Stock Exchange    J203.JO      ZAR"
            ]
          },
          "metadata": {
            "tags": []
          },
          "execution_count": 8
        }
      ]
    },
    {
      "cell_type": "code",
      "metadata": {
        "colab": {
          "base_uri": "https://localhost:8080/"
        },
        "id": "gp7fiTHZBzhI",
        "outputId": "077ce8c0-1458-4be9-f022-3fe59d9f6657"
      },
      "source": [
        "stock_values = (df1.Exchange.str.count('Stock') + df1.Exchange.str.count('Exchange')).sum()\n",
        "stock_values"
      ],
      "execution_count": null,
      "outputs": [
        {
          "output_type": "execute_result",
          "data": {
            "text/plain": [
              "22"
            ]
          },
          "metadata": {
            "tags": []
          },
          "execution_count": 20
        }
      ]
    },
    {
      "cell_type": "code",
      "metadata": {
        "colab": {
          "base_uri": "https://localhost:8080/"
        },
        "id": "UQqe45j5LHcm",
        "outputId": "763ad8dd-522a-41bc-83af-e2ea62d8b737"
      },
      "source": [
        "stock_values.sum()"
      ],
      "execution_count": null,
      "outputs": [
        {
          "output_type": "execute_result",
          "data": {
            "text/plain": [
              "22"
            ]
          },
          "metadata": {
            "tags": []
          },
          "execution_count": 21
        }
      ]
    },
    {
      "cell_type": "code",
      "metadata": {
        "colab": {
          "base_uri": "https://localhost:8080/"
        },
        "id": "DuNgi8baNXew",
        "outputId": "65f79651-cd4f-42cd-9c2d-66b5b132da2a"
      },
      "source": [
        "df1.Exchange.str.contains('Stock').sum()"
      ],
      "execution_count": null,
      "outputs": [
        {
          "output_type": "execute_result",
          "data": {
            "text/plain": [
              "10"
            ]
          },
          "metadata": {
            "tags": []
          },
          "execution_count": 22
        }
      ]
    },
    {
      "cell_type": "code",
      "metadata": {
        "colab": {
          "base_uri": "https://localhost:8080/"
        },
        "id": "a54o3Vr2ODBS",
        "outputId": "fa701933-d774-456c-8f5d-754b1fa6edae"
      },
      "source": [
        "df1.Exchange.str.contains('Stock')"
      ],
      "execution_count": null,
      "outputs": [
        {
          "output_type": "execute_result",
          "data": {
            "text/plain": [
              "0      True\n",
              "1     False\n",
              "2      True\n",
              "3      True\n",
              "4      True\n",
              "5     False\n",
              "6      True\n",
              "7      True\n",
              "8      True\n",
              "9      True\n",
              "10    False\n",
              "11    False\n",
              "12     True\n",
              "13     True\n",
              "Name: Exchange, dtype: bool"
            ]
          },
          "metadata": {
            "tags": []
          },
          "execution_count": 23
        }
      ]
    },
    {
      "cell_type": "code",
      "metadata": {
        "colab": {
          "base_uri": "https://localhost:8080/"
        },
        "id": "n4jMyL2eU_OQ",
        "outputId": "b5498fab-4dc2-4568-bf4d-497abe3d9874"
      },
      "source": [
        "series = pd.Series(df1.Region)\n",
        "series"
      ],
      "execution_count": null,
      "outputs": [
        {
          "output_type": "execute_result",
          "data": {
            "text/plain": [
              "0     United States\n",
              "1     United States\n",
              "2         Hong Kong\n",
              "3             China\n",
              "4             Japan\n",
              "5            Europe\n",
              "6             China\n",
              "7            Canada\n",
              "8             India\n",
              "9           Germany\n",
              "10            Korea\n",
              "11      Switzerland\n",
              "12           Taiwan\n",
              "13     South Africa\n",
              "Name: Region, dtype: object"
            ]
          },
          "metadata": {
            "tags": []
          },
          "execution_count": 24
        }
      ]
    },
    {
      "cell_type": "code",
      "metadata": {
        "colab": {
          "base_uri": "https://localhost:8080/"
        },
        "id": "OGHFqPDwY2Pb",
        "outputId": "eff0100f-ebe6-4f47-f15e-773d9206fb9d"
      },
      "source": [
        "ingredients = pd.Series(['4 cups', '1 cup', '2 large', '1 can'],index=['Flour', 'Milk', 'Eggs', 'spam'], name ='Dinner')\n",
        "ingredients"
      ],
      "execution_count": null,
      "outputs": [
        {
          "output_type": "execute_result",
          "data": {
            "text/plain": [
              "Flour     4 cups\n",
              "Milk       1 cup\n",
              "Eggs     2 large\n",
              "spam       1 can\n",
              "Name: Dinner, dtype: object"
            ]
          },
          "metadata": {
            "tags": []
          },
          "execution_count": 25
        }
      ]
    },
    {
      "cell_type": "code",
      "metadata": {
        "colab": {
          "base_uri": "https://localhost:8080/"
        },
        "id": "YhhttjgPt85d",
        "outputId": "336e6e2a-592c-4ae7-d798-453430eb24ca"
      },
      "source": [
        "!ls /content"
      ],
      "execution_count": null,
      "outputs": [
        {
          "output_type": "stream",
          "text": [
            "indexData.csv  indexProcessed.csv  sample_data\n",
            "indexInfo.csv  kaggle.json\t   stock-exchange-data.zip\n"
          ],
          "name": "stdout"
        }
      ]
    },
    {
      "cell_type": "code",
      "metadata": {
        "colab": {
          "base_uri": "https://localhost:8080/",
          "height": 483
        },
        "id": "f5rGAx-NwuBN",
        "outputId": "df9d6b46-4e23-4cca-f1e6-b589d42447d2"
      },
      "source": [
        "df1"
      ],
      "execution_count": null,
      "outputs": [
        {
          "output_type": "execute_result",
          "data": {
            "text/html": [
              "<div>\n",
              "<style scoped>\n",
              "    .dataframe tbody tr th:only-of-type {\n",
              "        vertical-align: middle;\n",
              "    }\n",
              "\n",
              "    .dataframe tbody tr th {\n",
              "        vertical-align: top;\n",
              "    }\n",
              "\n",
              "    .dataframe thead th {\n",
              "        text-align: right;\n",
              "    }\n",
              "</style>\n",
              "<table border=\"1\" class=\"dataframe\">\n",
              "  <thead>\n",
              "    <tr style=\"text-align: right;\">\n",
              "      <th></th>\n",
              "      <th>Region</th>\n",
              "      <th>Exchange</th>\n",
              "      <th>Index</th>\n",
              "      <th>Currency</th>\n",
              "    </tr>\n",
              "  </thead>\n",
              "  <tbody>\n",
              "    <tr>\n",
              "      <th>0</th>\n",
              "      <td>United States</td>\n",
              "      <td>New York Stock Exchange</td>\n",
              "      <td>NYA</td>\n",
              "      <td>USD</td>\n",
              "    </tr>\n",
              "    <tr>\n",
              "      <th>1</th>\n",
              "      <td>United States</td>\n",
              "      <td>NASDAQ</td>\n",
              "      <td>IXIC</td>\n",
              "      <td>USD</td>\n",
              "    </tr>\n",
              "    <tr>\n",
              "      <th>2</th>\n",
              "      <td>Hong Kong</td>\n",
              "      <td>Hong Kong Stock Exchange</td>\n",
              "      <td>HSI</td>\n",
              "      <td>HKD</td>\n",
              "    </tr>\n",
              "    <tr>\n",
              "      <th>3</th>\n",
              "      <td>China</td>\n",
              "      <td>Shanghai Stock Exchange</td>\n",
              "      <td>000001.SS</td>\n",
              "      <td>CNY</td>\n",
              "    </tr>\n",
              "    <tr>\n",
              "      <th>4</th>\n",
              "      <td>Japan</td>\n",
              "      <td>Tokyo Stock Exchange</td>\n",
              "      <td>N225</td>\n",
              "      <td>JPY</td>\n",
              "    </tr>\n",
              "    <tr>\n",
              "      <th>5</th>\n",
              "      <td>Europe</td>\n",
              "      <td>Euronext</td>\n",
              "      <td>N100</td>\n",
              "      <td>EUR</td>\n",
              "    </tr>\n",
              "    <tr>\n",
              "      <th>6</th>\n",
              "      <td>China</td>\n",
              "      <td>Shenzhen Stock Exchange</td>\n",
              "      <td>399001.SZ</td>\n",
              "      <td>CNY</td>\n",
              "    </tr>\n",
              "    <tr>\n",
              "      <th>7</th>\n",
              "      <td>Canada</td>\n",
              "      <td>Toronto Stock Exchange</td>\n",
              "      <td>GSPTSE</td>\n",
              "      <td>CAD</td>\n",
              "    </tr>\n",
              "    <tr>\n",
              "      <th>8</th>\n",
              "      <td>India</td>\n",
              "      <td>National Stock Exchange of India</td>\n",
              "      <td>NSEI</td>\n",
              "      <td>INR</td>\n",
              "    </tr>\n",
              "    <tr>\n",
              "      <th>9</th>\n",
              "      <td>Germany</td>\n",
              "      <td>Frankfurt Stock Exchange</td>\n",
              "      <td>GDAXI</td>\n",
              "      <td>EUR</td>\n",
              "    </tr>\n",
              "    <tr>\n",
              "      <th>10</th>\n",
              "      <td>Korea</td>\n",
              "      <td>Korea Exchange</td>\n",
              "      <td>KS11</td>\n",
              "      <td>KRW</td>\n",
              "    </tr>\n",
              "    <tr>\n",
              "      <th>11</th>\n",
              "      <td>Switzerland</td>\n",
              "      <td>SIX Swiss Exchange</td>\n",
              "      <td>SSMI</td>\n",
              "      <td>CHF</td>\n",
              "    </tr>\n",
              "    <tr>\n",
              "      <th>12</th>\n",
              "      <td>Taiwan</td>\n",
              "      <td>Taiwan Stock Exchange</td>\n",
              "      <td>TWII</td>\n",
              "      <td>TWD</td>\n",
              "    </tr>\n",
              "    <tr>\n",
              "      <th>13</th>\n",
              "      <td>South Africa</td>\n",
              "      <td>Johannesburg Stock Exchange</td>\n",
              "      <td>J203.JO</td>\n",
              "      <td>ZAR</td>\n",
              "    </tr>\n",
              "  </tbody>\n",
              "</table>\n",
              "</div>"
            ],
            "text/plain": [
              "           Region                          Exchange      Index Currency\n",
              "0   United States           New York Stock Exchange        NYA      USD\n",
              "1   United States                            NASDAQ       IXIC      USD\n",
              "2       Hong Kong          Hong Kong Stock Exchange        HSI      HKD\n",
              "3           China           Shanghai Stock Exchange  000001.SS      CNY\n",
              "4           Japan              Tokyo Stock Exchange       N225      JPY\n",
              "5          Europe                          Euronext       N100      EUR\n",
              "6           China           Shenzhen Stock Exchange  399001.SZ      CNY\n",
              "7          Canada            Toronto Stock Exchange     GSPTSE      CAD\n",
              "8           India  National Stock Exchange of India       NSEI      INR\n",
              "9         Germany          Frankfurt Stock Exchange      GDAXI      EUR\n",
              "10          Korea                    Korea Exchange       KS11      KRW\n",
              "11    Switzerland                SIX Swiss Exchange       SSMI      CHF\n",
              "12         Taiwan             Taiwan Stock Exchange       TWII      TWD\n",
              "13   South Africa       Johannesburg Stock Exchange    J203.JO      ZAR"
            ]
          },
          "metadata": {
            "tags": []
          },
          "execution_count": 27
        }
      ]
    },
    {
      "cell_type": "code",
      "metadata": {
        "colab": {
          "base_uri": "https://localhost:8080/"
        },
        "id": "Pu-0_clSwxWK",
        "outputId": "93f19783-aa1d-4a36-9fca-8bf6dbb3e3fa"
      },
      "source": [
        "df1.groupby('Region').apply(lambda fs: fs.Index.iloc[0])"
      ],
      "execution_count": null,
      "outputs": [
        {
          "output_type": "execute_result",
          "data": {
            "text/plain": [
              "Region\n",
              "Canada              GSPTSE\n",
              "China            000001.SS\n",
              "Europe                N100\n",
              "Germany              GDAXI\n",
              "Hong Kong              HSI\n",
              "India                 NSEI\n",
              "Japan                 N225\n",
              "Korea                 KS11\n",
              "South Africa       J203.JO\n",
              "Switzerland           SSMI\n",
              "Taiwan                TWII\n",
              "United States          NYA\n",
              "dtype: object"
            ]
          },
          "metadata": {
            "tags": []
          },
          "execution_count": 28
        }
      ]
    },
    {
      "cell_type": "code",
      "metadata": {
        "colab": {
          "base_uri": "https://localhost:8080/"
        },
        "id": "I-f2gzmIyi4Q",
        "outputId": "e0b5dded-6178-4ef1-d1f4-57ef3dee60d6"
      },
      "source": [
        "!kaggle datasets download -d supratimhaldar/allsides-ratings-of-bias-in-electronic-media"
      ],
      "execution_count": null,
      "outputs": [
        {
          "output_type": "stream",
          "text": [
            "Downloading allsides-ratings-of-bias-in-electronic-media.zip to /content\n",
            "\r  0% 0.00/31.6k [00:00<?, ?B/s]\n",
            "\r100% 31.6k/31.6k [00:00<00:00, 52.7MB/s]\n"
          ],
          "name": "stdout"
        }
      ]
    },
    {
      "cell_type": "code",
      "metadata": {
        "colab": {
          "base_uri": "https://localhost:8080/"
        },
        "id": "Dxluxqn50AWm",
        "outputId": "930601f2-3520-42bd-f1d9-db47d2c4bd45"
      },
      "source": [
        "!unzip '/content/allsides-ratings-of-bias-in-electronic-media' -d '/content/'"
      ],
      "execution_count": null,
      "outputs": [
        {
          "output_type": "stream",
          "text": [
            "Archive:  /content/allsides-ratings-of-bias-in-electronic-media.zip\n",
            "  inflating: /content/allsides.csv   \n",
            "  inflating: /content/allsides.json  \n"
          ],
          "name": "stdout"
        }
      ]
    },
    {
      "cell_type": "code",
      "metadata": {
        "colab": {
          "base_uri": "https://localhost:8080/"
        },
        "id": "MrqOv2Jl0Nxf",
        "outputId": "f194aaed-4dbc-42de-ec4b-da5da17e2d7c"
      },
      "source": [
        "!ls /content/"
      ],
      "execution_count": null,
      "outputs": [
        {
          "output_type": "stream",
          "text": [
            "allsides.csv\t\t\t\t\t  indexProcessed.csv\n",
            "allsides.json\t\t\t\t\t  kaggle.json\n",
            "allsides-ratings-of-bias-in-electronic-media.zip  sample_data\n",
            "indexData.csv\t\t\t\t\t  stock-exchange-data.zip\n",
            "indexInfo.csv\n"
          ],
          "name": "stdout"
        }
      ]
    },
    {
      "cell_type": "code",
      "metadata": {
        "colab": {
          "base_uri": "https://localhost:8080/",
          "height": 419
        },
        "id": "DS7l3R_40eLX",
        "outputId": "e381525e-4afa-42bc-f5e6-6cde9bc9caf1"
      },
      "source": [
        "rating_df = pd.read_csv('allsides.csv')\n",
        "rating_df"
      ],
      "execution_count": 5,
      "outputs": [
        {
          "output_type": "execute_result",
          "data": {
            "text/html": [
              "<div>\n",
              "<style scoped>\n",
              "    .dataframe tbody tr th:only-of-type {\n",
              "        vertical-align: middle;\n",
              "    }\n",
              "\n",
              "    .dataframe tbody tr th {\n",
              "        vertical-align: top;\n",
              "    }\n",
              "\n",
              "    .dataframe thead th {\n",
              "        text-align: right;\n",
              "    }\n",
              "</style>\n",
              "<table border=\"1\" class=\"dataframe\">\n",
              "  <thead>\n",
              "    <tr style=\"text-align: right;\">\n",
              "      <th></th>\n",
              "      <th>name</th>\n",
              "      <th>bias</th>\n",
              "      <th>total_votes</th>\n",
              "      <th>agree</th>\n",
              "      <th>disagree</th>\n",
              "      <th>agree_ratio</th>\n",
              "      <th>agreeance_text</th>\n",
              "      <th>allsides_page</th>\n",
              "    </tr>\n",
              "  </thead>\n",
              "  <tbody>\n",
              "    <tr>\n",
              "      <th>0</th>\n",
              "      <td>ABC News (Online)</td>\n",
              "      <td>left-center</td>\n",
              "      <td>51173</td>\n",
              "      <td>33893</td>\n",
              "      <td>17280</td>\n",
              "      <td>1.961400</td>\n",
              "      <td>Agrees</td>\n",
              "      <td>https://www.allsides.com/news-source/abc-news-...</td>\n",
              "    </tr>\n",
              "    <tr>\n",
              "      <th>1</th>\n",
              "      <td>Above The Law</td>\n",
              "      <td>left-center</td>\n",
              "      <td>346</td>\n",
              "      <td>234</td>\n",
              "      <td>112</td>\n",
              "      <td>2.089286</td>\n",
              "      <td>Strongly Agrees</td>\n",
              "      <td>https://www.allsides.com/news-source/above-law...</td>\n",
              "    </tr>\n",
              "    <tr>\n",
              "      <th>2</th>\n",
              "      <td>Abridge News</td>\n",
              "      <td>allsides</td>\n",
              "      <td>593</td>\n",
              "      <td>367</td>\n",
              "      <td>226</td>\n",
              "      <td>1.623894</td>\n",
              "      <td>Agrees</td>\n",
              "      <td>https://www.allsides.com/news-source/abridge-n...</td>\n",
              "    </tr>\n",
              "    <tr>\n",
              "      <th>3</th>\n",
              "      <td>AJ+</td>\n",
              "      <td>left</td>\n",
              "      <td>740</td>\n",
              "      <td>564</td>\n",
              "      <td>176</td>\n",
              "      <td>3.204545</td>\n",
              "      <td>Absolutely Agrees</td>\n",
              "      <td>https://www.allsides.com/news-source/aj-media-...</td>\n",
              "    </tr>\n",
              "    <tr>\n",
              "      <th>4</th>\n",
              "      <td>Al Jazeera</td>\n",
              "      <td>left-center</td>\n",
              "      <td>12095</td>\n",
              "      <td>4798</td>\n",
              "      <td>7297</td>\n",
              "      <td>0.657530</td>\n",
              "      <td>Disagrees</td>\n",
              "      <td>https://www.allsides.com/news-source/al-jazeer...</td>\n",
              "    </tr>\n",
              "    <tr>\n",
              "      <th>...</th>\n",
              "      <td>...</td>\n",
              "      <td>...</td>\n",
              "      <td>...</td>\n",
              "      <td>...</td>\n",
              "      <td>...</td>\n",
              "      <td>...</td>\n",
              "      <td>...</td>\n",
              "      <td>...</td>\n",
              "    </tr>\n",
              "    <tr>\n",
              "      <th>433</th>\n",
              "      <td>WND.com</td>\n",
              "      <td>right</td>\n",
              "      <td>1109</td>\n",
              "      <td>796</td>\n",
              "      <td>313</td>\n",
              "      <td>2.543131</td>\n",
              "      <td>Strongly Agrees</td>\n",
              "      <td>https://www.allsides.com/news-source/wndcom</td>\n",
              "    </tr>\n",
              "    <tr>\n",
              "      <th>434</th>\n",
              "      <td>Yahoo News</td>\n",
              "      <td>left-center</td>\n",
              "      <td>6147</td>\n",
              "      <td>3746</td>\n",
              "      <td>2401</td>\n",
              "      <td>1.560183</td>\n",
              "      <td>Agrees</td>\n",
              "      <td>https://www.allsides.com/news-source/yahoo-new...</td>\n",
              "    </tr>\n",
              "    <tr>\n",
              "      <th>435</th>\n",
              "      <td>Yahoo! The 360</td>\n",
              "      <td>allsides</td>\n",
              "      <td>449</td>\n",
              "      <td>170</td>\n",
              "      <td>279</td>\n",
              "      <td>0.609319</td>\n",
              "      <td>Disagrees</td>\n",
              "      <td>https://www.allsides.com/news-source/yahoo-360...</td>\n",
              "    </tr>\n",
              "    <tr>\n",
              "      <th>436</th>\n",
              "      <td>Yes! Magazine</td>\n",
              "      <td>left</td>\n",
              "      <td>689</td>\n",
              "      <td>453</td>\n",
              "      <td>236</td>\n",
              "      <td>1.919492</td>\n",
              "      <td>Agrees</td>\n",
              "      <td>https://www.allsides.com/news-source/yes-magazine</td>\n",
              "    </tr>\n",
              "    <tr>\n",
              "      <th>437</th>\n",
              "      <td>ZeroHedge</td>\n",
              "      <td>right-center</td>\n",
              "      <td>229</td>\n",
              "      <td>135</td>\n",
              "      <td>94</td>\n",
              "      <td>1.436170</td>\n",
              "      <td>Somewhat Agrees</td>\n",
              "      <td>https://www.allsides.com/news-source/zerohedge...</td>\n",
              "    </tr>\n",
              "  </tbody>\n",
              "</table>\n",
              "<p>438 rows × 8 columns</p>\n",
              "</div>"
            ],
            "text/plain": [
              "                  name  ...                                      allsides_page\n",
              "0    ABC News (Online)  ...  https://www.allsides.com/news-source/abc-news-...\n",
              "1        Above The Law  ...  https://www.allsides.com/news-source/above-law...\n",
              "2         Abridge News  ...  https://www.allsides.com/news-source/abridge-n...\n",
              "3                  AJ+  ...  https://www.allsides.com/news-source/aj-media-...\n",
              "4           Al Jazeera  ...  https://www.allsides.com/news-source/al-jazeer...\n",
              "..                 ...  ...                                                ...\n",
              "433            WND.com  ...        https://www.allsides.com/news-source/wndcom\n",
              "434         Yahoo News  ...  https://www.allsides.com/news-source/yahoo-new...\n",
              "435     Yahoo! The 360  ...  https://www.allsides.com/news-source/yahoo-360...\n",
              "436      Yes! Magazine  ...  https://www.allsides.com/news-source/yes-magazine\n",
              "437          ZeroHedge  ...  https://www.allsides.com/news-source/zerohedge...\n",
              "\n",
              "[438 rows x 8 columns]"
            ]
          },
          "metadata": {
            "tags": []
          },
          "execution_count": 5
        }
      ]
    },
    {
      "cell_type": "code",
      "metadata": {
        "colab": {
          "base_uri": "https://localhost:8080/",
          "height": 620
        },
        "id": "HJX5i0h40-9q",
        "outputId": "fca830bc-2f6f-4905-aa1f-af0c1d36deea"
      },
      "source": [
        "rating_df.groupby(['name', 'bias']).apply(lambda df: df.loc[df.agree.idxmax()])"
      ],
      "execution_count": null,
      "outputs": [
        {
          "output_type": "execute_result",
          "data": {
            "text/html": [
              "<div>\n",
              "<style scoped>\n",
              "    .dataframe tbody tr th:only-of-type {\n",
              "        vertical-align: middle;\n",
              "    }\n",
              "\n",
              "    .dataframe tbody tr th {\n",
              "        vertical-align: top;\n",
              "    }\n",
              "\n",
              "    .dataframe thead th {\n",
              "        text-align: right;\n",
              "    }\n",
              "</style>\n",
              "<table border=\"1\" class=\"dataframe\">\n",
              "  <thead>\n",
              "    <tr style=\"text-align: right;\">\n",
              "      <th></th>\n",
              "      <th></th>\n",
              "      <th>name</th>\n",
              "      <th>bias</th>\n",
              "      <th>total_votes</th>\n",
              "      <th>agree</th>\n",
              "      <th>disagree</th>\n",
              "      <th>agree_ratio</th>\n",
              "      <th>agreeance_text</th>\n",
              "      <th>allsides_page</th>\n",
              "    </tr>\n",
              "    <tr>\n",
              "      <th>name</th>\n",
              "      <th>bias</th>\n",
              "      <th></th>\n",
              "      <th></th>\n",
              "      <th></th>\n",
              "      <th></th>\n",
              "      <th></th>\n",
              "      <th></th>\n",
              "      <th></th>\n",
              "      <th></th>\n",
              "    </tr>\n",
              "  </thead>\n",
              "  <tbody>\n",
              "    <tr>\n",
              "      <th>ABC News (Online)</th>\n",
              "      <th>left-center</th>\n",
              "      <td>ABC News (Online)</td>\n",
              "      <td>left-center</td>\n",
              "      <td>51173</td>\n",
              "      <td>33893</td>\n",
              "      <td>17280</td>\n",
              "      <td>1.961400</td>\n",
              "      <td>Agrees</td>\n",
              "      <td>https://www.allsides.com/news-source/abc-news-...</td>\n",
              "    </tr>\n",
              "    <tr>\n",
              "      <th>AJ+</th>\n",
              "      <th>left</th>\n",
              "      <td>AJ+</td>\n",
              "      <td>left</td>\n",
              "      <td>740</td>\n",
              "      <td>564</td>\n",
              "      <td>176</td>\n",
              "      <td>3.204545</td>\n",
              "      <td>Absolutely Agrees</td>\n",
              "      <td>https://www.allsides.com/news-source/aj-media-...</td>\n",
              "    </tr>\n",
              "    <tr>\n",
              "      <th>AP Politics &amp; Fact Check</th>\n",
              "      <th>left-center</th>\n",
              "      <td>AP Politics &amp; Fact Check</td>\n",
              "      <td>left-center</td>\n",
              "      <td>9027</td>\n",
              "      <td>4142</td>\n",
              "      <td>4885</td>\n",
              "      <td>0.847902</td>\n",
              "      <td>Somewhat Disagrees</td>\n",
              "      <td>https://www.allsides.com/news-source/ap-fact-c...</td>\n",
              "    </tr>\n",
              "    <tr>\n",
              "      <th>AZ Central</th>\n",
              "      <th>center</th>\n",
              "      <td>AZ Central</td>\n",
              "      <td>center</td>\n",
              "      <td>586</td>\n",
              "      <td>221</td>\n",
              "      <td>365</td>\n",
              "      <td>0.605479</td>\n",
              "      <td>Disagrees</td>\n",
              "      <td>https://www.allsides.com/news-source/az-centra...</td>\n",
              "    </tr>\n",
              "    <tr>\n",
              "      <th>Above The Law</th>\n",
              "      <th>left-center</th>\n",
              "      <td>Above The Law</td>\n",
              "      <td>left-center</td>\n",
              "      <td>346</td>\n",
              "      <td>234</td>\n",
              "      <td>112</td>\n",
              "      <td>2.089286</td>\n",
              "      <td>Strongly Agrees</td>\n",
              "      <td>https://www.allsides.com/news-source/above-law...</td>\n",
              "    </tr>\n",
              "    <tr>\n",
              "      <th>...</th>\n",
              "      <th>...</th>\n",
              "      <td>...</td>\n",
              "      <td>...</td>\n",
              "      <td>...</td>\n",
              "      <td>...</td>\n",
              "      <td>...</td>\n",
              "      <td>...</td>\n",
              "      <td>...</td>\n",
              "      <td>...</td>\n",
              "    </tr>\n",
              "    <tr>\n",
              "      <th>Wisconsin Gazette</th>\n",
              "      <th>left-center</th>\n",
              "      <td>Wisconsin Gazette</td>\n",
              "      <td>left-center</td>\n",
              "      <td>465</td>\n",
              "      <td>246</td>\n",
              "      <td>219</td>\n",
              "      <td>1.123288</td>\n",
              "      <td>Somewhat Agrees</td>\n",
              "      <td>https://www.allsides.com/news-source/wisconsin...</td>\n",
              "    </tr>\n",
              "    <tr>\n",
              "      <th>Yahoo News</th>\n",
              "      <th>left-center</th>\n",
              "      <td>Yahoo News</td>\n",
              "      <td>left-center</td>\n",
              "      <td>6147</td>\n",
              "      <td>3746</td>\n",
              "      <td>2401</td>\n",
              "      <td>1.560183</td>\n",
              "      <td>Agrees</td>\n",
              "      <td>https://www.allsides.com/news-source/yahoo-new...</td>\n",
              "    </tr>\n",
              "    <tr>\n",
              "      <th>Yahoo! The 360</th>\n",
              "      <th>allsides</th>\n",
              "      <td>Yahoo! The 360</td>\n",
              "      <td>allsides</td>\n",
              "      <td>449</td>\n",
              "      <td>170</td>\n",
              "      <td>279</td>\n",
              "      <td>0.609319</td>\n",
              "      <td>Disagrees</td>\n",
              "      <td>https://www.allsides.com/news-source/yahoo-360...</td>\n",
              "    </tr>\n",
              "    <tr>\n",
              "      <th>Yes! Magazine</th>\n",
              "      <th>left</th>\n",
              "      <td>Yes! Magazine</td>\n",
              "      <td>left</td>\n",
              "      <td>689</td>\n",
              "      <td>453</td>\n",
              "      <td>236</td>\n",
              "      <td>1.919492</td>\n",
              "      <td>Agrees</td>\n",
              "      <td>https://www.allsides.com/news-source/yes-magazine</td>\n",
              "    </tr>\n",
              "    <tr>\n",
              "      <th>ZeroHedge</th>\n",
              "      <th>right-center</th>\n",
              "      <td>ZeroHedge</td>\n",
              "      <td>right-center</td>\n",
              "      <td>229</td>\n",
              "      <td>135</td>\n",
              "      <td>94</td>\n",
              "      <td>1.436170</td>\n",
              "      <td>Somewhat Agrees</td>\n",
              "      <td>https://www.allsides.com/news-source/zerohedge...</td>\n",
              "    </tr>\n",
              "  </tbody>\n",
              "</table>\n",
              "<p>438 rows × 8 columns</p>\n",
              "</div>"
            ],
            "text/plain": [
              "                                                           name  ...                                      allsides_page\n",
              "name                     bias                                    ...                                                   \n",
              "ABC News (Online)        left-center          ABC News (Online)  ...  https://www.allsides.com/news-source/abc-news-...\n",
              "AJ+                      left                               AJ+  ...  https://www.allsides.com/news-source/aj-media-...\n",
              "AP Politics & Fact Check left-center   AP Politics & Fact Check  ...  https://www.allsides.com/news-source/ap-fact-c...\n",
              "AZ Central               center                      AZ Central  ...  https://www.allsides.com/news-source/az-centra...\n",
              "Above The Law            left-center              Above The Law  ...  https://www.allsides.com/news-source/above-law...\n",
              "...                                                         ...  ...                                                ...\n",
              "Wisconsin Gazette        left-center          Wisconsin Gazette  ...  https://www.allsides.com/news-source/wisconsin...\n",
              "Yahoo News               left-center                 Yahoo News  ...  https://www.allsides.com/news-source/yahoo-new...\n",
              "Yahoo! The 360           allsides                Yahoo! The 360  ...  https://www.allsides.com/news-source/yahoo-360...\n",
              "Yes! Magazine            left                     Yes! Magazine  ...  https://www.allsides.com/news-source/yes-magazine\n",
              "ZeroHedge                right-center                 ZeroHedge  ...  https://www.allsides.com/news-source/zerohedge...\n",
              "\n",
              "[438 rows x 8 columns]"
            ]
          },
          "metadata": {
            "tags": []
          },
          "execution_count": 33
        }
      ]
    },
    {
      "cell_type": "code",
      "metadata": {
        "colab": {
          "base_uri": "https://localhost:8080/",
          "height": 450
        },
        "id": "R2oFnHDpKd8p",
        "outputId": "186098f4-871b-44bc-baa8-5e10fb1cc4c9"
      },
      "source": [
        "rating_df.groupby(['name']).total_votes.agg([len, min, max])"
      ],
      "execution_count": 6,
      "outputs": [
        {
          "output_type": "execute_result",
          "data": {
            "text/html": [
              "<div>\n",
              "<style scoped>\n",
              "    .dataframe tbody tr th:only-of-type {\n",
              "        vertical-align: middle;\n",
              "    }\n",
              "\n",
              "    .dataframe tbody tr th {\n",
              "        vertical-align: top;\n",
              "    }\n",
              "\n",
              "    .dataframe thead th {\n",
              "        text-align: right;\n",
              "    }\n",
              "</style>\n",
              "<table border=\"1\" class=\"dataframe\">\n",
              "  <thead>\n",
              "    <tr style=\"text-align: right;\">\n",
              "      <th></th>\n",
              "      <th>len</th>\n",
              "      <th>min</th>\n",
              "      <th>max</th>\n",
              "    </tr>\n",
              "    <tr>\n",
              "      <th>name</th>\n",
              "      <th></th>\n",
              "      <th></th>\n",
              "      <th></th>\n",
              "    </tr>\n",
              "  </thead>\n",
              "  <tbody>\n",
              "    <tr>\n",
              "      <th>ABC News (Online)</th>\n",
              "      <td>1</td>\n",
              "      <td>51173</td>\n",
              "      <td>51173</td>\n",
              "    </tr>\n",
              "    <tr>\n",
              "      <th>AJ+</th>\n",
              "      <td>1</td>\n",
              "      <td>740</td>\n",
              "      <td>740</td>\n",
              "    </tr>\n",
              "    <tr>\n",
              "      <th>AP Politics &amp; Fact Check</th>\n",
              "      <td>1</td>\n",
              "      <td>9027</td>\n",
              "      <td>9027</td>\n",
              "    </tr>\n",
              "    <tr>\n",
              "      <th>AZ Central</th>\n",
              "      <td>1</td>\n",
              "      <td>586</td>\n",
              "      <td>586</td>\n",
              "    </tr>\n",
              "    <tr>\n",
              "      <th>Above The Law</th>\n",
              "      <td>1</td>\n",
              "      <td>346</td>\n",
              "      <td>346</td>\n",
              "    </tr>\n",
              "    <tr>\n",
              "      <th>...</th>\n",
              "      <td>...</td>\n",
              "      <td>...</td>\n",
              "      <td>...</td>\n",
              "    </tr>\n",
              "    <tr>\n",
              "      <th>Wisconsin Gazette</th>\n",
              "      <td>1</td>\n",
              "      <td>465</td>\n",
              "      <td>465</td>\n",
              "    </tr>\n",
              "    <tr>\n",
              "      <th>Yahoo News</th>\n",
              "      <td>1</td>\n",
              "      <td>6147</td>\n",
              "      <td>6147</td>\n",
              "    </tr>\n",
              "    <tr>\n",
              "      <th>Yahoo! The 360</th>\n",
              "      <td>1</td>\n",
              "      <td>449</td>\n",
              "      <td>449</td>\n",
              "    </tr>\n",
              "    <tr>\n",
              "      <th>Yes! Magazine</th>\n",
              "      <td>1</td>\n",
              "      <td>689</td>\n",
              "      <td>689</td>\n",
              "    </tr>\n",
              "    <tr>\n",
              "      <th>ZeroHedge</th>\n",
              "      <td>1</td>\n",
              "      <td>229</td>\n",
              "      <td>229</td>\n",
              "    </tr>\n",
              "  </tbody>\n",
              "</table>\n",
              "<p>438 rows × 3 columns</p>\n",
              "</div>"
            ],
            "text/plain": [
              "                          len    min    max\n",
              "name                                       \n",
              "ABC News (Online)           1  51173  51173\n",
              "AJ+                         1    740    740\n",
              "AP Politics & Fact Check    1   9027   9027\n",
              "AZ Central                  1    586    586\n",
              "Above The Law               1    346    346\n",
              "...                       ...    ...    ...\n",
              "Wisconsin Gazette           1    465    465\n",
              "Yahoo News                  1   6147   6147\n",
              "Yahoo! The 360              1    449    449\n",
              "Yes! Magazine               1    689    689\n",
              "ZeroHedge                   1    229    229\n",
              "\n",
              "[438 rows x 3 columns]"
            ]
          },
          "metadata": {
            "tags": []
          },
          "execution_count": 6
        }
      ]
    },
    {
      "cell_type": "code",
      "metadata": {
        "colab": {
          "base_uri": "https://localhost:8080/",
          "height": 514
        },
        "id": "kyBSQPewQVQI",
        "outputId": "302a0d26-e1d5-47de-c670-8adc64b6e266"
      },
      "source": [
        "index_df = df.groupby(['Index']).Open.agg([len, min, max])\n",
        "index_df"
      ],
      "execution_count": 14,
      "outputs": [
        {
          "output_type": "execute_result",
          "data": {
            "text/html": [
              "<div>\n",
              "<style scoped>\n",
              "    .dataframe tbody tr th:only-of-type {\n",
              "        vertical-align: middle;\n",
              "    }\n",
              "\n",
              "    .dataframe tbody tr th {\n",
              "        vertical-align: top;\n",
              "    }\n",
              "\n",
              "    .dataframe thead th {\n",
              "        text-align: right;\n",
              "    }\n",
              "</style>\n",
              "<table border=\"1\" class=\"dataframe\">\n",
              "  <thead>\n",
              "    <tr style=\"text-align: right;\">\n",
              "      <th></th>\n",
              "      <th>len</th>\n",
              "      <th>min</th>\n",
              "      <th>max</th>\n",
              "    </tr>\n",
              "    <tr>\n",
              "      <th>Index</th>\n",
              "      <th></th>\n",
              "      <th></th>\n",
              "      <th></th>\n",
              "    </tr>\n",
              "  </thead>\n",
              "  <tbody>\n",
              "    <tr>\n",
              "      <th>000001.SS</th>\n",
              "      <td>5963.0</td>\n",
              "      <td>1007.901001</td>\n",
              "      <td>6057.428223</td>\n",
              "    </tr>\n",
              "    <tr>\n",
              "      <th>399001.SZ</th>\n",
              "      <td>5928.0</td>\n",
              "      <td>2533.270020</td>\n",
              "      <td>19554.580080</td>\n",
              "    </tr>\n",
              "    <tr>\n",
              "      <th>GDAXI</th>\n",
              "      <td>8606.0</td>\n",
              "      <td>936.000000</td>\n",
              "      <td>15548.290040</td>\n",
              "    </tr>\n",
              "    <tr>\n",
              "      <th>GSPTSE</th>\n",
              "      <td>10776.0</td>\n",
              "      <td>1352.000000</td>\n",
              "      <td>19905.800780</td>\n",
              "    </tr>\n",
              "    <tr>\n",
              "      <th>HSI</th>\n",
              "      <td>8750.0</td>\n",
              "      <td>1950.500000</td>\n",
              "      <td>33335.480470</td>\n",
              "    </tr>\n",
              "    <tr>\n",
              "      <th>IXIC</th>\n",
              "      <td>12690.0</td>\n",
              "      <td>54.869999</td>\n",
              "      <td>14204.509770</td>\n",
              "    </tr>\n",
              "    <tr>\n",
              "      <th>J203.JO</th>\n",
              "      <td>2387.0</td>\n",
              "      <td>32887.449220</td>\n",
              "      <td>68775.062500</td>\n",
              "    </tr>\n",
              "    <tr>\n",
              "      <th>KS11</th>\n",
              "      <td>6181.0</td>\n",
              "      <td>283.410004</td>\n",
              "      <td>3239.919922</td>\n",
              "    </tr>\n",
              "    <tr>\n",
              "      <th>N100</th>\n",
              "      <td>5507.0</td>\n",
              "      <td>427.600006</td>\n",
              "      <td>1258.489990</td>\n",
              "    </tr>\n",
              "    <tr>\n",
              "      <th>N225</th>\n",
              "      <td>14500.0</td>\n",
              "      <td>1020.489990</td>\n",
              "      <td>38921.648440</td>\n",
              "    </tr>\n",
              "    <tr>\n",
              "      <th>NSEI</th>\n",
              "      <td>3381.0</td>\n",
              "      <td>2553.600098</td>\n",
              "      <td>15437.750000</td>\n",
              "    </tr>\n",
              "    <tr>\n",
              "      <th>NYA</th>\n",
              "      <td>13948.0</td>\n",
              "      <td>347.769989</td>\n",
              "      <td>16590.429690</td>\n",
              "    </tr>\n",
              "    <tr>\n",
              "      <th>SSMI</th>\n",
              "      <td>7830.0</td>\n",
              "      <td>1288.699951</td>\n",
              "      <td>11345.400390</td>\n",
              "    </tr>\n",
              "    <tr>\n",
              "      <th>TWII</th>\n",
              "      <td>6010.0</td>\n",
              "      <td>3475.870117</td>\n",
              "      <td>17646.929690</td>\n",
              "    </tr>\n",
              "  </tbody>\n",
              "</table>\n",
              "</div>"
            ],
            "text/plain": [
              "               len           min           max\n",
              "Index                                         \n",
              "000001.SS   5963.0   1007.901001   6057.428223\n",
              "399001.SZ   5928.0   2533.270020  19554.580080\n",
              "GDAXI       8606.0    936.000000  15548.290040\n",
              "GSPTSE     10776.0   1352.000000  19905.800780\n",
              "HSI         8750.0   1950.500000  33335.480470\n",
              "IXIC       12690.0     54.869999  14204.509770\n",
              "J203.JO     2387.0  32887.449220  68775.062500\n",
              "KS11        6181.0    283.410004   3239.919922\n",
              "N100        5507.0    427.600006   1258.489990\n",
              "N225       14500.0   1020.489990  38921.648440\n",
              "NSEI        3381.0   2553.600098  15437.750000\n",
              "NYA        13948.0    347.769989  16590.429690\n",
              "SSMI        7830.0   1288.699951  11345.400390\n",
              "TWII        6010.0   3475.870117  17646.929690"
            ]
          },
          "metadata": {
            "tags": []
          },
          "execution_count": 14
        }
      ]
    },
    {
      "cell_type": "code",
      "metadata": {
        "colab": {
          "base_uri": "https://localhost:8080/",
          "height": 514
        },
        "id": "X1ZjbQTuTqoE",
        "outputId": "56fa8fc1-c726-4555-9ab7-4fd0d90a1256"
      },
      "source": [
        "index_df.sort_values(by='len')"
      ],
      "execution_count": 15,
      "outputs": [
        {
          "output_type": "execute_result",
          "data": {
            "text/html": [
              "<div>\n",
              "<style scoped>\n",
              "    .dataframe tbody tr th:only-of-type {\n",
              "        vertical-align: middle;\n",
              "    }\n",
              "\n",
              "    .dataframe tbody tr th {\n",
              "        vertical-align: top;\n",
              "    }\n",
              "\n",
              "    .dataframe thead th {\n",
              "        text-align: right;\n",
              "    }\n",
              "</style>\n",
              "<table border=\"1\" class=\"dataframe\">\n",
              "  <thead>\n",
              "    <tr style=\"text-align: right;\">\n",
              "      <th></th>\n",
              "      <th>len</th>\n",
              "      <th>min</th>\n",
              "      <th>max</th>\n",
              "    </tr>\n",
              "    <tr>\n",
              "      <th>Index</th>\n",
              "      <th></th>\n",
              "      <th></th>\n",
              "      <th></th>\n",
              "    </tr>\n",
              "  </thead>\n",
              "  <tbody>\n",
              "    <tr>\n",
              "      <th>J203.JO</th>\n",
              "      <td>2387.0</td>\n",
              "      <td>32887.449220</td>\n",
              "      <td>68775.062500</td>\n",
              "    </tr>\n",
              "    <tr>\n",
              "      <th>NSEI</th>\n",
              "      <td>3381.0</td>\n",
              "      <td>2553.600098</td>\n",
              "      <td>15437.750000</td>\n",
              "    </tr>\n",
              "    <tr>\n",
              "      <th>N100</th>\n",
              "      <td>5507.0</td>\n",
              "      <td>427.600006</td>\n",
              "      <td>1258.489990</td>\n",
              "    </tr>\n",
              "    <tr>\n",
              "      <th>399001.SZ</th>\n",
              "      <td>5928.0</td>\n",
              "      <td>2533.270020</td>\n",
              "      <td>19554.580080</td>\n",
              "    </tr>\n",
              "    <tr>\n",
              "      <th>000001.SS</th>\n",
              "      <td>5963.0</td>\n",
              "      <td>1007.901001</td>\n",
              "      <td>6057.428223</td>\n",
              "    </tr>\n",
              "    <tr>\n",
              "      <th>TWII</th>\n",
              "      <td>6010.0</td>\n",
              "      <td>3475.870117</td>\n",
              "      <td>17646.929690</td>\n",
              "    </tr>\n",
              "    <tr>\n",
              "      <th>KS11</th>\n",
              "      <td>6181.0</td>\n",
              "      <td>283.410004</td>\n",
              "      <td>3239.919922</td>\n",
              "    </tr>\n",
              "    <tr>\n",
              "      <th>SSMI</th>\n",
              "      <td>7830.0</td>\n",
              "      <td>1288.699951</td>\n",
              "      <td>11345.400390</td>\n",
              "    </tr>\n",
              "    <tr>\n",
              "      <th>GDAXI</th>\n",
              "      <td>8606.0</td>\n",
              "      <td>936.000000</td>\n",
              "      <td>15548.290040</td>\n",
              "    </tr>\n",
              "    <tr>\n",
              "      <th>HSI</th>\n",
              "      <td>8750.0</td>\n",
              "      <td>1950.500000</td>\n",
              "      <td>33335.480470</td>\n",
              "    </tr>\n",
              "    <tr>\n",
              "      <th>GSPTSE</th>\n",
              "      <td>10776.0</td>\n",
              "      <td>1352.000000</td>\n",
              "      <td>19905.800780</td>\n",
              "    </tr>\n",
              "    <tr>\n",
              "      <th>IXIC</th>\n",
              "      <td>12690.0</td>\n",
              "      <td>54.869999</td>\n",
              "      <td>14204.509770</td>\n",
              "    </tr>\n",
              "    <tr>\n",
              "      <th>NYA</th>\n",
              "      <td>13948.0</td>\n",
              "      <td>347.769989</td>\n",
              "      <td>16590.429690</td>\n",
              "    </tr>\n",
              "    <tr>\n",
              "      <th>N225</th>\n",
              "      <td>14500.0</td>\n",
              "      <td>1020.489990</td>\n",
              "      <td>38921.648440</td>\n",
              "    </tr>\n",
              "  </tbody>\n",
              "</table>\n",
              "</div>"
            ],
            "text/plain": [
              "               len           min           max\n",
              "Index                                         \n",
              "J203.JO     2387.0  32887.449220  68775.062500\n",
              "NSEI        3381.0   2553.600098  15437.750000\n",
              "N100        5507.0    427.600006   1258.489990\n",
              "399001.SZ   5928.0   2533.270020  19554.580080\n",
              "000001.SS   5963.0   1007.901001   6057.428223\n",
              "TWII        6010.0   3475.870117  17646.929690\n",
              "KS11        6181.0    283.410004   3239.919922\n",
              "SSMI        7830.0   1288.699951  11345.400390\n",
              "GDAXI       8606.0    936.000000  15548.290040\n",
              "HSI         8750.0   1950.500000  33335.480470\n",
              "GSPTSE     10776.0   1352.000000  19905.800780\n",
              "IXIC       12690.0     54.869999  14204.509770\n",
              "NYA        13948.0    347.769989  16590.429690\n",
              "N225       14500.0   1020.489990  38921.648440"
            ]
          },
          "metadata": {
            "tags": []
          },
          "execution_count": 15
        }
      ]
    },
    {
      "cell_type": "code",
      "metadata": {
        "colab": {
          "base_uri": "https://localhost:8080/",
          "height": 35
        },
        "id": "hdbxjcmxR3I5",
        "outputId": "8c7c9fdd-b4b7-4d4b-b0f9-a7e5aaa1a505"
      },
      "source": [
        "df.Index.min()"
      ],
      "execution_count": 13,
      "outputs": [
        {
          "output_type": "execute_result",
          "data": {
            "application/vnd.google.colaboratory.intrinsic+json": {
              "type": "string"
            },
            "text/plain": [
              "'000001.SS'"
            ]
          },
          "metadata": {
            "tags": []
          },
          "execution_count": 13
        }
      ]
    },
    {
      "cell_type": "code",
      "metadata": {
        "colab": {
          "base_uri": "https://localhost:8080/",
          "height": 35
        },
        "id": "44DvxJ_aRqOJ",
        "outputId": "73355fd6-e697-4a76-f988-77647c89b900"
      },
      "source": [
        "df.Index.max()"
      ],
      "execution_count": 12,
      "outputs": [
        {
          "output_type": "execute_result",
          "data": {
            "application/vnd.google.colaboratory.intrinsic+json": {
              "type": "string"
            },
            "text/plain": [
              "'TWII'"
            ]
          },
          "metadata": {
            "tags": []
          },
          "execution_count": 12
        }
      ]
    },
    {
      "cell_type": "code",
      "metadata": {
        "colab": {
          "base_uri": "https://localhost:8080/",
          "height": 450
        },
        "id": "PPe5X9G1UcnZ",
        "outputId": "17c46102-732c-4a34-a120-9ee978dc3de1"
      },
      "source": [
        "date_df1 = df.groupby(['Date']).High.agg([len, min, max])\n",
        "date_df1"
      ],
      "execution_count": 17,
      "outputs": [
        {
          "output_type": "execute_result",
          "data": {
            "text/html": [
              "<div>\n",
              "<style scoped>\n",
              "    .dataframe tbody tr th:only-of-type {\n",
              "        vertical-align: middle;\n",
              "    }\n",
              "\n",
              "    .dataframe tbody tr th {\n",
              "        vertical-align: top;\n",
              "    }\n",
              "\n",
              "    .dataframe thead th {\n",
              "        text-align: right;\n",
              "    }\n",
              "</style>\n",
              "<table border=\"1\" class=\"dataframe\">\n",
              "  <thead>\n",
              "    <tr style=\"text-align: right;\">\n",
              "      <th></th>\n",
              "      <th>len</th>\n",
              "      <th>min</th>\n",
              "      <th>max</th>\n",
              "    </tr>\n",
              "    <tr>\n",
              "      <th>Date</th>\n",
              "      <th></th>\n",
              "      <th></th>\n",
              "      <th></th>\n",
              "    </tr>\n",
              "  </thead>\n",
              "  <tbody>\n",
              "    <tr>\n",
              "      <th>1965-01-05</th>\n",
              "      <td>1.0</td>\n",
              "      <td>1257.719971</td>\n",
              "      <td>1257.719971</td>\n",
              "    </tr>\n",
              "    <tr>\n",
              "      <th>1965-01-06</th>\n",
              "      <td>1.0</td>\n",
              "      <td>1263.989990</td>\n",
              "      <td>1263.989990</td>\n",
              "    </tr>\n",
              "    <tr>\n",
              "      <th>1965-01-07</th>\n",
              "      <td>1.0</td>\n",
              "      <td>1274.270020</td>\n",
              "      <td>1274.270020</td>\n",
              "    </tr>\n",
              "    <tr>\n",
              "      <th>1965-01-08</th>\n",
              "      <td>1.0</td>\n",
              "      <td>1286.430054</td>\n",
              "      <td>1286.430054</td>\n",
              "    </tr>\n",
              "    <tr>\n",
              "      <th>1965-01-11</th>\n",
              "      <td>1.0</td>\n",
              "      <td>NaN</td>\n",
              "      <td>NaN</td>\n",
              "    </tr>\n",
              "    <tr>\n",
              "      <th>...</th>\n",
              "      <td>...</td>\n",
              "      <td>...</td>\n",
              "      <td>...</td>\n",
              "    </tr>\n",
              "    <tr>\n",
              "      <th>2021-05-28</th>\n",
              "      <td>14.0</td>\n",
              "      <td>1259.209961</td>\n",
              "      <td>67726.562500</td>\n",
              "    </tr>\n",
              "    <tr>\n",
              "      <th>2021-05-31</th>\n",
              "      <td>12.0</td>\n",
              "      <td>1258.880005</td>\n",
              "      <td>68140.851560</td>\n",
              "    </tr>\n",
              "    <tr>\n",
              "      <th>2021-06-01</th>\n",
              "      <td>4.0</td>\n",
              "      <td>1265.660034</td>\n",
              "      <td>29075.470700</td>\n",
              "    </tr>\n",
              "    <tr>\n",
              "      <th>2021-06-02</th>\n",
              "      <td>3.0</td>\n",
              "      <td>1263.709961</td>\n",
              "      <td>29003.550780</td>\n",
              "    </tr>\n",
              "    <tr>\n",
              "      <th>2021-06-03</th>\n",
              "      <td>1.0</td>\n",
              "      <td>29157.160160</td>\n",
              "      <td>29157.160160</td>\n",
              "    </tr>\n",
              "  </tbody>\n",
              "</table>\n",
              "<p>14731 rows × 3 columns</p>\n",
              "</div>"
            ],
            "text/plain": [
              "             len           min           max\n",
              "Date                                        \n",
              "1965-01-05   1.0   1257.719971   1257.719971\n",
              "1965-01-06   1.0   1263.989990   1263.989990\n",
              "1965-01-07   1.0   1274.270020   1274.270020\n",
              "1965-01-08   1.0   1286.430054   1286.430054\n",
              "1965-01-11   1.0           NaN           NaN\n",
              "...          ...           ...           ...\n",
              "2021-05-28  14.0   1259.209961  67726.562500\n",
              "2021-05-31  12.0   1258.880005  68140.851560\n",
              "2021-06-01   4.0   1265.660034  29075.470700\n",
              "2021-06-02   3.0   1263.709961  29003.550780\n",
              "2021-06-03   1.0  29157.160160  29157.160160\n",
              "\n",
              "[14731 rows x 3 columns]"
            ]
          },
          "metadata": {
            "tags": []
          },
          "execution_count": 17
        }
      ]
    },
    {
      "cell_type": "code",
      "metadata": {
        "colab": {
          "base_uri": "https://localhost:8080/",
          "height": 419
        },
        "id": "KL_x4GuyVNfR",
        "outputId": "c5b829dd-1222-494e-a2ee-f3f27f67d7b8"
      },
      "source": [
        "date_df1 = date_df1.reset_index()\n",
        "date_df1"
      ],
      "execution_count": 20,
      "outputs": [
        {
          "output_type": "execute_result",
          "data": {
            "text/html": [
              "<div>\n",
              "<style scoped>\n",
              "    .dataframe tbody tr th:only-of-type {\n",
              "        vertical-align: middle;\n",
              "    }\n",
              "\n",
              "    .dataframe tbody tr th {\n",
              "        vertical-align: top;\n",
              "    }\n",
              "\n",
              "    .dataframe thead th {\n",
              "        text-align: right;\n",
              "    }\n",
              "</style>\n",
              "<table border=\"1\" class=\"dataframe\">\n",
              "  <thead>\n",
              "    <tr style=\"text-align: right;\">\n",
              "      <th></th>\n",
              "      <th>Date</th>\n",
              "      <th>len</th>\n",
              "      <th>min</th>\n",
              "      <th>max</th>\n",
              "    </tr>\n",
              "  </thead>\n",
              "  <tbody>\n",
              "    <tr>\n",
              "      <th>0</th>\n",
              "      <td>1965-01-05</td>\n",
              "      <td>1.0</td>\n",
              "      <td>1257.719971</td>\n",
              "      <td>1257.719971</td>\n",
              "    </tr>\n",
              "    <tr>\n",
              "      <th>1</th>\n",
              "      <td>1965-01-06</td>\n",
              "      <td>1.0</td>\n",
              "      <td>1263.989990</td>\n",
              "      <td>1263.989990</td>\n",
              "    </tr>\n",
              "    <tr>\n",
              "      <th>2</th>\n",
              "      <td>1965-01-07</td>\n",
              "      <td>1.0</td>\n",
              "      <td>1274.270020</td>\n",
              "      <td>1274.270020</td>\n",
              "    </tr>\n",
              "    <tr>\n",
              "      <th>3</th>\n",
              "      <td>1965-01-08</td>\n",
              "      <td>1.0</td>\n",
              "      <td>1286.430054</td>\n",
              "      <td>1286.430054</td>\n",
              "    </tr>\n",
              "    <tr>\n",
              "      <th>4</th>\n",
              "      <td>1965-01-11</td>\n",
              "      <td>1.0</td>\n",
              "      <td>NaN</td>\n",
              "      <td>NaN</td>\n",
              "    </tr>\n",
              "    <tr>\n",
              "      <th>...</th>\n",
              "      <td>...</td>\n",
              "      <td>...</td>\n",
              "      <td>...</td>\n",
              "      <td>...</td>\n",
              "    </tr>\n",
              "    <tr>\n",
              "      <th>14726</th>\n",
              "      <td>2021-05-28</td>\n",
              "      <td>14.0</td>\n",
              "      <td>1259.209961</td>\n",
              "      <td>67726.562500</td>\n",
              "    </tr>\n",
              "    <tr>\n",
              "      <th>14727</th>\n",
              "      <td>2021-05-31</td>\n",
              "      <td>12.0</td>\n",
              "      <td>1258.880005</td>\n",
              "      <td>68140.851560</td>\n",
              "    </tr>\n",
              "    <tr>\n",
              "      <th>14728</th>\n",
              "      <td>2021-06-01</td>\n",
              "      <td>4.0</td>\n",
              "      <td>1265.660034</td>\n",
              "      <td>29075.470700</td>\n",
              "    </tr>\n",
              "    <tr>\n",
              "      <th>14729</th>\n",
              "      <td>2021-06-02</td>\n",
              "      <td>3.0</td>\n",
              "      <td>1263.709961</td>\n",
              "      <td>29003.550780</td>\n",
              "    </tr>\n",
              "    <tr>\n",
              "      <th>14730</th>\n",
              "      <td>2021-06-03</td>\n",
              "      <td>1.0</td>\n",
              "      <td>29157.160160</td>\n",
              "      <td>29157.160160</td>\n",
              "    </tr>\n",
              "  </tbody>\n",
              "</table>\n",
              "<p>14731 rows × 4 columns</p>\n",
              "</div>"
            ],
            "text/plain": [
              "             Date   len           min           max\n",
              "0      1965-01-05   1.0   1257.719971   1257.719971\n",
              "1      1965-01-06   1.0   1263.989990   1263.989990\n",
              "2      1965-01-07   1.0   1274.270020   1274.270020\n",
              "3      1965-01-08   1.0   1286.430054   1286.430054\n",
              "4      1965-01-11   1.0           NaN           NaN\n",
              "...           ...   ...           ...           ...\n",
              "14726  2021-05-28  14.0   1259.209961  67726.562500\n",
              "14727  2021-05-31  12.0   1258.880005  68140.851560\n",
              "14728  2021-06-01   4.0   1265.660034  29075.470700\n",
              "14729  2021-06-02   3.0   1263.709961  29003.550780\n",
              "14730  2021-06-03   1.0  29157.160160  29157.160160\n",
              "\n",
              "[14731 rows x 4 columns]"
            ]
          },
          "metadata": {
            "tags": []
          },
          "execution_count": 20
        }
      ]
    },
    {
      "cell_type": "code",
      "metadata": {
        "colab": {
          "base_uri": "https://localhost:8080/",
          "height": 419
        },
        "id": "k5mkGC5fVrCv",
        "outputId": "f0301e45-f5c1-4851-ec86-f6e06dd4d9bd"
      },
      "source": [
        "date_df1.sort_values( by='min')"
      ],
      "execution_count": 21,
      "outputs": [
        {
          "output_type": "execute_result",
          "data": {
            "text/html": [
              "<div>\n",
              "<style scoped>\n",
              "    .dataframe tbody tr th:only-of-type {\n",
              "        vertical-align: middle;\n",
              "    }\n",
              "\n",
              "    .dataframe tbody tr th {\n",
              "        vertical-align: top;\n",
              "    }\n",
              "\n",
              "    .dataframe thead th {\n",
              "        text-align: right;\n",
              "    }\n",
              "</style>\n",
              "<table border=\"1\" class=\"dataframe\">\n",
              "  <thead>\n",
              "    <tr style=\"text-align: right;\">\n",
              "      <th></th>\n",
              "      <th>Date</th>\n",
              "      <th>len</th>\n",
              "      <th>min</th>\n",
              "      <th>max</th>\n",
              "    </tr>\n",
              "  </thead>\n",
              "  <tbody>\n",
              "    <tr>\n",
              "      <th>0</th>\n",
              "      <td>1965-01-05</td>\n",
              "      <td>1.0</td>\n",
              "      <td>1257.719971</td>\n",
              "      <td>1257.719971</td>\n",
              "    </tr>\n",
              "    <tr>\n",
              "      <th>1</th>\n",
              "      <td>1965-01-06</td>\n",
              "      <td>1.0</td>\n",
              "      <td>1263.989990</td>\n",
              "      <td>1263.989990</td>\n",
              "    </tr>\n",
              "    <tr>\n",
              "      <th>2</th>\n",
              "      <td>1965-01-07</td>\n",
              "      <td>1.0</td>\n",
              "      <td>1274.270020</td>\n",
              "      <td>1274.270020</td>\n",
              "    </tr>\n",
              "    <tr>\n",
              "      <th>3</th>\n",
              "      <td>1965-01-08</td>\n",
              "      <td>1.0</td>\n",
              "      <td>1286.430054</td>\n",
              "      <td>1286.430054</td>\n",
              "    </tr>\n",
              "    <tr>\n",
              "      <th>4</th>\n",
              "      <td>1965-01-11</td>\n",
              "      <td>1.0</td>\n",
              "      <td>NaN</td>\n",
              "      <td>NaN</td>\n",
              "    </tr>\n",
              "    <tr>\n",
              "      <th>...</th>\n",
              "      <td>...</td>\n",
              "      <td>...</td>\n",
              "      <td>...</td>\n",
              "      <td>...</td>\n",
              "    </tr>\n",
              "    <tr>\n",
              "      <th>14726</th>\n",
              "      <td>2021-05-28</td>\n",
              "      <td>14.0</td>\n",
              "      <td>1259.209961</td>\n",
              "      <td>67726.562500</td>\n",
              "    </tr>\n",
              "    <tr>\n",
              "      <th>14727</th>\n",
              "      <td>2021-05-31</td>\n",
              "      <td>12.0</td>\n",
              "      <td>1258.880005</td>\n",
              "      <td>68140.851560</td>\n",
              "    </tr>\n",
              "    <tr>\n",
              "      <th>14728</th>\n",
              "      <td>2021-06-01</td>\n",
              "      <td>4.0</td>\n",
              "      <td>1265.660034</td>\n",
              "      <td>29075.470700</td>\n",
              "    </tr>\n",
              "    <tr>\n",
              "      <th>14729</th>\n",
              "      <td>2021-06-02</td>\n",
              "      <td>3.0</td>\n",
              "      <td>1263.709961</td>\n",
              "      <td>29003.550780</td>\n",
              "    </tr>\n",
              "    <tr>\n",
              "      <th>14730</th>\n",
              "      <td>2021-06-03</td>\n",
              "      <td>1.0</td>\n",
              "      <td>29157.160160</td>\n",
              "      <td>29157.160160</td>\n",
              "    </tr>\n",
              "  </tbody>\n",
              "</table>\n",
              "<p>14731 rows × 4 columns</p>\n",
              "</div>"
            ],
            "text/plain": [
              "             Date   len           min           max\n",
              "0      1965-01-05   1.0   1257.719971   1257.719971\n",
              "1      1965-01-06   1.0   1263.989990   1263.989990\n",
              "2      1965-01-07   1.0   1274.270020   1274.270020\n",
              "3      1965-01-08   1.0   1286.430054   1286.430054\n",
              "4      1965-01-11   1.0           NaN           NaN\n",
              "...           ...   ...           ...           ...\n",
              "14726  2021-05-28  14.0   1259.209961  67726.562500\n",
              "14727  2021-05-31  12.0   1258.880005  68140.851560\n",
              "14728  2021-06-01   4.0   1265.660034  29075.470700\n",
              "14729  2021-06-02   3.0   1263.709961  29003.550780\n",
              "14730  2021-06-03   1.0  29157.160160  29157.160160\n",
              "\n",
              "[14731 rows x 4 columns]"
            ]
          },
          "metadata": {
            "tags": []
          },
          "execution_count": 21
        }
      ]
    },
    {
      "cell_type": "code",
      "metadata": {
        "colab": {
          "base_uri": "https://localhost:8080/"
        },
        "id": "ieCpjPIXODIH",
        "outputId": "4e400f89-3b31-4ed7-9ce7-cb590f384045"
      },
      "source": [
        "!ls /content/"
      ],
      "execution_count": 1,
      "outputs": [
        {
          "output_type": "stream",
          "text": [
            "allsides.csv\t\t\t\t\t  indexProcessed.csv\n",
            "allsides.json\t\t\t\t\t  kaggle.json\n",
            "allsides-ratings-of-bias-in-electronic-media.zip  sample_data\n",
            "indexData.csv\t\t\t\t\t  stock-exchange-data.zip\n",
            "indexInfo.csv\n"
          ],
          "name": "stdout"
        }
      ]
    }
  ]
}