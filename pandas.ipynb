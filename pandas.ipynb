{
  "nbformat": 4,
  "nbformat_minor": 0,
  "metadata": {
    "colab": {
      "name": "pandas.ipynb",
      "provenance": [],
      "collapsed_sections": [],
      "authorship_tag": "ABX9TyM4zhc8I/X+ub1Dfqk9VazZ",
      "include_colab_link": true
    },
    "kernelspec": {
      "name": "python3",
      "display_name": "Python 3"
    },
    "language_info": {
      "name": "python"
    }
  },
  "cells": [
    {
      "cell_type": "markdown",
      "metadata": {
        "id": "view-in-github",
        "colab_type": "text"
      },
      "source": [
        "<a href=\"https://colab.research.google.com/github/SIRI1023/SIRI1023.github.io/blob/master/pandas.ipynb\" target=\"_parent\"><img src=\"https://colab.research.google.com/assets/colab-badge.svg\" alt=\"Open In Colab\"/></a>"
      ]
    },
    {
      "cell_type": "markdown",
      "metadata": {
        "id": "qdjcd9QswF3W"
      },
      "source": [
        "pandas "
      ]
    },
    {
      "cell_type": "code",
      "metadata": {
        "colab": {
          "resources": {
            "http://localhost:8080/nbextensions/google.colab/files.js": {
              "data": "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",
              "ok": true,
              "headers": [
                [
                  "content-type",
                  "application/javascript"
                ]
              ],
              "status": 200,
              "status_text": "OK"
            }
          },
          "base_uri": "https://localhost:8080/",
          "height": 89
        },
        "id": "s_J0kN_Txkwu",
        "outputId": "f6b489d3-ad74-488b-c776-69fdda7bc584"
      },
      "source": [
        "! pip install -q kaggle\n",
        "\n",
        "from google.colab import files\n",
        "\n",
        "files.upload()"
      ],
      "execution_count": null,
      "outputs": [
        {
          "output_type": "display_data",
          "data": {
            "text/html": [
              "\n",
              "     <input type=\"file\" id=\"files-c59aed11-1dc9-47c6-8147-0f08a1767d3e\" name=\"files[]\" multiple disabled\n",
              "        style=\"border:none\" />\n",
              "     <output id=\"result-c59aed11-1dc9-47c6-8147-0f08a1767d3e\">\n",
              "      Upload widget is only available when the cell has been executed in the\n",
              "      current browser session. Please rerun this cell to enable.\n",
              "      </output>\n",
              "      <script src=\"/nbextensions/google.colab/files.js\"></script> "
            ],
            "text/plain": [
              "<IPython.core.display.HTML object>"
            ]
          },
          "metadata": {
            "tags": []
          }
        },
        {
          "output_type": "stream",
          "text": [
            "Saving kaggle.json to kaggle.json\n"
          ],
          "name": "stdout"
        },
        {
          "output_type": "execute_result",
          "data": {
            "text/plain": [
              "{'kaggle.json': b'{\"username\":\"sirigovvala\",\"key\":\"af55e0df964ff1611c2839648ef47bbd\"}'}"
            ]
          },
          "metadata": {
            "tags": []
          },
          "execution_count": 1
        }
      ]
    },
    {
      "cell_type": "code",
      "metadata": {
        "id": "8PKeaVNg32IB"
      },
      "source": [
        "! mkdir ~/.kaggle\n",
        "\n",
        "! cp kaggle.json ~/.kaggle/"
      ],
      "execution_count": null,
      "outputs": []
    },
    {
      "cell_type": "code",
      "metadata": {
        "id": "xORFbpIy4IZJ"
      },
      "source": [
        " ! chmod 600 ~/.kaggle/kaggle.json"
      ],
      "execution_count": null,
      "outputs": []
    },
    {
      "cell_type": "code",
      "metadata": {
        "colab": {
          "base_uri": "https://localhost:8080/"
        },
        "id": "cZOphBlz4Mth",
        "outputId": "0f127476-e28e-4d6c-a96b-58071eff704c"
      },
      "source": [
        "! kaggle datasets list"
      ],
      "execution_count": null,
      "outputs": [
        {
          "output_type": "stream",
          "text": [
            "Warning: Looks like you're using an outdated API Version, please consider updating (server 1.5.12 / client 1.5.4)\n",
            "ref                                                         title                                              size  lastUpdated          downloadCount  \n",
            "----------------------------------------------------------  ------------------------------------------------  -----  -------------------  -------------  \n",
            "gpreda/reddit-vaccine-myths                                 Reddit Vaccine Myths                              234KB  2021-07-24 09:20:05           9844  \n",
            "crowww/a-large-scale-fish-dataset                           A Large Scale Fish Dataset                          3GB  2021-04-28 17:03:01           6052  \n",
            "imsparsh/musicnet-dataset                                   MusicNet Dataset                                   22GB  2021-02-18 14:12:19           2242  \n",
            "dhruvildave/wikibooks-dataset                               Wikibooks Dataset                                   2GB  2021-07-03 18:37:20           2495  \n",
            "fatiimaezzahra/famous-iconic-women                          Famous Iconic Women                               838MB  2021-02-28 14:56:00           1026  \n",
            "promptcloud/careerbuilder-job-listing-2020                  Careerbuilder Job Listing 2020                     42MB  2021-03-05 06:59:52           1455  \n",
            "nickuzmenkov/nih-chest-xrays-tfrecords                      NIH Chest X-rays TFRecords                         11GB  2021-03-09 04:49:23            831  \n",
            "alsgroup/end-als                                            End ALS Kaggle Challenge                           12GB  2021-04-08 12:16:37            807  \n",
            "coloradokb/dandelionimages                                  DandelionImages                                     4GB  2021-02-19 20:03:47            701  \n",
            "mathurinache/twitter-edge-nodes                             Twitter Edge Nodes                                342MB  2021-03-08 06:43:04            683  \n",
            "simiotic/github-code-snippets                               GitHub Code Snippets                                7GB  2021-03-03 11:34:39            239  \n",
            "mathurinache/the-lj-speech-dataset                          The LJ Speech Dataset                               3GB  2021-02-15 09:19:54            256  \n",
            "stuartjames/lights                                          LightS: Light Specularity Dataset                  18GB  2021-02-18 14:32:26            103  \n",
            "landrykezebou/lvzhdr-tone-mapping-benchmark-dataset-tmonet  LVZ-HDR Tone Mapping Benchmark Dataset (TMO-Net)   24GB  2021-03-01 05:03:40            163  \n",
            "imsparsh/accentdb-core-extended                             AccentDB - Core & Extended                          6GB  2021-02-17 14:22:54            122  \n",
            "nickuzmenkov/ranzcr-clip-kfold-tfrecords                    RANZCR CLiP KFold TFRecords                         2GB  2021-02-21 13:29:51            112  \n",
            "datasnaek/youtube-new                                       Trending YouTube Video Statistics                 201MB  2019-06-03 00:56:47         145398  \n",
            "zynicide/wine-reviews                                       Wine Reviews                                       51MB  2017-11-27 17:08:04         140907  \n",
            "residentmario/ramen-ratings                                 Ramen Ratings                                      40KB  2018-01-11 16:04:39          25241  \n",
            "datasnaek/chess                                             Chess Game Dataset (Lichess)                        3MB  2017-09-04 03:09:09          20229  \n"
          ],
          "name": "stdout"
        }
      ]
    },
    {
      "cell_type": "code",
      "metadata": {
        "colab": {
          "base_uri": "https://localhost:8080/"
        },
        "id": "MoKpBcdb4VFa",
        "outputId": "1854beed-609b-4ec0-de77-89a18aaa01b0"
      },
      "source": [
        "!kaggle datasets download -d mattiuzc/stock-exchange-data"
      ],
      "execution_count": null,
      "outputs": [
        {
          "output_type": "stream",
          "text": [
            "Downloading stock-exchange-data.zip to /content\n",
            "\r  0% 0.00/4.56M [00:00<?, ?B/s]\n",
            "\r100% 4.56M/4.56M [00:00<00:00, 74.8MB/s]\n"
          ],
          "name": "stdout"
        }
      ]
    },
    {
      "cell_type": "code",
      "metadata": {
        "colab": {
          "base_uri": "https://localhost:8080/"
        },
        "id": "_VhIvaHT40bw",
        "outputId": "8a0ede3e-f420-447b-93bf-f42b0296cc28"
      },
      "source": [
        "!ls /content"
      ],
      "execution_count": null,
      "outputs": [
        {
          "output_type": "stream",
          "text": [
            "kaggle.json  sample_data  stock-exchange-data.zip\n"
          ],
          "name": "stdout"
        }
      ]
    },
    {
      "cell_type": "code",
      "metadata": {
        "colab": {
          "base_uri": "https://localhost:8080/"
        },
        "id": "UCjgwHyM6vvy",
        "outputId": "c13e37e0-ebb6-4472-ebda-55e618a9244f"
      },
      "source": [
        "!unzip '/content/stock-exchange-data.zip' -d '/content/'"
      ],
      "execution_count": null,
      "outputs": [
        {
          "output_type": "stream",
          "text": [
            "Archive:  /content/stock-exchange-data.zip\n",
            "  inflating: /content/indexData.csv  \n",
            "  inflating: /content/indexInfo.csv  \n",
            "  inflating: /content/indexProcessed.csv  \n"
          ],
          "name": "stdout"
        }
      ]
    },
    {
      "cell_type": "code",
      "metadata": {
        "id": "Sv2u4lT361CN"
      },
      "source": [
        "import pandas as pd"
      ],
      "execution_count": null,
      "outputs": []
    },
    {
      "cell_type": "code",
      "metadata": {
        "id": "Bgs0wptx65F5"
      },
      "source": [
        "df = pd.read_csv('indexData.csv')"
      ],
      "execution_count": null,
      "outputs": []
    },
    {
      "cell_type": "code",
      "metadata": {
        "colab": {
          "base_uri": "https://localhost:8080/",
          "height": 419
        },
        "id": "g1jf7Xn66_VR",
        "outputId": "4648a212-89d7-4c05-f27c-12e2a7c80020"
      },
      "source": [
        "df"
      ],
      "execution_count": null,
      "outputs": [
        {
          "output_type": "execute_result",
          "data": {
            "text/html": [
              "<div>\n",
              "<style scoped>\n",
              "    .dataframe tbody tr th:only-of-type {\n",
              "        vertical-align: middle;\n",
              "    }\n",
              "\n",
              "    .dataframe tbody tr th {\n",
              "        vertical-align: top;\n",
              "    }\n",
              "\n",
              "    .dataframe thead th {\n",
              "        text-align: right;\n",
              "    }\n",
              "</style>\n",
              "<table border=\"1\" class=\"dataframe\">\n",
              "  <thead>\n",
              "    <tr style=\"text-align: right;\">\n",
              "      <th></th>\n",
              "      <th>Index</th>\n",
              "      <th>Date</th>\n",
              "      <th>Open</th>\n",
              "      <th>High</th>\n",
              "      <th>Low</th>\n",
              "      <th>Close</th>\n",
              "      <th>Adj Close</th>\n",
              "      <th>Volume</th>\n",
              "    </tr>\n",
              "  </thead>\n",
              "  <tbody>\n",
              "    <tr>\n",
              "      <th>0</th>\n",
              "      <td>NYA</td>\n",
              "      <td>1965-12-31</td>\n",
              "      <td>528.690002</td>\n",
              "      <td>528.690002</td>\n",
              "      <td>528.690002</td>\n",
              "      <td>528.690002</td>\n",
              "      <td>528.690002</td>\n",
              "      <td>0.0</td>\n",
              "    </tr>\n",
              "    <tr>\n",
              "      <th>1</th>\n",
              "      <td>NYA</td>\n",
              "      <td>1966-01-03</td>\n",
              "      <td>527.210022</td>\n",
              "      <td>527.210022</td>\n",
              "      <td>527.210022</td>\n",
              "      <td>527.210022</td>\n",
              "      <td>527.210022</td>\n",
              "      <td>0.0</td>\n",
              "    </tr>\n",
              "    <tr>\n",
              "      <th>2</th>\n",
              "      <td>NYA</td>\n",
              "      <td>1966-01-04</td>\n",
              "      <td>527.840027</td>\n",
              "      <td>527.840027</td>\n",
              "      <td>527.840027</td>\n",
              "      <td>527.840027</td>\n",
              "      <td>527.840027</td>\n",
              "      <td>0.0</td>\n",
              "    </tr>\n",
              "    <tr>\n",
              "      <th>3</th>\n",
              "      <td>NYA</td>\n",
              "      <td>1966-01-05</td>\n",
              "      <td>531.119995</td>\n",
              "      <td>531.119995</td>\n",
              "      <td>531.119995</td>\n",
              "      <td>531.119995</td>\n",
              "      <td>531.119995</td>\n",
              "      <td>0.0</td>\n",
              "    </tr>\n",
              "    <tr>\n",
              "      <th>4</th>\n",
              "      <td>NYA</td>\n",
              "      <td>1966-01-06</td>\n",
              "      <td>532.070007</td>\n",
              "      <td>532.070007</td>\n",
              "      <td>532.070007</td>\n",
              "      <td>532.070007</td>\n",
              "      <td>532.070007</td>\n",
              "      <td>0.0</td>\n",
              "    </tr>\n",
              "    <tr>\n",
              "      <th>...</th>\n",
              "      <td>...</td>\n",
              "      <td>...</td>\n",
              "      <td>...</td>\n",
              "      <td>...</td>\n",
              "      <td>...</td>\n",
              "      <td>...</td>\n",
              "      <td>...</td>\n",
              "      <td>...</td>\n",
              "    </tr>\n",
              "    <tr>\n",
              "      <th>112452</th>\n",
              "      <td>N100</td>\n",
              "      <td>2021-05-27</td>\n",
              "      <td>1241.119995</td>\n",
              "      <td>1251.910034</td>\n",
              "      <td>1241.119995</td>\n",
              "      <td>1247.069946</td>\n",
              "      <td>1247.069946</td>\n",
              "      <td>379696400.0</td>\n",
              "    </tr>\n",
              "    <tr>\n",
              "      <th>112453</th>\n",
              "      <td>N100</td>\n",
              "      <td>2021-05-28</td>\n",
              "      <td>1249.469971</td>\n",
              "      <td>1259.209961</td>\n",
              "      <td>1249.030029</td>\n",
              "      <td>1256.599976</td>\n",
              "      <td>1256.599976</td>\n",
              "      <td>160773400.0</td>\n",
              "    </tr>\n",
              "    <tr>\n",
              "      <th>112454</th>\n",
              "      <td>N100</td>\n",
              "      <td>2021-05-31</td>\n",
              "      <td>1256.079956</td>\n",
              "      <td>1258.880005</td>\n",
              "      <td>1248.140015</td>\n",
              "      <td>1248.930054</td>\n",
              "      <td>1248.930054</td>\n",
              "      <td>91173700.0</td>\n",
              "    </tr>\n",
              "    <tr>\n",
              "      <th>112455</th>\n",
              "      <td>N100</td>\n",
              "      <td>2021-06-01</td>\n",
              "      <td>1254.609985</td>\n",
              "      <td>1265.660034</td>\n",
              "      <td>1254.609985</td>\n",
              "      <td>1258.579956</td>\n",
              "      <td>1258.579956</td>\n",
              "      <td>155179900.0</td>\n",
              "    </tr>\n",
              "    <tr>\n",
              "      <th>112456</th>\n",
              "      <td>N100</td>\n",
              "      <td>2021-06-02</td>\n",
              "      <td>1258.489990</td>\n",
              "      <td>1263.709961</td>\n",
              "      <td>1258.239990</td>\n",
              "      <td>1263.619995</td>\n",
              "      <td>1263.619995</td>\n",
              "      <td>148465000.0</td>\n",
              "    </tr>\n",
              "  </tbody>\n",
              "</table>\n",
              "<p>112457 rows × 8 columns</p>\n",
              "</div>"
            ],
            "text/plain": [
              "       Index        Date         Open  ...        Close    Adj Close       Volume\n",
              "0        NYA  1965-12-31   528.690002  ...   528.690002   528.690002          0.0\n",
              "1        NYA  1966-01-03   527.210022  ...   527.210022   527.210022          0.0\n",
              "2        NYA  1966-01-04   527.840027  ...   527.840027   527.840027          0.0\n",
              "3        NYA  1966-01-05   531.119995  ...   531.119995   531.119995          0.0\n",
              "4        NYA  1966-01-06   532.070007  ...   532.070007   532.070007          0.0\n",
              "...      ...         ...          ...  ...          ...          ...          ...\n",
              "112452  N100  2021-05-27  1241.119995  ...  1247.069946  1247.069946  379696400.0\n",
              "112453  N100  2021-05-28  1249.469971  ...  1256.599976  1256.599976  160773400.0\n",
              "112454  N100  2021-05-31  1256.079956  ...  1248.930054  1248.930054   91173700.0\n",
              "112455  N100  2021-06-01  1254.609985  ...  1258.579956  1258.579956  155179900.0\n",
              "112456  N100  2021-06-02  1258.489990  ...  1263.619995  1263.619995  148465000.0\n",
              "\n",
              "[112457 rows x 8 columns]"
            ]
          },
          "metadata": {
            "tags": []
          },
          "execution_count": 11
        }
      ]
    },
    {
      "cell_type": "code",
      "metadata": {
        "colab": {
          "base_uri": "https://localhost:8080/"
        },
        "id": "tD_rXX8c7DxA",
        "outputId": "8348c313-96d4-4225-911c-3ddac2fa447c"
      },
      "source": [
        "df.High.idxmax()"
      ],
      "execution_count": null,
      "outputs": [
        {
          "output_type": "execute_result",
          "data": {
            "text/plain": [
              "92390"
            ]
          },
          "metadata": {
            "tags": []
          },
          "execution_count": 14
        }
      ]
    },
    {
      "cell_type": "code",
      "metadata": {
        "colab": {
          "base_uri": "https://localhost:8080/"
        },
        "id": "ykYQctP57K3M",
        "outputId": "9ceedfa7-f238-4d0c-ca26-49076edf8b71"
      },
      "source": [
        "ratio_df = (df['High']/df['Low'])\n",
        "ratio_df"
      ],
      "execution_count": null,
      "outputs": [
        {
          "output_type": "execute_result",
          "data": {
            "text/plain": [
              "0         1.000000\n",
              "1         1.000000\n",
              "2         1.000000\n",
              "3         1.000000\n",
              "4         1.000000\n",
              "            ...   \n",
              "112452    1.008694\n",
              "112453    1.008150\n",
              "112454    1.008605\n",
              "112455    1.008808\n",
              "112456    1.004347\n",
              "Length: 112457, dtype: float64"
            ]
          },
          "metadata": {
            "tags": []
          },
          "execution_count": 15
        }
      ]
    },
    {
      "cell_type": "code",
      "metadata": {
        "colab": {
          "base_uri": "https://localhost:8080/"
        },
        "id": "2KjETWGu7n3F",
        "outputId": "621c845e-746b-4bf8-c6a6-b3442f6ea85c"
      },
      "source": [
        "ratio_df.idxmax()"
      ],
      "execution_count": null,
      "outputs": [
        {
          "output_type": "execute_result",
          "data": {
            "text/plain": [
              "106003"
            ]
          },
          "metadata": {
            "tags": []
          },
          "execution_count": 16
        }
      ]
    },
    {
      "cell_type": "code",
      "metadata": {
        "colab": {
          "base_uri": "https://localhost:8080/"
        },
        "id": "O_RLXo7473fl",
        "outputId": "b3ff855d-eb56-4d22-a524-279cb6d27596"
      },
      "source": [
        "ratio_df[106003]"
      ],
      "execution_count": null,
      "outputs": [
        {
          "output_type": "execute_result",
          "data": {
            "text/plain": [
              "1.261069359821139"
            ]
          },
          "metadata": {
            "tags": []
          },
          "execution_count": 17
        }
      ]
    },
    {
      "cell_type": "code",
      "metadata": {
        "id": "1-N11fUhBiS6"
      },
      "source": [
        "df1 = pd.read_csv('indexInfo.csv')"
      ],
      "execution_count": null,
      "outputs": []
    },
    {
      "cell_type": "code",
      "metadata": {
        "colab": {
          "base_uri": "https://localhost:8080/",
          "height": 483
        },
        "id": "-VITStnfBtT2",
        "outputId": "2c1e0286-d3c3-4911-9ec7-259883c776a9"
      },
      "source": [
        "df1"
      ],
      "execution_count": null,
      "outputs": [
        {
          "output_type": "execute_result",
          "data": {
            "text/html": [
              "<div>\n",
              "<style scoped>\n",
              "    .dataframe tbody tr th:only-of-type {\n",
              "        vertical-align: middle;\n",
              "    }\n",
              "\n",
              "    .dataframe tbody tr th {\n",
              "        vertical-align: top;\n",
              "    }\n",
              "\n",
              "    .dataframe thead th {\n",
              "        text-align: right;\n",
              "    }\n",
              "</style>\n",
              "<table border=\"1\" class=\"dataframe\">\n",
              "  <thead>\n",
              "    <tr style=\"text-align: right;\">\n",
              "      <th></th>\n",
              "      <th>Region</th>\n",
              "      <th>Exchange</th>\n",
              "      <th>Index</th>\n",
              "      <th>Currency</th>\n",
              "    </tr>\n",
              "  </thead>\n",
              "  <tbody>\n",
              "    <tr>\n",
              "      <th>0</th>\n",
              "      <td>United States</td>\n",
              "      <td>New York Stock Exchange</td>\n",
              "      <td>NYA</td>\n",
              "      <td>USD</td>\n",
              "    </tr>\n",
              "    <tr>\n",
              "      <th>1</th>\n",
              "      <td>United States</td>\n",
              "      <td>NASDAQ</td>\n",
              "      <td>IXIC</td>\n",
              "      <td>USD</td>\n",
              "    </tr>\n",
              "    <tr>\n",
              "      <th>2</th>\n",
              "      <td>Hong Kong</td>\n",
              "      <td>Hong Kong Stock Exchange</td>\n",
              "      <td>HSI</td>\n",
              "      <td>HKD</td>\n",
              "    </tr>\n",
              "    <tr>\n",
              "      <th>3</th>\n",
              "      <td>China</td>\n",
              "      <td>Shanghai Stock Exchange</td>\n",
              "      <td>000001.SS</td>\n",
              "      <td>CNY</td>\n",
              "    </tr>\n",
              "    <tr>\n",
              "      <th>4</th>\n",
              "      <td>Japan</td>\n",
              "      <td>Tokyo Stock Exchange</td>\n",
              "      <td>N225</td>\n",
              "      <td>JPY</td>\n",
              "    </tr>\n",
              "    <tr>\n",
              "      <th>5</th>\n",
              "      <td>Europe</td>\n",
              "      <td>Euronext</td>\n",
              "      <td>N100</td>\n",
              "      <td>EUR</td>\n",
              "    </tr>\n",
              "    <tr>\n",
              "      <th>6</th>\n",
              "      <td>China</td>\n",
              "      <td>Shenzhen Stock Exchange</td>\n",
              "      <td>399001.SZ</td>\n",
              "      <td>CNY</td>\n",
              "    </tr>\n",
              "    <tr>\n",
              "      <th>7</th>\n",
              "      <td>Canada</td>\n",
              "      <td>Toronto Stock Exchange</td>\n",
              "      <td>GSPTSE</td>\n",
              "      <td>CAD</td>\n",
              "    </tr>\n",
              "    <tr>\n",
              "      <th>8</th>\n",
              "      <td>India</td>\n",
              "      <td>National Stock Exchange of India</td>\n",
              "      <td>NSEI</td>\n",
              "      <td>INR</td>\n",
              "    </tr>\n",
              "    <tr>\n",
              "      <th>9</th>\n",
              "      <td>Germany</td>\n",
              "      <td>Frankfurt Stock Exchange</td>\n",
              "      <td>GDAXI</td>\n",
              "      <td>EUR</td>\n",
              "    </tr>\n",
              "    <tr>\n",
              "      <th>10</th>\n",
              "      <td>Korea</td>\n",
              "      <td>Korea Exchange</td>\n",
              "      <td>KS11</td>\n",
              "      <td>KRW</td>\n",
              "    </tr>\n",
              "    <tr>\n",
              "      <th>11</th>\n",
              "      <td>Switzerland</td>\n",
              "      <td>SIX Swiss Exchange</td>\n",
              "      <td>SSMI</td>\n",
              "      <td>CHF</td>\n",
              "    </tr>\n",
              "    <tr>\n",
              "      <th>12</th>\n",
              "      <td>Taiwan</td>\n",
              "      <td>Taiwan Stock Exchange</td>\n",
              "      <td>TWII</td>\n",
              "      <td>TWD</td>\n",
              "    </tr>\n",
              "    <tr>\n",
              "      <th>13</th>\n",
              "      <td>South Africa</td>\n",
              "      <td>Johannesburg Stock Exchange</td>\n",
              "      <td>J203.JO</td>\n",
              "      <td>ZAR</td>\n",
              "    </tr>\n",
              "  </tbody>\n",
              "</table>\n",
              "</div>"
            ],
            "text/plain": [
              "           Region                          Exchange      Index Currency\n",
              "0   United States           New York Stock Exchange        NYA      USD\n",
              "1   United States                            NASDAQ       IXIC      USD\n",
              "2       Hong Kong          Hong Kong Stock Exchange        HSI      HKD\n",
              "3           China           Shanghai Stock Exchange  000001.SS      CNY\n",
              "4           Japan              Tokyo Stock Exchange       N225      JPY\n",
              "5          Europe                          Euronext       N100      EUR\n",
              "6           China           Shenzhen Stock Exchange  399001.SZ      CNY\n",
              "7          Canada            Toronto Stock Exchange     GSPTSE      CAD\n",
              "8           India  National Stock Exchange of India       NSEI      INR\n",
              "9         Germany          Frankfurt Stock Exchange      GDAXI      EUR\n",
              "10          Korea                    Korea Exchange       KS11      KRW\n",
              "11    Switzerland                SIX Swiss Exchange       SSMI      CHF\n",
              "12         Taiwan             Taiwan Stock Exchange       TWII      TWD\n",
              "13   South Africa       Johannesburg Stock Exchange    J203.JO      ZAR"
            ]
          },
          "metadata": {
            "tags": []
          },
          "execution_count": 8
        }
      ]
    },
    {
      "cell_type": "code",
      "metadata": {
        "colab": {
          "base_uri": "https://localhost:8080/"
        },
        "id": "gp7fiTHZBzhI",
        "outputId": "077ce8c0-1458-4be9-f022-3fe59d9f6657"
      },
      "source": [
        "stock_values = (df1.Exchange.str.count('Stock') + df1.Exchange.str.count('Exchange')).sum()\n",
        "stock_values"
      ],
      "execution_count": null,
      "outputs": [
        {
          "output_type": "execute_result",
          "data": {
            "text/plain": [
              "22"
            ]
          },
          "metadata": {
            "tags": []
          },
          "execution_count": 20
        }
      ]
    },
    {
      "cell_type": "code",
      "metadata": {
        "colab": {
          "base_uri": "https://localhost:8080/"
        },
        "id": "UQqe45j5LHcm",
        "outputId": "763ad8dd-522a-41bc-83af-e2ea62d8b737"
      },
      "source": [
        "stock_values.sum()"
      ],
      "execution_count": null,
      "outputs": [
        {
          "output_type": "execute_result",
          "data": {
            "text/plain": [
              "22"
            ]
          },
          "metadata": {
            "tags": []
          },
          "execution_count": 21
        }
      ]
    },
    {
      "cell_type": "code",
      "metadata": {
        "colab": {
          "base_uri": "https://localhost:8080/"
        },
        "id": "DuNgi8baNXew",
        "outputId": "65f79651-cd4f-42cd-9c2d-66b5b132da2a"
      },
      "source": [
        "df1.Exchange.str.contains('Stock').sum()"
      ],
      "execution_count": null,
      "outputs": [
        {
          "output_type": "execute_result",
          "data": {
            "text/plain": [
              "10"
            ]
          },
          "metadata": {
            "tags": []
          },
          "execution_count": 22
        }
      ]
    },
    {
      "cell_type": "code",
      "metadata": {
        "colab": {
          "base_uri": "https://localhost:8080/"
        },
        "id": "a54o3Vr2ODBS",
        "outputId": "fa701933-d774-456c-8f5d-754b1fa6edae"
      },
      "source": [
        "df1.Exchange.str.contains('Stock')"
      ],
      "execution_count": null,
      "outputs": [
        {
          "output_type": "execute_result",
          "data": {
            "text/plain": [
              "0      True\n",
              "1     False\n",
              "2      True\n",
              "3      True\n",
              "4      True\n",
              "5     False\n",
              "6      True\n",
              "7      True\n",
              "8      True\n",
              "9      True\n",
              "10    False\n",
              "11    False\n",
              "12     True\n",
              "13     True\n",
              "Name: Exchange, dtype: bool"
            ]
          },
          "metadata": {
            "tags": []
          },
          "execution_count": 23
        }
      ]
    },
    {
      "cell_type": "code",
      "metadata": {
        "colab": {
          "base_uri": "https://localhost:8080/"
        },
        "id": "n4jMyL2eU_OQ",
        "outputId": "b5498fab-4dc2-4568-bf4d-497abe3d9874"
      },
      "source": [
        "series = pd.Series(df1.Region)\n",
        "series"
      ],
      "execution_count": null,
      "outputs": [
        {
          "output_type": "execute_result",
          "data": {
            "text/plain": [
              "0     United States\n",
              "1     United States\n",
              "2         Hong Kong\n",
              "3             China\n",
              "4             Japan\n",
              "5            Europe\n",
              "6             China\n",
              "7            Canada\n",
              "8             India\n",
              "9           Germany\n",
              "10            Korea\n",
              "11      Switzerland\n",
              "12           Taiwan\n",
              "13     South Africa\n",
              "Name: Region, dtype: object"
            ]
          },
          "metadata": {
            "tags": []
          },
          "execution_count": 24
        }
      ]
    },
    {
      "cell_type": "code",
      "metadata": {
        "colab": {
          "base_uri": "https://localhost:8080/"
        },
        "id": "OGHFqPDwY2Pb",
        "outputId": "eff0100f-ebe6-4f47-f15e-773d9206fb9d"
      },
      "source": [
        "ingredients = pd.Series(['4 cups', '1 cup', '2 large', '1 can'],index=['Flour', 'Milk', 'Eggs', 'spam'], name ='Dinner')\n",
        "ingredients"
      ],
      "execution_count": null,
      "outputs": [
        {
          "output_type": "execute_result",
          "data": {
            "text/plain": [
              "Flour     4 cups\n",
              "Milk       1 cup\n",
              "Eggs     2 large\n",
              "spam       1 can\n",
              "Name: Dinner, dtype: object"
            ]
          },
          "metadata": {
            "tags": []
          },
          "execution_count": 25
        }
      ]
    },
    {
      "cell_type": "code",
      "metadata": {
        "colab": {
          "base_uri": "https://localhost:8080/"
        },
        "id": "YhhttjgPt85d",
        "outputId": "fa542326-df77-4bec-b3c8-3502ed169379"
      },
      "source": [
        "!ls /content"
      ],
      "execution_count": null,
      "outputs": [
        {
          "output_type": "stream",
          "text": [
            "sample_data\n"
          ],
          "name": "stdout"
        }
      ]
    },
    {
      "cell_type": "code",
      "metadata": {
        "colab": {
          "base_uri": "https://localhost:8080/",
          "height": 483
        },
        "id": "f5rGAx-NwuBN",
        "outputId": "df9d6b46-4e23-4cca-f1e6-b589d42447d2"
      },
      "source": [
        "df1"
      ],
      "execution_count": null,
      "outputs": [
        {
          "output_type": "execute_result",
          "data": {
            "text/html": [
              "<div>\n",
              "<style scoped>\n",
              "    .dataframe tbody tr th:only-of-type {\n",
              "        vertical-align: middle;\n",
              "    }\n",
              "\n",
              "    .dataframe tbody tr th {\n",
              "        vertical-align: top;\n",
              "    }\n",
              "\n",
              "    .dataframe thead th {\n",
              "        text-align: right;\n",
              "    }\n",
              "</style>\n",
              "<table border=\"1\" class=\"dataframe\">\n",
              "  <thead>\n",
              "    <tr style=\"text-align: right;\">\n",
              "      <th></th>\n",
              "      <th>Region</th>\n",
              "      <th>Exchange</th>\n",
              "      <th>Index</th>\n",
              "      <th>Currency</th>\n",
              "    </tr>\n",
              "  </thead>\n",
              "  <tbody>\n",
              "    <tr>\n",
              "      <th>0</th>\n",
              "      <td>United States</td>\n",
              "      <td>New York Stock Exchange</td>\n",
              "      <td>NYA</td>\n",
              "      <td>USD</td>\n",
              "    </tr>\n",
              "    <tr>\n",
              "      <th>1</th>\n",
              "      <td>United States</td>\n",
              "      <td>NASDAQ</td>\n",
              "      <td>IXIC</td>\n",
              "      <td>USD</td>\n",
              "    </tr>\n",
              "    <tr>\n",
              "      <th>2</th>\n",
              "      <td>Hong Kong</td>\n",
              "      <td>Hong Kong Stock Exchange</td>\n",
              "      <td>HSI</td>\n",
              "      <td>HKD</td>\n",
              "    </tr>\n",
              "    <tr>\n",
              "      <th>3</th>\n",
              "      <td>China</td>\n",
              "      <td>Shanghai Stock Exchange</td>\n",
              "      <td>000001.SS</td>\n",
              "      <td>CNY</td>\n",
              "    </tr>\n",
              "    <tr>\n",
              "      <th>4</th>\n",
              "      <td>Japan</td>\n",
              "      <td>Tokyo Stock Exchange</td>\n",
              "      <td>N225</td>\n",
              "      <td>JPY</td>\n",
              "    </tr>\n",
              "    <tr>\n",
              "      <th>5</th>\n",
              "      <td>Europe</td>\n",
              "      <td>Euronext</td>\n",
              "      <td>N100</td>\n",
              "      <td>EUR</td>\n",
              "    </tr>\n",
              "    <tr>\n",
              "      <th>6</th>\n",
              "      <td>China</td>\n",
              "      <td>Shenzhen Stock Exchange</td>\n",
              "      <td>399001.SZ</td>\n",
              "      <td>CNY</td>\n",
              "    </tr>\n",
              "    <tr>\n",
              "      <th>7</th>\n",
              "      <td>Canada</td>\n",
              "      <td>Toronto Stock Exchange</td>\n",
              "      <td>GSPTSE</td>\n",
              "      <td>CAD</td>\n",
              "    </tr>\n",
              "    <tr>\n",
              "      <th>8</th>\n",
              "      <td>India</td>\n",
              "      <td>National Stock Exchange of India</td>\n",
              "      <td>NSEI</td>\n",
              "      <td>INR</td>\n",
              "    </tr>\n",
              "    <tr>\n",
              "      <th>9</th>\n",
              "      <td>Germany</td>\n",
              "      <td>Frankfurt Stock Exchange</td>\n",
              "      <td>GDAXI</td>\n",
              "      <td>EUR</td>\n",
              "    </tr>\n",
              "    <tr>\n",
              "      <th>10</th>\n",
              "      <td>Korea</td>\n",
              "      <td>Korea Exchange</td>\n",
              "      <td>KS11</td>\n",
              "      <td>KRW</td>\n",
              "    </tr>\n",
              "    <tr>\n",
              "      <th>11</th>\n",
              "      <td>Switzerland</td>\n",
              "      <td>SIX Swiss Exchange</td>\n",
              "      <td>SSMI</td>\n",
              "      <td>CHF</td>\n",
              "    </tr>\n",
              "    <tr>\n",
              "      <th>12</th>\n",
              "      <td>Taiwan</td>\n",
              "      <td>Taiwan Stock Exchange</td>\n",
              "      <td>TWII</td>\n",
              "      <td>TWD</td>\n",
              "    </tr>\n",
              "    <tr>\n",
              "      <th>13</th>\n",
              "      <td>South Africa</td>\n",
              "      <td>Johannesburg Stock Exchange</td>\n",
              "      <td>J203.JO</td>\n",
              "      <td>ZAR</td>\n",
              "    </tr>\n",
              "  </tbody>\n",
              "</table>\n",
              "</div>"
            ],
            "text/plain": [
              "           Region                          Exchange      Index Currency\n",
              "0   United States           New York Stock Exchange        NYA      USD\n",
              "1   United States                            NASDAQ       IXIC      USD\n",
              "2       Hong Kong          Hong Kong Stock Exchange        HSI      HKD\n",
              "3           China           Shanghai Stock Exchange  000001.SS      CNY\n",
              "4           Japan              Tokyo Stock Exchange       N225      JPY\n",
              "5          Europe                          Euronext       N100      EUR\n",
              "6           China           Shenzhen Stock Exchange  399001.SZ      CNY\n",
              "7          Canada            Toronto Stock Exchange     GSPTSE      CAD\n",
              "8           India  National Stock Exchange of India       NSEI      INR\n",
              "9         Germany          Frankfurt Stock Exchange      GDAXI      EUR\n",
              "10          Korea                    Korea Exchange       KS11      KRW\n",
              "11    Switzerland                SIX Swiss Exchange       SSMI      CHF\n",
              "12         Taiwan             Taiwan Stock Exchange       TWII      TWD\n",
              "13   South Africa       Johannesburg Stock Exchange    J203.JO      ZAR"
            ]
          },
          "metadata": {
            "tags": []
          },
          "execution_count": 27
        }
      ]
    },
    {
      "cell_type": "code",
      "metadata": {
        "colab": {
          "base_uri": "https://localhost:8080/"
        },
        "id": "Pu-0_clSwxWK",
        "outputId": "93f19783-aa1d-4a36-9fca-8bf6dbb3e3fa"
      },
      "source": [
        "df1.groupby('Region').apply(lambda fs: fs.Index.iloc[0])"
      ],
      "execution_count": null,
      "outputs": [
        {
          "output_type": "execute_result",
          "data": {
            "text/plain": [
              "Region\n",
              "Canada              GSPTSE\n",
              "China            000001.SS\n",
              "Europe                N100\n",
              "Germany              GDAXI\n",
              "Hong Kong              HSI\n",
              "India                 NSEI\n",
              "Japan                 N225\n",
              "Korea                 KS11\n",
              "South Africa       J203.JO\n",
              "Switzerland           SSMI\n",
              "Taiwan                TWII\n",
              "United States          NYA\n",
              "dtype: object"
            ]
          },
          "metadata": {
            "tags": []
          },
          "execution_count": 28
        }
      ]
    },
    {
      "cell_type": "code",
      "metadata": {
        "colab": {
          "base_uri": "https://localhost:8080/"
        },
        "id": "I-f2gzmIyi4Q",
        "outputId": "e0b5dded-6178-4ef1-d1f4-57ef3dee60d6"
      },
      "source": [
        "!kaggle datasets download -d supratimhaldar/allsides-ratings-of-bias-in-electronic-media"
      ],
      "execution_count": null,
      "outputs": [
        {
          "output_type": "stream",
          "text": [
            "Downloading allsides-ratings-of-bias-in-electronic-media.zip to /content\n",
            "\r  0% 0.00/31.6k [00:00<?, ?B/s]\n",
            "\r100% 31.6k/31.6k [00:00<00:00, 52.7MB/s]\n"
          ],
          "name": "stdout"
        }
      ]
    },
    {
      "cell_type": "code",
      "metadata": {
        "colab": {
          "base_uri": "https://localhost:8080/"
        },
        "id": "Dxluxqn50AWm",
        "outputId": "930601f2-3520-42bd-f1d9-db47d2c4bd45"
      },
      "source": [
        "!unzip '/content/allsides-ratings-of-bias-in-electronic-media' -d '/content/'"
      ],
      "execution_count": null,
      "outputs": [
        {
          "output_type": "stream",
          "text": [
            "Archive:  /content/allsides-ratings-of-bias-in-electronic-media.zip\n",
            "  inflating: /content/allsides.csv   \n",
            "  inflating: /content/allsides.json  \n"
          ],
          "name": "stdout"
        }
      ]
    },
    {
      "cell_type": "code",
      "metadata": {
        "colab": {
          "base_uri": "https://localhost:8080/"
        },
        "id": "MrqOv2Jl0Nxf",
        "outputId": "f194aaed-4dbc-42de-ec4b-da5da17e2d7c"
      },
      "source": [
        "!ls /content/"
      ],
      "execution_count": null,
      "outputs": [
        {
          "output_type": "stream",
          "text": [
            "allsides.csv\t\t\t\t\t  indexProcessed.csv\n",
            "allsides.json\t\t\t\t\t  kaggle.json\n",
            "allsides-ratings-of-bias-in-electronic-media.zip  sample_data\n",
            "indexData.csv\t\t\t\t\t  stock-exchange-data.zip\n",
            "indexInfo.csv\n"
          ],
          "name": "stdout"
        }
      ]
    },
    {
      "cell_type": "code",
      "metadata": {
        "colab": {
          "base_uri": "https://localhost:8080/",
          "height": 419
        },
        "id": "DS7l3R_40eLX",
        "outputId": "e381525e-4afa-42bc-f5e6-6cde9bc9caf1"
      },
      "source": [
        "rating_df = pd.read_csv('allsides.csv')\n",
        "rating_df"
      ],
      "execution_count": null,
      "outputs": [
        {
          "output_type": "execute_result",
          "data": {
            "text/html": [
              "<div>\n",
              "<style scoped>\n",
              "    .dataframe tbody tr th:only-of-type {\n",
              "        vertical-align: middle;\n",
              "    }\n",
              "\n",
              "    .dataframe tbody tr th {\n",
              "        vertical-align: top;\n",
              "    }\n",
              "\n",
              "    .dataframe thead th {\n",
              "        text-align: right;\n",
              "    }\n",
              "</style>\n",
              "<table border=\"1\" class=\"dataframe\">\n",
              "  <thead>\n",
              "    <tr style=\"text-align: right;\">\n",
              "      <th></th>\n",
              "      <th>name</th>\n",
              "      <th>bias</th>\n",
              "      <th>total_votes</th>\n",
              "      <th>agree</th>\n",
              "      <th>disagree</th>\n",
              "      <th>agree_ratio</th>\n",
              "      <th>agreeance_text</th>\n",
              "      <th>allsides_page</th>\n",
              "    </tr>\n",
              "  </thead>\n",
              "  <tbody>\n",
              "    <tr>\n",
              "      <th>0</th>\n",
              "      <td>ABC News (Online)</td>\n",
              "      <td>left-center</td>\n",
              "      <td>51173</td>\n",
              "      <td>33893</td>\n",
              "      <td>17280</td>\n",
              "      <td>1.961400</td>\n",
              "      <td>Agrees</td>\n",
              "      <td>https://www.allsides.com/news-source/abc-news-...</td>\n",
              "    </tr>\n",
              "    <tr>\n",
              "      <th>1</th>\n",
              "      <td>Above The Law</td>\n",
              "      <td>left-center</td>\n",
              "      <td>346</td>\n",
              "      <td>234</td>\n",
              "      <td>112</td>\n",
              "      <td>2.089286</td>\n",
              "      <td>Strongly Agrees</td>\n",
              "      <td>https://www.allsides.com/news-source/above-law...</td>\n",
              "    </tr>\n",
              "    <tr>\n",
              "      <th>2</th>\n",
              "      <td>Abridge News</td>\n",
              "      <td>allsides</td>\n",
              "      <td>593</td>\n",
              "      <td>367</td>\n",
              "      <td>226</td>\n",
              "      <td>1.623894</td>\n",
              "      <td>Agrees</td>\n",
              "      <td>https://www.allsides.com/news-source/abridge-n...</td>\n",
              "    </tr>\n",
              "    <tr>\n",
              "      <th>3</th>\n",
              "      <td>AJ+</td>\n",
              "      <td>left</td>\n",
              "      <td>740</td>\n",
              "      <td>564</td>\n",
              "      <td>176</td>\n",
              "      <td>3.204545</td>\n",
              "      <td>Absolutely Agrees</td>\n",
              "      <td>https://www.allsides.com/news-source/aj-media-...</td>\n",
              "    </tr>\n",
              "    <tr>\n",
              "      <th>4</th>\n",
              "      <td>Al Jazeera</td>\n",
              "      <td>left-center</td>\n",
              "      <td>12095</td>\n",
              "      <td>4798</td>\n",
              "      <td>7297</td>\n",
              "      <td>0.657530</td>\n",
              "      <td>Disagrees</td>\n",
              "      <td>https://www.allsides.com/news-source/al-jazeer...</td>\n",
              "    </tr>\n",
              "    <tr>\n",
              "      <th>...</th>\n",
              "      <td>...</td>\n",
              "      <td>...</td>\n",
              "      <td>...</td>\n",
              "      <td>...</td>\n",
              "      <td>...</td>\n",
              "      <td>...</td>\n",
              "      <td>...</td>\n",
              "      <td>...</td>\n",
              "    </tr>\n",
              "    <tr>\n",
              "      <th>433</th>\n",
              "      <td>WND.com</td>\n",
              "      <td>right</td>\n",
              "      <td>1109</td>\n",
              "      <td>796</td>\n",
              "      <td>313</td>\n",
              "      <td>2.543131</td>\n",
              "      <td>Strongly Agrees</td>\n",
              "      <td>https://www.allsides.com/news-source/wndcom</td>\n",
              "    </tr>\n",
              "    <tr>\n",
              "      <th>434</th>\n",
              "      <td>Yahoo News</td>\n",
              "      <td>left-center</td>\n",
              "      <td>6147</td>\n",
              "      <td>3746</td>\n",
              "      <td>2401</td>\n",
              "      <td>1.560183</td>\n",
              "      <td>Agrees</td>\n",
              "      <td>https://www.allsides.com/news-source/yahoo-new...</td>\n",
              "    </tr>\n",
              "    <tr>\n",
              "      <th>435</th>\n",
              "      <td>Yahoo! The 360</td>\n",
              "      <td>allsides</td>\n",
              "      <td>449</td>\n",
              "      <td>170</td>\n",
              "      <td>279</td>\n",
              "      <td>0.609319</td>\n",
              "      <td>Disagrees</td>\n",
              "      <td>https://www.allsides.com/news-source/yahoo-360...</td>\n",
              "    </tr>\n",
              "    <tr>\n",
              "      <th>436</th>\n",
              "      <td>Yes! Magazine</td>\n",
              "      <td>left</td>\n",
              "      <td>689</td>\n",
              "      <td>453</td>\n",
              "      <td>236</td>\n",
              "      <td>1.919492</td>\n",
              "      <td>Agrees</td>\n",
              "      <td>https://www.allsides.com/news-source/yes-magazine</td>\n",
              "    </tr>\n",
              "    <tr>\n",
              "      <th>437</th>\n",
              "      <td>ZeroHedge</td>\n",
              "      <td>right-center</td>\n",
              "      <td>229</td>\n",
              "      <td>135</td>\n",
              "      <td>94</td>\n",
              "      <td>1.436170</td>\n",
              "      <td>Somewhat Agrees</td>\n",
              "      <td>https://www.allsides.com/news-source/zerohedge...</td>\n",
              "    </tr>\n",
              "  </tbody>\n",
              "</table>\n",
              "<p>438 rows × 8 columns</p>\n",
              "</div>"
            ],
            "text/plain": [
              "                  name  ...                                      allsides_page\n",
              "0    ABC News (Online)  ...  https://www.allsides.com/news-source/abc-news-...\n",
              "1        Above The Law  ...  https://www.allsides.com/news-source/above-law...\n",
              "2         Abridge News  ...  https://www.allsides.com/news-source/abridge-n...\n",
              "3                  AJ+  ...  https://www.allsides.com/news-source/aj-media-...\n",
              "4           Al Jazeera  ...  https://www.allsides.com/news-source/al-jazeer...\n",
              "..                 ...  ...                                                ...\n",
              "433            WND.com  ...        https://www.allsides.com/news-source/wndcom\n",
              "434         Yahoo News  ...  https://www.allsides.com/news-source/yahoo-new...\n",
              "435     Yahoo! The 360  ...  https://www.allsides.com/news-source/yahoo-360...\n",
              "436      Yes! Magazine  ...  https://www.allsides.com/news-source/yes-magazine\n",
              "437          ZeroHedge  ...  https://www.allsides.com/news-source/zerohedge...\n",
              "\n",
              "[438 rows x 8 columns]"
            ]
          },
          "metadata": {
            "tags": []
          },
          "execution_count": 5
        }
      ]
    },
    {
      "cell_type": "code",
      "metadata": {
        "colab": {
          "base_uri": "https://localhost:8080/",
          "height": 620
        },
        "id": "HJX5i0h40-9q",
        "outputId": "fca830bc-2f6f-4905-aa1f-af0c1d36deea"
      },
      "source": [
        "rating_df.groupby(['name', 'bias']).apply(lambda df: df.loc[df.agree.idxmax()])"
      ],
      "execution_count": null,
      "outputs": [
        {
          "output_type": "execute_result",
          "data": {
            "text/html": [
              "<div>\n",
              "<style scoped>\n",
              "    .dataframe tbody tr th:only-of-type {\n",
              "        vertical-align: middle;\n",
              "    }\n",
              "\n",
              "    .dataframe tbody tr th {\n",
              "        vertical-align: top;\n",
              "    }\n",
              "\n",
              "    .dataframe thead th {\n",
              "        text-align: right;\n",
              "    }\n",
              "</style>\n",
              "<table border=\"1\" class=\"dataframe\">\n",
              "  <thead>\n",
              "    <tr style=\"text-align: right;\">\n",
              "      <th></th>\n",
              "      <th></th>\n",
              "      <th>name</th>\n",
              "      <th>bias</th>\n",
              "      <th>total_votes</th>\n",
              "      <th>agree</th>\n",
              "      <th>disagree</th>\n",
              "      <th>agree_ratio</th>\n",
              "      <th>agreeance_text</th>\n",
              "      <th>allsides_page</th>\n",
              "    </tr>\n",
              "    <tr>\n",
              "      <th>name</th>\n",
              "      <th>bias</th>\n",
              "      <th></th>\n",
              "      <th></th>\n",
              "      <th></th>\n",
              "      <th></th>\n",
              "      <th></th>\n",
              "      <th></th>\n",
              "      <th></th>\n",
              "      <th></th>\n",
              "    </tr>\n",
              "  </thead>\n",
              "  <tbody>\n",
              "    <tr>\n",
              "      <th>ABC News (Online)</th>\n",
              "      <th>left-center</th>\n",
              "      <td>ABC News (Online)</td>\n",
              "      <td>left-center</td>\n",
              "      <td>51173</td>\n",
              "      <td>33893</td>\n",
              "      <td>17280</td>\n",
              "      <td>1.961400</td>\n",
              "      <td>Agrees</td>\n",
              "      <td>https://www.allsides.com/news-source/abc-news-...</td>\n",
              "    </tr>\n",
              "    <tr>\n",
              "      <th>AJ+</th>\n",
              "      <th>left</th>\n",
              "      <td>AJ+</td>\n",
              "      <td>left</td>\n",
              "      <td>740</td>\n",
              "      <td>564</td>\n",
              "      <td>176</td>\n",
              "      <td>3.204545</td>\n",
              "      <td>Absolutely Agrees</td>\n",
              "      <td>https://www.allsides.com/news-source/aj-media-...</td>\n",
              "    </tr>\n",
              "    <tr>\n",
              "      <th>AP Politics &amp; Fact Check</th>\n",
              "      <th>left-center</th>\n",
              "      <td>AP Politics &amp; Fact Check</td>\n",
              "      <td>left-center</td>\n",
              "      <td>9027</td>\n",
              "      <td>4142</td>\n",
              "      <td>4885</td>\n",
              "      <td>0.847902</td>\n",
              "      <td>Somewhat Disagrees</td>\n",
              "      <td>https://www.allsides.com/news-source/ap-fact-c...</td>\n",
              "    </tr>\n",
              "    <tr>\n",
              "      <th>AZ Central</th>\n",
              "      <th>center</th>\n",
              "      <td>AZ Central</td>\n",
              "      <td>center</td>\n",
              "      <td>586</td>\n",
              "      <td>221</td>\n",
              "      <td>365</td>\n",
              "      <td>0.605479</td>\n",
              "      <td>Disagrees</td>\n",
              "      <td>https://www.allsides.com/news-source/az-centra...</td>\n",
              "    </tr>\n",
              "    <tr>\n",
              "      <th>Above The Law</th>\n",
              "      <th>left-center</th>\n",
              "      <td>Above The Law</td>\n",
              "      <td>left-center</td>\n",
              "      <td>346</td>\n",
              "      <td>234</td>\n",
              "      <td>112</td>\n",
              "      <td>2.089286</td>\n",
              "      <td>Strongly Agrees</td>\n",
              "      <td>https://www.allsides.com/news-source/above-law...</td>\n",
              "    </tr>\n",
              "    <tr>\n",
              "      <th>...</th>\n",
              "      <th>...</th>\n",
              "      <td>...</td>\n",
              "      <td>...</td>\n",
              "      <td>...</td>\n",
              "      <td>...</td>\n",
              "      <td>...</td>\n",
              "      <td>...</td>\n",
              "      <td>...</td>\n",
              "      <td>...</td>\n",
              "    </tr>\n",
              "    <tr>\n",
              "      <th>Wisconsin Gazette</th>\n",
              "      <th>left-center</th>\n",
              "      <td>Wisconsin Gazette</td>\n",
              "      <td>left-center</td>\n",
              "      <td>465</td>\n",
              "      <td>246</td>\n",
              "      <td>219</td>\n",
              "      <td>1.123288</td>\n",
              "      <td>Somewhat Agrees</td>\n",
              "      <td>https://www.allsides.com/news-source/wisconsin...</td>\n",
              "    </tr>\n",
              "    <tr>\n",
              "      <th>Yahoo News</th>\n",
              "      <th>left-center</th>\n",
              "      <td>Yahoo News</td>\n",
              "      <td>left-center</td>\n",
              "      <td>6147</td>\n",
              "      <td>3746</td>\n",
              "      <td>2401</td>\n",
              "      <td>1.560183</td>\n",
              "      <td>Agrees</td>\n",
              "      <td>https://www.allsides.com/news-source/yahoo-new...</td>\n",
              "    </tr>\n",
              "    <tr>\n",
              "      <th>Yahoo! The 360</th>\n",
              "      <th>allsides</th>\n",
              "      <td>Yahoo! The 360</td>\n",
              "      <td>allsides</td>\n",
              "      <td>449</td>\n",
              "      <td>170</td>\n",
              "      <td>279</td>\n",
              "      <td>0.609319</td>\n",
              "      <td>Disagrees</td>\n",
              "      <td>https://www.allsides.com/news-source/yahoo-360...</td>\n",
              "    </tr>\n",
              "    <tr>\n",
              "      <th>Yes! Magazine</th>\n",
              "      <th>left</th>\n",
              "      <td>Yes! Magazine</td>\n",
              "      <td>left</td>\n",
              "      <td>689</td>\n",
              "      <td>453</td>\n",
              "      <td>236</td>\n",
              "      <td>1.919492</td>\n",
              "      <td>Agrees</td>\n",
              "      <td>https://www.allsides.com/news-source/yes-magazine</td>\n",
              "    </tr>\n",
              "    <tr>\n",
              "      <th>ZeroHedge</th>\n",
              "      <th>right-center</th>\n",
              "      <td>ZeroHedge</td>\n",
              "      <td>right-center</td>\n",
              "      <td>229</td>\n",
              "      <td>135</td>\n",
              "      <td>94</td>\n",
              "      <td>1.436170</td>\n",
              "      <td>Somewhat Agrees</td>\n",
              "      <td>https://www.allsides.com/news-source/zerohedge...</td>\n",
              "    </tr>\n",
              "  </tbody>\n",
              "</table>\n",
              "<p>438 rows × 8 columns</p>\n",
              "</div>"
            ],
            "text/plain": [
              "                                                           name  ...                                      allsides_page\n",
              "name                     bias                                    ...                                                   \n",
              "ABC News (Online)        left-center          ABC News (Online)  ...  https://www.allsides.com/news-source/abc-news-...\n",
              "AJ+                      left                               AJ+  ...  https://www.allsides.com/news-source/aj-media-...\n",
              "AP Politics & Fact Check left-center   AP Politics & Fact Check  ...  https://www.allsides.com/news-source/ap-fact-c...\n",
              "AZ Central               center                      AZ Central  ...  https://www.allsides.com/news-source/az-centra...\n",
              "Above The Law            left-center              Above The Law  ...  https://www.allsides.com/news-source/above-law...\n",
              "...                                                         ...  ...                                                ...\n",
              "Wisconsin Gazette        left-center          Wisconsin Gazette  ...  https://www.allsides.com/news-source/wisconsin...\n",
              "Yahoo News               left-center                 Yahoo News  ...  https://www.allsides.com/news-source/yahoo-new...\n",
              "Yahoo! The 360           allsides                Yahoo! The 360  ...  https://www.allsides.com/news-source/yahoo-360...\n",
              "Yes! Magazine            left                     Yes! Magazine  ...  https://www.allsides.com/news-source/yes-magazine\n",
              "ZeroHedge                right-center                 ZeroHedge  ...  https://www.allsides.com/news-source/zerohedge...\n",
              "\n",
              "[438 rows x 8 columns]"
            ]
          },
          "metadata": {
            "tags": []
          },
          "execution_count": 33
        }
      ]
    },
    {
      "cell_type": "code",
      "metadata": {
        "colab": {
          "base_uri": "https://localhost:8080/",
          "height": 450
        },
        "id": "R2oFnHDpKd8p",
        "outputId": "186098f4-871b-44bc-baa8-5e10fb1cc4c9"
      },
      "source": [
        "rating_df.groupby(['name']).total_votes.agg([len, min, max])"
      ],
      "execution_count": null,
      "outputs": [
        {
          "output_type": "execute_result",
          "data": {
            "text/html": [
              "<div>\n",
              "<style scoped>\n",
              "    .dataframe tbody tr th:only-of-type {\n",
              "        vertical-align: middle;\n",
              "    }\n",
              "\n",
              "    .dataframe tbody tr th {\n",
              "        vertical-align: top;\n",
              "    }\n",
              "\n",
              "    .dataframe thead th {\n",
              "        text-align: right;\n",
              "    }\n",
              "</style>\n",
              "<table border=\"1\" class=\"dataframe\">\n",
              "  <thead>\n",
              "    <tr style=\"text-align: right;\">\n",
              "      <th></th>\n",
              "      <th>len</th>\n",
              "      <th>min</th>\n",
              "      <th>max</th>\n",
              "    </tr>\n",
              "    <tr>\n",
              "      <th>name</th>\n",
              "      <th></th>\n",
              "      <th></th>\n",
              "      <th></th>\n",
              "    </tr>\n",
              "  </thead>\n",
              "  <tbody>\n",
              "    <tr>\n",
              "      <th>ABC News (Online)</th>\n",
              "      <td>1</td>\n",
              "      <td>51173</td>\n",
              "      <td>51173</td>\n",
              "    </tr>\n",
              "    <tr>\n",
              "      <th>AJ+</th>\n",
              "      <td>1</td>\n",
              "      <td>740</td>\n",
              "      <td>740</td>\n",
              "    </tr>\n",
              "    <tr>\n",
              "      <th>AP Politics &amp; Fact Check</th>\n",
              "      <td>1</td>\n",
              "      <td>9027</td>\n",
              "      <td>9027</td>\n",
              "    </tr>\n",
              "    <tr>\n",
              "      <th>AZ Central</th>\n",
              "      <td>1</td>\n",
              "      <td>586</td>\n",
              "      <td>586</td>\n",
              "    </tr>\n",
              "    <tr>\n",
              "      <th>Above The Law</th>\n",
              "      <td>1</td>\n",
              "      <td>346</td>\n",
              "      <td>346</td>\n",
              "    </tr>\n",
              "    <tr>\n",
              "      <th>...</th>\n",
              "      <td>...</td>\n",
              "      <td>...</td>\n",
              "      <td>...</td>\n",
              "    </tr>\n",
              "    <tr>\n",
              "      <th>Wisconsin Gazette</th>\n",
              "      <td>1</td>\n",
              "      <td>465</td>\n",
              "      <td>465</td>\n",
              "    </tr>\n",
              "    <tr>\n",
              "      <th>Yahoo News</th>\n",
              "      <td>1</td>\n",
              "      <td>6147</td>\n",
              "      <td>6147</td>\n",
              "    </tr>\n",
              "    <tr>\n",
              "      <th>Yahoo! The 360</th>\n",
              "      <td>1</td>\n",
              "      <td>449</td>\n",
              "      <td>449</td>\n",
              "    </tr>\n",
              "    <tr>\n",
              "      <th>Yes! Magazine</th>\n",
              "      <td>1</td>\n",
              "      <td>689</td>\n",
              "      <td>689</td>\n",
              "    </tr>\n",
              "    <tr>\n",
              "      <th>ZeroHedge</th>\n",
              "      <td>1</td>\n",
              "      <td>229</td>\n",
              "      <td>229</td>\n",
              "    </tr>\n",
              "  </tbody>\n",
              "</table>\n",
              "<p>438 rows × 3 columns</p>\n",
              "</div>"
            ],
            "text/plain": [
              "                          len    min    max\n",
              "name                                       \n",
              "ABC News (Online)           1  51173  51173\n",
              "AJ+                         1    740    740\n",
              "AP Politics & Fact Check    1   9027   9027\n",
              "AZ Central                  1    586    586\n",
              "Above The Law               1    346    346\n",
              "...                       ...    ...    ...\n",
              "Wisconsin Gazette           1    465    465\n",
              "Yahoo News                  1   6147   6147\n",
              "Yahoo! The 360              1    449    449\n",
              "Yes! Magazine               1    689    689\n",
              "ZeroHedge                   1    229    229\n",
              "\n",
              "[438 rows x 3 columns]"
            ]
          },
          "metadata": {
            "tags": []
          },
          "execution_count": 6
        }
      ]
    },
    {
      "cell_type": "code",
      "metadata": {
        "colab": {
          "base_uri": "https://localhost:8080/",
          "height": 514
        },
        "id": "kyBSQPewQVQI",
        "outputId": "302a0d26-e1d5-47de-c670-8adc64b6e266"
      },
      "source": [
        "index_df = df.groupby(['Index']).Open.agg([len, min, max])\n",
        "index_df"
      ],
      "execution_count": null,
      "outputs": [
        {
          "output_type": "execute_result",
          "data": {
            "text/html": [
              "<div>\n",
              "<style scoped>\n",
              "    .dataframe tbody tr th:only-of-type {\n",
              "        vertical-align: middle;\n",
              "    }\n",
              "\n",
              "    .dataframe tbody tr th {\n",
              "        vertical-align: top;\n",
              "    }\n",
              "\n",
              "    .dataframe thead th {\n",
              "        text-align: right;\n",
              "    }\n",
              "</style>\n",
              "<table border=\"1\" class=\"dataframe\">\n",
              "  <thead>\n",
              "    <tr style=\"text-align: right;\">\n",
              "      <th></th>\n",
              "      <th>len</th>\n",
              "      <th>min</th>\n",
              "      <th>max</th>\n",
              "    </tr>\n",
              "    <tr>\n",
              "      <th>Index</th>\n",
              "      <th></th>\n",
              "      <th></th>\n",
              "      <th></th>\n",
              "    </tr>\n",
              "  </thead>\n",
              "  <tbody>\n",
              "    <tr>\n",
              "      <th>000001.SS</th>\n",
              "      <td>5963.0</td>\n",
              "      <td>1007.901001</td>\n",
              "      <td>6057.428223</td>\n",
              "    </tr>\n",
              "    <tr>\n",
              "      <th>399001.SZ</th>\n",
              "      <td>5928.0</td>\n",
              "      <td>2533.270020</td>\n",
              "      <td>19554.580080</td>\n",
              "    </tr>\n",
              "    <tr>\n",
              "      <th>GDAXI</th>\n",
              "      <td>8606.0</td>\n",
              "      <td>936.000000</td>\n",
              "      <td>15548.290040</td>\n",
              "    </tr>\n",
              "    <tr>\n",
              "      <th>GSPTSE</th>\n",
              "      <td>10776.0</td>\n",
              "      <td>1352.000000</td>\n",
              "      <td>19905.800780</td>\n",
              "    </tr>\n",
              "    <tr>\n",
              "      <th>HSI</th>\n",
              "      <td>8750.0</td>\n",
              "      <td>1950.500000</td>\n",
              "      <td>33335.480470</td>\n",
              "    </tr>\n",
              "    <tr>\n",
              "      <th>IXIC</th>\n",
              "      <td>12690.0</td>\n",
              "      <td>54.869999</td>\n",
              "      <td>14204.509770</td>\n",
              "    </tr>\n",
              "    <tr>\n",
              "      <th>J203.JO</th>\n",
              "      <td>2387.0</td>\n",
              "      <td>32887.449220</td>\n",
              "      <td>68775.062500</td>\n",
              "    </tr>\n",
              "    <tr>\n",
              "      <th>KS11</th>\n",
              "      <td>6181.0</td>\n",
              "      <td>283.410004</td>\n",
              "      <td>3239.919922</td>\n",
              "    </tr>\n",
              "    <tr>\n",
              "      <th>N100</th>\n",
              "      <td>5507.0</td>\n",
              "      <td>427.600006</td>\n",
              "      <td>1258.489990</td>\n",
              "    </tr>\n",
              "    <tr>\n",
              "      <th>N225</th>\n",
              "      <td>14500.0</td>\n",
              "      <td>1020.489990</td>\n",
              "      <td>38921.648440</td>\n",
              "    </tr>\n",
              "    <tr>\n",
              "      <th>NSEI</th>\n",
              "      <td>3381.0</td>\n",
              "      <td>2553.600098</td>\n",
              "      <td>15437.750000</td>\n",
              "    </tr>\n",
              "    <tr>\n",
              "      <th>NYA</th>\n",
              "      <td>13948.0</td>\n",
              "      <td>347.769989</td>\n",
              "      <td>16590.429690</td>\n",
              "    </tr>\n",
              "    <tr>\n",
              "      <th>SSMI</th>\n",
              "      <td>7830.0</td>\n",
              "      <td>1288.699951</td>\n",
              "      <td>11345.400390</td>\n",
              "    </tr>\n",
              "    <tr>\n",
              "      <th>TWII</th>\n",
              "      <td>6010.0</td>\n",
              "      <td>3475.870117</td>\n",
              "      <td>17646.929690</td>\n",
              "    </tr>\n",
              "  </tbody>\n",
              "</table>\n",
              "</div>"
            ],
            "text/plain": [
              "               len           min           max\n",
              "Index                                         \n",
              "000001.SS   5963.0   1007.901001   6057.428223\n",
              "399001.SZ   5928.0   2533.270020  19554.580080\n",
              "GDAXI       8606.0    936.000000  15548.290040\n",
              "GSPTSE     10776.0   1352.000000  19905.800780\n",
              "HSI         8750.0   1950.500000  33335.480470\n",
              "IXIC       12690.0     54.869999  14204.509770\n",
              "J203.JO     2387.0  32887.449220  68775.062500\n",
              "KS11        6181.0    283.410004   3239.919922\n",
              "N100        5507.0    427.600006   1258.489990\n",
              "N225       14500.0   1020.489990  38921.648440\n",
              "NSEI        3381.0   2553.600098  15437.750000\n",
              "NYA        13948.0    347.769989  16590.429690\n",
              "SSMI        7830.0   1288.699951  11345.400390\n",
              "TWII        6010.0   3475.870117  17646.929690"
            ]
          },
          "metadata": {
            "tags": []
          },
          "execution_count": 14
        }
      ]
    },
    {
      "cell_type": "code",
      "metadata": {
        "colab": {
          "base_uri": "https://localhost:8080/",
          "height": 514
        },
        "id": "X1ZjbQTuTqoE",
        "outputId": "56fa8fc1-c726-4555-9ab7-4fd0d90a1256"
      },
      "source": [
        "index_df.sort_values(by='len')"
      ],
      "execution_count": null,
      "outputs": [
        {
          "output_type": "execute_result",
          "data": {
            "text/html": [
              "<div>\n",
              "<style scoped>\n",
              "    .dataframe tbody tr th:only-of-type {\n",
              "        vertical-align: middle;\n",
              "    }\n",
              "\n",
              "    .dataframe tbody tr th {\n",
              "        vertical-align: top;\n",
              "    }\n",
              "\n",
              "    .dataframe thead th {\n",
              "        text-align: right;\n",
              "    }\n",
              "</style>\n",
              "<table border=\"1\" class=\"dataframe\">\n",
              "  <thead>\n",
              "    <tr style=\"text-align: right;\">\n",
              "      <th></th>\n",
              "      <th>len</th>\n",
              "      <th>min</th>\n",
              "      <th>max</th>\n",
              "    </tr>\n",
              "    <tr>\n",
              "      <th>Index</th>\n",
              "      <th></th>\n",
              "      <th></th>\n",
              "      <th></th>\n",
              "    </tr>\n",
              "  </thead>\n",
              "  <tbody>\n",
              "    <tr>\n",
              "      <th>J203.JO</th>\n",
              "      <td>2387.0</td>\n",
              "      <td>32887.449220</td>\n",
              "      <td>68775.062500</td>\n",
              "    </tr>\n",
              "    <tr>\n",
              "      <th>NSEI</th>\n",
              "      <td>3381.0</td>\n",
              "      <td>2553.600098</td>\n",
              "      <td>15437.750000</td>\n",
              "    </tr>\n",
              "    <tr>\n",
              "      <th>N100</th>\n",
              "      <td>5507.0</td>\n",
              "      <td>427.600006</td>\n",
              "      <td>1258.489990</td>\n",
              "    </tr>\n",
              "    <tr>\n",
              "      <th>399001.SZ</th>\n",
              "      <td>5928.0</td>\n",
              "      <td>2533.270020</td>\n",
              "      <td>19554.580080</td>\n",
              "    </tr>\n",
              "    <tr>\n",
              "      <th>000001.SS</th>\n",
              "      <td>5963.0</td>\n",
              "      <td>1007.901001</td>\n",
              "      <td>6057.428223</td>\n",
              "    </tr>\n",
              "    <tr>\n",
              "      <th>TWII</th>\n",
              "      <td>6010.0</td>\n",
              "      <td>3475.870117</td>\n",
              "      <td>17646.929690</td>\n",
              "    </tr>\n",
              "    <tr>\n",
              "      <th>KS11</th>\n",
              "      <td>6181.0</td>\n",
              "      <td>283.410004</td>\n",
              "      <td>3239.919922</td>\n",
              "    </tr>\n",
              "    <tr>\n",
              "      <th>SSMI</th>\n",
              "      <td>7830.0</td>\n",
              "      <td>1288.699951</td>\n",
              "      <td>11345.400390</td>\n",
              "    </tr>\n",
              "    <tr>\n",
              "      <th>GDAXI</th>\n",
              "      <td>8606.0</td>\n",
              "      <td>936.000000</td>\n",
              "      <td>15548.290040</td>\n",
              "    </tr>\n",
              "    <tr>\n",
              "      <th>HSI</th>\n",
              "      <td>8750.0</td>\n",
              "      <td>1950.500000</td>\n",
              "      <td>33335.480470</td>\n",
              "    </tr>\n",
              "    <tr>\n",
              "      <th>GSPTSE</th>\n",
              "      <td>10776.0</td>\n",
              "      <td>1352.000000</td>\n",
              "      <td>19905.800780</td>\n",
              "    </tr>\n",
              "    <tr>\n",
              "      <th>IXIC</th>\n",
              "      <td>12690.0</td>\n",
              "      <td>54.869999</td>\n",
              "      <td>14204.509770</td>\n",
              "    </tr>\n",
              "    <tr>\n",
              "      <th>NYA</th>\n",
              "      <td>13948.0</td>\n",
              "      <td>347.769989</td>\n",
              "      <td>16590.429690</td>\n",
              "    </tr>\n",
              "    <tr>\n",
              "      <th>N225</th>\n",
              "      <td>14500.0</td>\n",
              "      <td>1020.489990</td>\n",
              "      <td>38921.648440</td>\n",
              "    </tr>\n",
              "  </tbody>\n",
              "</table>\n",
              "</div>"
            ],
            "text/plain": [
              "               len           min           max\n",
              "Index                                         \n",
              "J203.JO     2387.0  32887.449220  68775.062500\n",
              "NSEI        3381.0   2553.600098  15437.750000\n",
              "N100        5507.0    427.600006   1258.489990\n",
              "399001.SZ   5928.0   2533.270020  19554.580080\n",
              "000001.SS   5963.0   1007.901001   6057.428223\n",
              "TWII        6010.0   3475.870117  17646.929690\n",
              "KS11        6181.0    283.410004   3239.919922\n",
              "SSMI        7830.0   1288.699951  11345.400390\n",
              "GDAXI       8606.0    936.000000  15548.290040\n",
              "HSI         8750.0   1950.500000  33335.480470\n",
              "GSPTSE     10776.0   1352.000000  19905.800780\n",
              "IXIC       12690.0     54.869999  14204.509770\n",
              "NYA        13948.0    347.769989  16590.429690\n",
              "N225       14500.0   1020.489990  38921.648440"
            ]
          },
          "metadata": {
            "tags": []
          },
          "execution_count": 15
        }
      ]
    },
    {
      "cell_type": "code",
      "metadata": {
        "colab": {
          "base_uri": "https://localhost:8080/",
          "height": 35
        },
        "id": "hdbxjcmxR3I5",
        "outputId": "8c7c9fdd-b4b7-4d4b-b0f9-a7e5aaa1a505"
      },
      "source": [
        "df.Index.min()"
      ],
      "execution_count": null,
      "outputs": [
        {
          "output_type": "execute_result",
          "data": {
            "application/vnd.google.colaboratory.intrinsic+json": {
              "type": "string"
            },
            "text/plain": [
              "'000001.SS'"
            ]
          },
          "metadata": {
            "tags": []
          },
          "execution_count": 13
        }
      ]
    },
    {
      "cell_type": "code",
      "metadata": {
        "colab": {
          "base_uri": "https://localhost:8080/",
          "height": 35
        },
        "id": "44DvxJ_aRqOJ",
        "outputId": "73355fd6-e697-4a76-f988-77647c89b900"
      },
      "source": [
        "df.Index.max()"
      ],
      "execution_count": null,
      "outputs": [
        {
          "output_type": "execute_result",
          "data": {
            "application/vnd.google.colaboratory.intrinsic+json": {
              "type": "string"
            },
            "text/plain": [
              "'TWII'"
            ]
          },
          "metadata": {
            "tags": []
          },
          "execution_count": 12
        }
      ]
    },
    {
      "cell_type": "code",
      "metadata": {
        "colab": {
          "base_uri": "https://localhost:8080/",
          "height": 450
        },
        "id": "PPe5X9G1UcnZ",
        "outputId": "17c46102-732c-4a34-a120-9ee978dc3de1"
      },
      "source": [
        "date_df1 = df.groupby(['Date']).High.agg([len, min, max])\n",
        "date_df1"
      ],
      "execution_count": null,
      "outputs": [
        {
          "output_type": "execute_result",
          "data": {
            "text/html": [
              "<div>\n",
              "<style scoped>\n",
              "    .dataframe tbody tr th:only-of-type {\n",
              "        vertical-align: middle;\n",
              "    }\n",
              "\n",
              "    .dataframe tbody tr th {\n",
              "        vertical-align: top;\n",
              "    }\n",
              "\n",
              "    .dataframe thead th {\n",
              "        text-align: right;\n",
              "    }\n",
              "</style>\n",
              "<table border=\"1\" class=\"dataframe\">\n",
              "  <thead>\n",
              "    <tr style=\"text-align: right;\">\n",
              "      <th></th>\n",
              "      <th>len</th>\n",
              "      <th>min</th>\n",
              "      <th>max</th>\n",
              "    </tr>\n",
              "    <tr>\n",
              "      <th>Date</th>\n",
              "      <th></th>\n",
              "      <th></th>\n",
              "      <th></th>\n",
              "    </tr>\n",
              "  </thead>\n",
              "  <tbody>\n",
              "    <tr>\n",
              "      <th>1965-01-05</th>\n",
              "      <td>1.0</td>\n",
              "      <td>1257.719971</td>\n",
              "      <td>1257.719971</td>\n",
              "    </tr>\n",
              "    <tr>\n",
              "      <th>1965-01-06</th>\n",
              "      <td>1.0</td>\n",
              "      <td>1263.989990</td>\n",
              "      <td>1263.989990</td>\n",
              "    </tr>\n",
              "    <tr>\n",
              "      <th>1965-01-07</th>\n",
              "      <td>1.0</td>\n",
              "      <td>1274.270020</td>\n",
              "      <td>1274.270020</td>\n",
              "    </tr>\n",
              "    <tr>\n",
              "      <th>1965-01-08</th>\n",
              "      <td>1.0</td>\n",
              "      <td>1286.430054</td>\n",
              "      <td>1286.430054</td>\n",
              "    </tr>\n",
              "    <tr>\n",
              "      <th>1965-01-11</th>\n",
              "      <td>1.0</td>\n",
              "      <td>NaN</td>\n",
              "      <td>NaN</td>\n",
              "    </tr>\n",
              "    <tr>\n",
              "      <th>...</th>\n",
              "      <td>...</td>\n",
              "      <td>...</td>\n",
              "      <td>...</td>\n",
              "    </tr>\n",
              "    <tr>\n",
              "      <th>2021-05-28</th>\n",
              "      <td>14.0</td>\n",
              "      <td>1259.209961</td>\n",
              "      <td>67726.562500</td>\n",
              "    </tr>\n",
              "    <tr>\n",
              "      <th>2021-05-31</th>\n",
              "      <td>12.0</td>\n",
              "      <td>1258.880005</td>\n",
              "      <td>68140.851560</td>\n",
              "    </tr>\n",
              "    <tr>\n",
              "      <th>2021-06-01</th>\n",
              "      <td>4.0</td>\n",
              "      <td>1265.660034</td>\n",
              "      <td>29075.470700</td>\n",
              "    </tr>\n",
              "    <tr>\n",
              "      <th>2021-06-02</th>\n",
              "      <td>3.0</td>\n",
              "      <td>1263.709961</td>\n",
              "      <td>29003.550780</td>\n",
              "    </tr>\n",
              "    <tr>\n",
              "      <th>2021-06-03</th>\n",
              "      <td>1.0</td>\n",
              "      <td>29157.160160</td>\n",
              "      <td>29157.160160</td>\n",
              "    </tr>\n",
              "  </tbody>\n",
              "</table>\n",
              "<p>14731 rows × 3 columns</p>\n",
              "</div>"
            ],
            "text/plain": [
              "             len           min           max\n",
              "Date                                        \n",
              "1965-01-05   1.0   1257.719971   1257.719971\n",
              "1965-01-06   1.0   1263.989990   1263.989990\n",
              "1965-01-07   1.0   1274.270020   1274.270020\n",
              "1965-01-08   1.0   1286.430054   1286.430054\n",
              "1965-01-11   1.0           NaN           NaN\n",
              "...          ...           ...           ...\n",
              "2021-05-28  14.0   1259.209961  67726.562500\n",
              "2021-05-31  12.0   1258.880005  68140.851560\n",
              "2021-06-01   4.0   1265.660034  29075.470700\n",
              "2021-06-02   3.0   1263.709961  29003.550780\n",
              "2021-06-03   1.0  29157.160160  29157.160160\n",
              "\n",
              "[14731 rows x 3 columns]"
            ]
          },
          "metadata": {
            "tags": []
          },
          "execution_count": 17
        }
      ]
    },
    {
      "cell_type": "code",
      "metadata": {
        "colab": {
          "base_uri": "https://localhost:8080/",
          "height": 419
        },
        "id": "KL_x4GuyVNfR",
        "outputId": "c5b829dd-1222-494e-a2ee-f3f27f67d7b8"
      },
      "source": [
        "date_df1 = date_df1.reset_index()\n",
        "date_df1"
      ],
      "execution_count": null,
      "outputs": [
        {
          "output_type": "execute_result",
          "data": {
            "text/html": [
              "<div>\n",
              "<style scoped>\n",
              "    .dataframe tbody tr th:only-of-type {\n",
              "        vertical-align: middle;\n",
              "    }\n",
              "\n",
              "    .dataframe tbody tr th {\n",
              "        vertical-align: top;\n",
              "    }\n",
              "\n",
              "    .dataframe thead th {\n",
              "        text-align: right;\n",
              "    }\n",
              "</style>\n",
              "<table border=\"1\" class=\"dataframe\">\n",
              "  <thead>\n",
              "    <tr style=\"text-align: right;\">\n",
              "      <th></th>\n",
              "      <th>Date</th>\n",
              "      <th>len</th>\n",
              "      <th>min</th>\n",
              "      <th>max</th>\n",
              "    </tr>\n",
              "  </thead>\n",
              "  <tbody>\n",
              "    <tr>\n",
              "      <th>0</th>\n",
              "      <td>1965-01-05</td>\n",
              "      <td>1.0</td>\n",
              "      <td>1257.719971</td>\n",
              "      <td>1257.719971</td>\n",
              "    </tr>\n",
              "    <tr>\n",
              "      <th>1</th>\n",
              "      <td>1965-01-06</td>\n",
              "      <td>1.0</td>\n",
              "      <td>1263.989990</td>\n",
              "      <td>1263.989990</td>\n",
              "    </tr>\n",
              "    <tr>\n",
              "      <th>2</th>\n",
              "      <td>1965-01-07</td>\n",
              "      <td>1.0</td>\n",
              "      <td>1274.270020</td>\n",
              "      <td>1274.270020</td>\n",
              "    </tr>\n",
              "    <tr>\n",
              "      <th>3</th>\n",
              "      <td>1965-01-08</td>\n",
              "      <td>1.0</td>\n",
              "      <td>1286.430054</td>\n",
              "      <td>1286.430054</td>\n",
              "    </tr>\n",
              "    <tr>\n",
              "      <th>4</th>\n",
              "      <td>1965-01-11</td>\n",
              "      <td>1.0</td>\n",
              "      <td>NaN</td>\n",
              "      <td>NaN</td>\n",
              "    </tr>\n",
              "    <tr>\n",
              "      <th>...</th>\n",
              "      <td>...</td>\n",
              "      <td>...</td>\n",
              "      <td>...</td>\n",
              "      <td>...</td>\n",
              "    </tr>\n",
              "    <tr>\n",
              "      <th>14726</th>\n",
              "      <td>2021-05-28</td>\n",
              "      <td>14.0</td>\n",
              "      <td>1259.209961</td>\n",
              "      <td>67726.562500</td>\n",
              "    </tr>\n",
              "    <tr>\n",
              "      <th>14727</th>\n",
              "      <td>2021-05-31</td>\n",
              "      <td>12.0</td>\n",
              "      <td>1258.880005</td>\n",
              "      <td>68140.851560</td>\n",
              "    </tr>\n",
              "    <tr>\n",
              "      <th>14728</th>\n",
              "      <td>2021-06-01</td>\n",
              "      <td>4.0</td>\n",
              "      <td>1265.660034</td>\n",
              "      <td>29075.470700</td>\n",
              "    </tr>\n",
              "    <tr>\n",
              "      <th>14729</th>\n",
              "      <td>2021-06-02</td>\n",
              "      <td>3.0</td>\n",
              "      <td>1263.709961</td>\n",
              "      <td>29003.550780</td>\n",
              "    </tr>\n",
              "    <tr>\n",
              "      <th>14730</th>\n",
              "      <td>2021-06-03</td>\n",
              "      <td>1.0</td>\n",
              "      <td>29157.160160</td>\n",
              "      <td>29157.160160</td>\n",
              "    </tr>\n",
              "  </tbody>\n",
              "</table>\n",
              "<p>14731 rows × 4 columns</p>\n",
              "</div>"
            ],
            "text/plain": [
              "             Date   len           min           max\n",
              "0      1965-01-05   1.0   1257.719971   1257.719971\n",
              "1      1965-01-06   1.0   1263.989990   1263.989990\n",
              "2      1965-01-07   1.0   1274.270020   1274.270020\n",
              "3      1965-01-08   1.0   1286.430054   1286.430054\n",
              "4      1965-01-11   1.0           NaN           NaN\n",
              "...           ...   ...           ...           ...\n",
              "14726  2021-05-28  14.0   1259.209961  67726.562500\n",
              "14727  2021-05-31  12.0   1258.880005  68140.851560\n",
              "14728  2021-06-01   4.0   1265.660034  29075.470700\n",
              "14729  2021-06-02   3.0   1263.709961  29003.550780\n",
              "14730  2021-06-03   1.0  29157.160160  29157.160160\n",
              "\n",
              "[14731 rows x 4 columns]"
            ]
          },
          "metadata": {
            "tags": []
          },
          "execution_count": 20
        }
      ]
    },
    {
      "cell_type": "code",
      "metadata": {
        "colab": {
          "base_uri": "https://localhost:8080/",
          "height": 419
        },
        "id": "k5mkGC5fVrCv",
        "outputId": "f0301e45-f5c1-4851-ec86-f6e06dd4d9bd"
      },
      "source": [
        "date_df1.sort_()"
      ],
      "execution_count": null,
      "outputs": [
        {
          "output_type": "execute_result",
          "data": {
            "text/html": [
              "<div>\n",
              "<style scoped>\n",
              "    .dataframe tbody tr th:only-of-type {\n",
              "        vertical-align: middle;\n",
              "    }\n",
              "\n",
              "    .dataframe tbody tr th {\n",
              "        vertical-align: top;\n",
              "    }\n",
              "\n",
              "    .dataframe thead th {\n",
              "        text-align: right;\n",
              "    }\n",
              "</style>\n",
              "<table border=\"1\" class=\"dataframe\">\n",
              "  <thead>\n",
              "    <tr style=\"text-align: right;\">\n",
              "      <th></th>\n",
              "      <th>Date</th>\n",
              "      <th>len</th>\n",
              "      <th>min</th>\n",
              "      <th>max</th>\n",
              "    </tr>\n",
              "  </thead>\n",
              "  <tbody>\n",
              "    <tr>\n",
              "      <th>0</th>\n",
              "      <td>1965-01-05</td>\n",
              "      <td>1.0</td>\n",
              "      <td>1257.719971</td>\n",
              "      <td>1257.719971</td>\n",
              "    </tr>\n",
              "    <tr>\n",
              "      <th>1</th>\n",
              "      <td>1965-01-06</td>\n",
              "      <td>1.0</td>\n",
              "      <td>1263.989990</td>\n",
              "      <td>1263.989990</td>\n",
              "    </tr>\n",
              "    <tr>\n",
              "      <th>2</th>\n",
              "      <td>1965-01-07</td>\n",
              "      <td>1.0</td>\n",
              "      <td>1274.270020</td>\n",
              "      <td>1274.270020</td>\n",
              "    </tr>\n",
              "    <tr>\n",
              "      <th>3</th>\n",
              "      <td>1965-01-08</td>\n",
              "      <td>1.0</td>\n",
              "      <td>1286.430054</td>\n",
              "      <td>1286.430054</td>\n",
              "    </tr>\n",
              "    <tr>\n",
              "      <th>4</th>\n",
              "      <td>1965-01-11</td>\n",
              "      <td>1.0</td>\n",
              "      <td>NaN</td>\n",
              "      <td>NaN</td>\n",
              "    </tr>\n",
              "    <tr>\n",
              "      <th>...</th>\n",
              "      <td>...</td>\n",
              "      <td>...</td>\n",
              "      <td>...</td>\n",
              "      <td>...</td>\n",
              "    </tr>\n",
              "    <tr>\n",
              "      <th>14726</th>\n",
              "      <td>2021-05-28</td>\n",
              "      <td>14.0</td>\n",
              "      <td>1259.209961</td>\n",
              "      <td>67726.562500</td>\n",
              "    </tr>\n",
              "    <tr>\n",
              "      <th>14727</th>\n",
              "      <td>2021-05-31</td>\n",
              "      <td>12.0</td>\n",
              "      <td>1258.880005</td>\n",
              "      <td>68140.851560</td>\n",
              "    </tr>\n",
              "    <tr>\n",
              "      <th>14728</th>\n",
              "      <td>2021-06-01</td>\n",
              "      <td>4.0</td>\n",
              "      <td>1265.660034</td>\n",
              "      <td>29075.470700</td>\n",
              "    </tr>\n",
              "    <tr>\n",
              "      <th>14729</th>\n",
              "      <td>2021-06-02</td>\n",
              "      <td>3.0</td>\n",
              "      <td>1263.709961</td>\n",
              "      <td>29003.550780</td>\n",
              "    </tr>\n",
              "    <tr>\n",
              "      <th>14730</th>\n",
              "      <td>2021-06-03</td>\n",
              "      <td>1.0</td>\n",
              "      <td>29157.160160</td>\n",
              "      <td>29157.160160</td>\n",
              "    </tr>\n",
              "  </tbody>\n",
              "</table>\n",
              "<p>14731 rows × 4 columns</p>\n",
              "</div>"
            ],
            "text/plain": [
              "             Date   len           min           max\n",
              "0      1965-01-05   1.0   1257.719971   1257.719971\n",
              "1      1965-01-06   1.0   1263.989990   1263.989990\n",
              "2      1965-01-07   1.0   1274.270020   1274.270020\n",
              "3      1965-01-08   1.0   1286.430054   1286.430054\n",
              "4      1965-01-11   1.0           NaN           NaN\n",
              "...           ...   ...           ...           ...\n",
              "14726  2021-05-28  14.0   1259.209961  67726.562500\n",
              "14727  2021-05-31  12.0   1258.880005  68140.851560\n",
              "14728  2021-06-01   4.0   1265.660034  29075.470700\n",
              "14729  2021-06-02   3.0   1263.709961  29003.550780\n",
              "14730  2021-06-03   1.0  29157.160160  29157.160160\n",
              "\n",
              "[14731 rows x 4 columns]"
            ]
          },
          "metadata": {
            "tags": []
          },
          "execution_count": 21
        }
      ]
    },
    {
      "cell_type": "code",
      "metadata": {
        "colab": {
          "base_uri": "https://localhost:8080/"
        },
        "id": "ieCpjPIXODIH",
        "outputId": "4e400f89-3b31-4ed7-9ce7-cb590f384045"
      },
      "source": [
        "!ls /content/"
      ],
      "execution_count": null,
      "outputs": [
        {
          "output_type": "stream",
          "text": [
            "allsides.csv\t\t\t\t\t  indexProcessed.csv\n",
            "allsides.json\t\t\t\t\t  kaggle.json\n",
            "allsides-ratings-of-bias-in-electronic-media.zip  sample_data\n",
            "indexData.csv\t\t\t\t\t  stock-exchange-data.zip\n",
            "indexInfo.csv\n"
          ],
          "name": "stdout"
        }
      ]
    },
    {
      "cell_type": "code",
      "metadata": {
        "colab": {
          "base_uri": "https://localhost:8080/"
        },
        "id": "slmYDNWHr8mY",
        "outputId": "eb6be301-19c7-4ec4-c865-41f6cdd680ec"
      },
      "source": [
        "pd.notnull(df.Date)"
      ],
      "execution_count": null,
      "outputs": [
        {
          "output_type": "execute_result",
          "data": {
            "text/plain": [
              "0         True\n",
              "1         True\n",
              "2         True\n",
              "3         True\n",
              "4         True\n",
              "          ... \n",
              "112452    True\n",
              "112453    True\n",
              "112454    True\n",
              "112455    True\n",
              "112456    True\n",
              "Name: Date, Length: 112457, dtype: bool"
            ]
          },
          "metadata": {
            "tags": []
          },
          "execution_count": 18
        }
      ]
    },
    {
      "cell_type": "code",
      "metadata": {
        "id": "ps6qda9ltzfE"
      },
      "source": [
        "null_data = pd.DataFrame({'country' : ['usa','london','brazil','india','china','France','canada'], 'points': [80, 90, None,94,100,88,None],'currency':['dollar','euro','peso','rupee',None,None,'cdollar']})"
      ],
      "execution_count": null,
      "outputs": []
    },
    {
      "cell_type": "code",
      "metadata": {
        "colab": {
          "base_uri": "https://localhost:8080/",
          "height": 266
        },
        "id": "A2tz7kC2v6a4",
        "outputId": "e4542f74-bebe-4d48-b6ec-fea5959f10cb"
      },
      "source": [
        "null_data"
      ],
      "execution_count": null,
      "outputs": [
        {
          "output_type": "execute_result",
          "data": {
            "text/html": [
              "<div>\n",
              "<style scoped>\n",
              "    .dataframe tbody tr th:only-of-type {\n",
              "        vertical-align: middle;\n",
              "    }\n",
              "\n",
              "    .dataframe tbody tr th {\n",
              "        vertical-align: top;\n",
              "    }\n",
              "\n",
              "    .dataframe thead th {\n",
              "        text-align: right;\n",
              "    }\n",
              "</style>\n",
              "<table border=\"1\" class=\"dataframe\">\n",
              "  <thead>\n",
              "    <tr style=\"text-align: right;\">\n",
              "      <th></th>\n",
              "      <th>country</th>\n",
              "      <th>points</th>\n",
              "      <th>currency</th>\n",
              "    </tr>\n",
              "  </thead>\n",
              "  <tbody>\n",
              "    <tr>\n",
              "      <th>0</th>\n",
              "      <td>usa</td>\n",
              "      <td>80.0</td>\n",
              "      <td>dollar</td>\n",
              "    </tr>\n",
              "    <tr>\n",
              "      <th>1</th>\n",
              "      <td>london</td>\n",
              "      <td>90.0</td>\n",
              "      <td>euro</td>\n",
              "    </tr>\n",
              "    <tr>\n",
              "      <th>2</th>\n",
              "      <td>brazil</td>\n",
              "      <td>NaN</td>\n",
              "      <td>peso</td>\n",
              "    </tr>\n",
              "    <tr>\n",
              "      <th>3</th>\n",
              "      <td>india</td>\n",
              "      <td>94.0</td>\n",
              "      <td>rupee</td>\n",
              "    </tr>\n",
              "    <tr>\n",
              "      <th>4</th>\n",
              "      <td>china</td>\n",
              "      <td>100.0</td>\n",
              "      <td>None</td>\n",
              "    </tr>\n",
              "    <tr>\n",
              "      <th>5</th>\n",
              "      <td>France</td>\n",
              "      <td>88.0</td>\n",
              "      <td>None</td>\n",
              "    </tr>\n",
              "    <tr>\n",
              "      <th>6</th>\n",
              "      <td>canada</td>\n",
              "      <td>NaN</td>\n",
              "      <td>cdollar</td>\n",
              "    </tr>\n",
              "  </tbody>\n",
              "</table>\n",
              "</div>"
            ],
            "text/plain": [
              "  country  points currency\n",
              "0     usa    80.0   dollar\n",
              "1  london    90.0     euro\n",
              "2  brazil     NaN     peso\n",
              "3   india    94.0    rupee\n",
              "4   china   100.0     None\n",
              "5  France    88.0     None\n",
              "6  canada     NaN  cdollar"
            ]
          },
          "metadata": {
            "tags": []
          },
          "execution_count": 21
        }
      ]
    },
    {
      "cell_type": "code",
      "metadata": {
        "colab": {
          "base_uri": "https://localhost:8080/"
        },
        "id": "t50xH94uwH4k",
        "outputId": "454e77b3-22f4-429a-809b-13f91cf06a88"
      },
      "source": [
        "fd=pd.isnull(null_data.points).sum()\n",
        "fd"
      ],
      "execution_count": null,
      "outputs": [
        {
          "output_type": "execute_result",
          "data": {
            "text/plain": [
              "2"
            ]
          },
          "metadata": {
            "tags": []
          },
          "execution_count": 43
        }
      ]
    },
    {
      "cell_type": "code",
      "metadata": {
        "colab": {
          "base_uri": "https://localhost:8080/"
        },
        "id": "M3WVvk0FwRPu",
        "outputId": "830262f3-68f6-482d-c7e9-dd42ebe470e6"
      },
      "source": [
        "len(fd)-fd.sum()"
      ],
      "execution_count": null,
      "outputs": [
        {
          "output_type": "execute_result",
          "data": {
            "text/plain": [
              "5"
            ]
          },
          "metadata": {
            "tags": []
          },
          "execution_count": 35
        }
      ]
    },
    {
      "cell_type": "code",
      "metadata": {
        "colab": {
          "base_uri": "https://localhost:8080/"
        },
        "id": "v5QLvVB2zBWP",
        "outputId": "7f7b9da0-42db-4320-e65f-c589af2074a4"
      },
      "source": [
        "null_data.points.fillna('unknown')"
      ],
      "execution_count": null,
      "outputs": [
        {
          "output_type": "execute_result",
          "data": {
            "text/plain": [
              "0         80\n",
              "1         90\n",
              "2    unknown\n",
              "3         94\n",
              "4        100\n",
              "5         88\n",
              "6    unknown\n",
              "Name: points, dtype: object"
            ]
          },
          "metadata": {
            "tags": []
          },
          "execution_count": 44
        }
      ]
    },
    {
      "cell_type": "code",
      "metadata": {
        "colab": {
          "base_uri": "https://localhost:8080/"
        },
        "id": "aw8zks-WzF7A",
        "outputId": "3c743c87-21e0-4bb0-d7fe-73f6de9923a6"
      },
      "source": [
        "!kaggle datasets download -d datasnaek/youtube-new"
      ],
      "execution_count": null,
      "outputs": [
        {
          "output_type": "stream",
          "text": [
            "Downloading youtube-new.zip to /content\n",
            " 92% 185M/201M [00:01<00:00, 106MB/s]\n",
            "100% 201M/201M [00:01<00:00, 119MB/s]\n"
          ],
          "name": "stdout"
        }
      ]
    },
    {
      "cell_type": "code",
      "metadata": {
        "colab": {
          "base_uri": "https://localhost:8080/"
        },
        "id": "-lHYgZc7zPij",
        "outputId": "190b622c-2791-41e6-bb0a-ece040471c46"
      },
      "source": [
        "!unzip '/content/youtube-new.zip' -d '/content/'"
      ],
      "execution_count": null,
      "outputs": [
        {
          "output_type": "stream",
          "text": [
            "Archive:  /content/youtube-new.zip\n",
            "  inflating: /content/CA_category_id.json  \n",
            "  inflating: /content/CAvideos.csv   \n",
            "  inflating: /content/DE_category_id.json  \n",
            "  inflating: /content/DEvideos.csv   \n",
            "  inflating: /content/FR_category_id.json  \n",
            "  inflating: /content/FRvideos.csv   \n",
            "  inflating: /content/GB_category_id.json  \n",
            "  inflating: /content/GBvideos.csv   \n",
            "  inflating: /content/IN_category_id.json  \n",
            "  inflating: /content/INvideos.csv   \n",
            "  inflating: /content/JP_category_id.json  \n",
            "  inflating: /content/JPvideos.csv   \n",
            "  inflating: /content/KR_category_id.json  \n",
            "  inflating: /content/KRvideos.csv   \n",
            "  inflating: /content/MX_category_id.json  \n",
            "  inflating: /content/MXvideos.csv   \n",
            "  inflating: /content/RU_category_id.json  \n",
            "  inflating: /content/RUvideos.csv   \n",
            "  inflating: /content/US_category_id.json  \n",
            "  inflating: /content/USvideos.csv   \n"
          ],
          "name": "stdout"
        }
      ]
    },
    {
      "cell_type": "markdown",
      "metadata": {
        "id": "-UTujQb-1AgJ"
      },
      "source": [
        ""
      ]
    },
    {
      "cell_type": "code",
      "metadata": {
        "id": "xtplwd6t1DWg"
      },
      "source": [
        "canadian_youtube = pd.read_csv(\"CAvideos.csv\")\n",
        "british_youtube = pd.read_csv(\"GBvideos.csv\")"
      ],
      "execution_count": null,
      "outputs": []
    },
    {
      "cell_type": "code",
      "metadata": {
        "colab": {
          "base_uri": "https://localhost:8080/",
          "height": 1000
        },
        "id": "0FmqnMxH1h5O",
        "outputId": "c34166ee-604e-47b8-af2e-8cf924f3d9fd"
      },
      "source": [
        "canadian_youtube"
      ],
      "execution_count": null,
      "outputs": [
        {
          "output_type": "execute_result",
          "data": {
            "text/html": [
              "<div>\n",
              "<style scoped>\n",
              "    .dataframe tbody tr th:only-of-type {\n",
              "        vertical-align: middle;\n",
              "    }\n",
              "\n",
              "    .dataframe tbody tr th {\n",
              "        vertical-align: top;\n",
              "    }\n",
              "\n",
              "    .dataframe thead th {\n",
              "        text-align: right;\n",
              "    }\n",
              "</style>\n",
              "<table border=\"1\" class=\"dataframe\">\n",
              "  <thead>\n",
              "    <tr style=\"text-align: right;\">\n",
              "      <th></th>\n",
              "      <th>video_id</th>\n",
              "      <th>trending_date</th>\n",
              "      <th>title</th>\n",
              "      <th>channel_title</th>\n",
              "      <th>category_id</th>\n",
              "      <th>publish_time</th>\n",
              "      <th>tags</th>\n",
              "      <th>views</th>\n",
              "      <th>likes</th>\n",
              "      <th>dislikes</th>\n",
              "      <th>comment_count</th>\n",
              "      <th>thumbnail_link</th>\n",
              "      <th>comments_disabled</th>\n",
              "      <th>ratings_disabled</th>\n",
              "      <th>video_error_or_removed</th>\n",
              "      <th>description</th>\n",
              "    </tr>\n",
              "  </thead>\n",
              "  <tbody>\n",
              "    <tr>\n",
              "      <th>0</th>\n",
              "      <td>n1WpP7iowLc</td>\n",
              "      <td>17.14.11</td>\n",
              "      <td>Eminem - Walk On Water (Audio) ft. Beyoncé</td>\n",
              "      <td>EminemVEVO</td>\n",
              "      <td>10</td>\n",
              "      <td>2017-11-10T17:00:03.000Z</td>\n",
              "      <td>Eminem|\"Walk\"|\"On\"|\"Water\"|\"Aftermath/Shady/In...</td>\n",
              "      <td>17158579</td>\n",
              "      <td>787425</td>\n",
              "      <td>43420</td>\n",
              "      <td>125882</td>\n",
              "      <td>https://i.ytimg.com/vi/n1WpP7iowLc/default.jpg</td>\n",
              "      <td>False</td>\n",
              "      <td>False</td>\n",
              "      <td>False</td>\n",
              "      <td>Eminem's new track Walk on Water ft. Beyoncé i...</td>\n",
              "    </tr>\n",
              "    <tr>\n",
              "      <th>1</th>\n",
              "      <td>0dBIkQ4Mz1M</td>\n",
              "      <td>17.14.11</td>\n",
              "      <td>PLUSH - Bad Unboxing Fan Mail</td>\n",
              "      <td>iDubbbzTV</td>\n",
              "      <td>23</td>\n",
              "      <td>2017-11-13T17:00:00.000Z</td>\n",
              "      <td>plush|\"bad unboxing\"|\"unboxing\"|\"fan mail\"|\"id...</td>\n",
              "      <td>1014651</td>\n",
              "      <td>127794</td>\n",
              "      <td>1688</td>\n",
              "      <td>13030</td>\n",
              "      <td>https://i.ytimg.com/vi/0dBIkQ4Mz1M/default.jpg</td>\n",
              "      <td>False</td>\n",
              "      <td>False</td>\n",
              "      <td>False</td>\n",
              "      <td>STill got a lot of packages. Probably will las...</td>\n",
              "    </tr>\n",
              "    <tr>\n",
              "      <th>2</th>\n",
              "      <td>5qpjK5DgCt4</td>\n",
              "      <td>17.14.11</td>\n",
              "      <td>Racist Superman | Rudy Mancuso, King Bach &amp; Le...</td>\n",
              "      <td>Rudy Mancuso</td>\n",
              "      <td>23</td>\n",
              "      <td>2017-11-12T19:05:24.000Z</td>\n",
              "      <td>racist superman|\"rudy\"|\"mancuso\"|\"king\"|\"bach\"...</td>\n",
              "      <td>3191434</td>\n",
              "      <td>146035</td>\n",
              "      <td>5339</td>\n",
              "      <td>8181</td>\n",
              "      <td>https://i.ytimg.com/vi/5qpjK5DgCt4/default.jpg</td>\n",
              "      <td>False</td>\n",
              "      <td>False</td>\n",
              "      <td>False</td>\n",
              "      <td>WATCH MY PREVIOUS VIDEO ▶ \\n\\nSUBSCRIBE ► http...</td>\n",
              "    </tr>\n",
              "    <tr>\n",
              "      <th>3</th>\n",
              "      <td>d380meD0W0M</td>\n",
              "      <td>17.14.11</td>\n",
              "      <td>I Dare You: GOING BALD!?</td>\n",
              "      <td>nigahiga</td>\n",
              "      <td>24</td>\n",
              "      <td>2017-11-12T18:01:41.000Z</td>\n",
              "      <td>ryan|\"higa\"|\"higatv\"|\"nigahiga\"|\"i dare you\"|\"...</td>\n",
              "      <td>2095828</td>\n",
              "      <td>132239</td>\n",
              "      <td>1989</td>\n",
              "      <td>17518</td>\n",
              "      <td>https://i.ytimg.com/vi/d380meD0W0M/default.jpg</td>\n",
              "      <td>False</td>\n",
              "      <td>False</td>\n",
              "      <td>False</td>\n",
              "      <td>I know it's been a while since we did this sho...</td>\n",
              "    </tr>\n",
              "    <tr>\n",
              "      <th>4</th>\n",
              "      <td>2Vv-BfVoq4g</td>\n",
              "      <td>17.14.11</td>\n",
              "      <td>Ed Sheeran - Perfect (Official Music Video)</td>\n",
              "      <td>Ed Sheeran</td>\n",
              "      <td>10</td>\n",
              "      <td>2017-11-09T11:04:14.000Z</td>\n",
              "      <td>edsheeran|\"ed sheeran\"|\"acoustic\"|\"live\"|\"cove...</td>\n",
              "      <td>33523622</td>\n",
              "      <td>1634130</td>\n",
              "      <td>21082</td>\n",
              "      <td>85067</td>\n",
              "      <td>https://i.ytimg.com/vi/2Vv-BfVoq4g/default.jpg</td>\n",
              "      <td>False</td>\n",
              "      <td>False</td>\n",
              "      <td>False</td>\n",
              "      <td>🎧: https://ad.gt/yt-perfect\\n💰: https://atlant...</td>\n",
              "    </tr>\n",
              "    <tr>\n",
              "      <th>...</th>\n",
              "      <td>...</td>\n",
              "      <td>...</td>\n",
              "      <td>...</td>\n",
              "      <td>...</td>\n",
              "      <td>...</td>\n",
              "      <td>...</td>\n",
              "      <td>...</td>\n",
              "      <td>...</td>\n",
              "      <td>...</td>\n",
              "      <td>...</td>\n",
              "      <td>...</td>\n",
              "      <td>...</td>\n",
              "      <td>...</td>\n",
              "      <td>...</td>\n",
              "      <td>...</td>\n",
              "      <td>...</td>\n",
              "    </tr>\n",
              "    <tr>\n",
              "      <th>40876</th>\n",
              "      <td>sGolxsMSGfQ</td>\n",
              "      <td>18.14.06</td>\n",
              "      <td>HOW2: How to Solve a Mystery</td>\n",
              "      <td>Annoying Orange</td>\n",
              "      <td>24</td>\n",
              "      <td>2018-06-13T18:00:07.000Z</td>\n",
              "      <td>annoying orange|\"funny\"|\"fruit\"|\"talking\"|\"ani...</td>\n",
              "      <td>80685</td>\n",
              "      <td>1701</td>\n",
              "      <td>99</td>\n",
              "      <td>1312</td>\n",
              "      <td>https://i.ytimg.com/vi/sGolxsMSGfQ/default.jpg</td>\n",
              "      <td>False</td>\n",
              "      <td>False</td>\n",
              "      <td>False</td>\n",
              "      <td>🚨 NEW MERCH! http://amzn.to/annoyingorange 🚨➤ ...</td>\n",
              "    </tr>\n",
              "    <tr>\n",
              "      <th>40877</th>\n",
              "      <td>8HNuRNi8t70</td>\n",
              "      <td>18.14.06</td>\n",
              "      <td>Eli Lik Lik Episode 13 Partie 01</td>\n",
              "      <td>Elhiwar Ettounsi</td>\n",
              "      <td>24</td>\n",
              "      <td>2018-06-13T19:01:18.000Z</td>\n",
              "      <td>hkayet tounsia|\"elhiwar ettounsi\"|\"denya okhra...</td>\n",
              "      <td>103339</td>\n",
              "      <td>460</td>\n",
              "      <td>66</td>\n",
              "      <td>51</td>\n",
              "      <td>https://i.ytimg.com/vi/8HNuRNi8t70/default.jpg</td>\n",
              "      <td>False</td>\n",
              "      <td>False</td>\n",
              "      <td>False</td>\n",
              "      <td>► Retrouvez vos programmes préférés : https://...</td>\n",
              "    </tr>\n",
              "    <tr>\n",
              "      <th>40878</th>\n",
              "      <td>GWlKEM3m2EE</td>\n",
              "      <td>18.14.06</td>\n",
              "      <td>KINGDOM HEARTS III – SQUARE ENIX E3 SHOWCASE 2...</td>\n",
              "      <td>Kingdom Hearts</td>\n",
              "      <td>20</td>\n",
              "      <td>2018-06-11T17:30:53.000Z</td>\n",
              "      <td>Kingdom Hearts|\"KH3\"|\"Kingdom Hearts 3\"|\"Froze...</td>\n",
              "      <td>773347</td>\n",
              "      <td>25900</td>\n",
              "      <td>224</td>\n",
              "      <td>3881</td>\n",
              "      <td>https://i.ytimg.com/vi/GWlKEM3m2EE/default.jpg</td>\n",
              "      <td>False</td>\n",
              "      <td>False</td>\n",
              "      <td>False</td>\n",
              "      <td>Find out more about Kingdom Hearts 3: https://...</td>\n",
              "    </tr>\n",
              "    <tr>\n",
              "      <th>40879</th>\n",
              "      <td>lbMKLzQ4cNQ</td>\n",
              "      <td>18.14.06</td>\n",
              "      <td>Trump Advisor Grovels To Trudeau</td>\n",
              "      <td>The Young Turks</td>\n",
              "      <td>25</td>\n",
              "      <td>2018-06-13T04:00:05.000Z</td>\n",
              "      <td>180612__TB02SorryExcuse|\"News\"|\"Politics\"|\"The...</td>\n",
              "      <td>115225</td>\n",
              "      <td>2115</td>\n",
              "      <td>182</td>\n",
              "      <td>1672</td>\n",
              "      <td>https://i.ytimg.com/vi/lbMKLzQ4cNQ/default.jpg</td>\n",
              "      <td>False</td>\n",
              "      <td>False</td>\n",
              "      <td>False</td>\n",
              "      <td>Peter Navarro isn’t talking so tough now. Ana ...</td>\n",
              "    </tr>\n",
              "    <tr>\n",
              "      <th>40880</th>\n",
              "      <td>POTgw38-m58</td>\n",
              "      <td>18.14.06</td>\n",
              "      <td>【完整版】遇到恐怖情人該怎麼辦？2018.06.13小明星大跟班</td>\n",
              "      <td>我愛小明星大跟班</td>\n",
              "      <td>24</td>\n",
              "      <td>2018-06-13T16:00:03.000Z</td>\n",
              "      <td>吳宗憲|\"吳姍儒\"|\"小明星大跟班\"|\"Sandy\"|\"Jacky wu\"|\"憲哥\"|\"中天...</td>\n",
              "      <td>107392</td>\n",
              "      <td>300</td>\n",
              "      <td>62</td>\n",
              "      <td>251</td>\n",
              "      <td>https://i.ytimg.com/vi/POTgw38-m58/default.jpg</td>\n",
              "      <td>False</td>\n",
              "      <td>False</td>\n",
              "      <td>False</td>\n",
              "      <td>藝人：李妍瑾、玉兔、班傑、LaLa、小優、少少專家：陳筱屏(律師)、Wendy(心理師)、羅...</td>\n",
              "    </tr>\n",
              "  </tbody>\n",
              "</table>\n",
              "<p>40881 rows × 16 columns</p>\n",
              "</div>"
            ],
            "text/plain": [
              "          video_id  ...                                        description\n",
              "0      n1WpP7iowLc  ...  Eminem's new track Walk on Water ft. Beyoncé i...\n",
              "1      0dBIkQ4Mz1M  ...  STill got a lot of packages. Probably will las...\n",
              "2      5qpjK5DgCt4  ...  WATCH MY PREVIOUS VIDEO ▶ \\n\\nSUBSCRIBE ► http...\n",
              "3      d380meD0W0M  ...  I know it's been a while since we did this sho...\n",
              "4      2Vv-BfVoq4g  ...  🎧: https://ad.gt/yt-perfect\\n💰: https://atlant...\n",
              "...            ...  ...                                                ...\n",
              "40876  sGolxsMSGfQ  ...  🚨 NEW MERCH! http://amzn.to/annoyingorange 🚨➤ ...\n",
              "40877  8HNuRNi8t70  ...  ► Retrouvez vos programmes préférés : https://...\n",
              "40878  GWlKEM3m2EE  ...  Find out more about Kingdom Hearts 3: https://...\n",
              "40879  lbMKLzQ4cNQ  ...  Peter Navarro isn’t talking so tough now. Ana ...\n",
              "40880  POTgw38-m58  ...  藝人：李妍瑾、玉兔、班傑、LaLa、小優、少少專家：陳筱屏(律師)、Wendy(心理師)、羅...\n",
              "\n",
              "[40881 rows x 16 columns]"
            ]
          },
          "metadata": {
            "tags": []
          },
          "execution_count": 9
        }
      ]
    },
    {
      "cell_type": "code",
      "metadata": {
        "colab": {
          "base_uri": "https://localhost:8080/",
          "height": 966
        },
        "id": "mHiKz4ft15Dl",
        "outputId": "a6e6f454-a80b-486f-a6c7-7fe92f355587"
      },
      "source": [
        "british_youtube"
      ],
      "execution_count": null,
      "outputs": [
        {
          "output_type": "execute_result",
          "data": {
            "text/html": [
              "<div>\n",
              "<style scoped>\n",
              "    .dataframe tbody tr th:only-of-type {\n",
              "        vertical-align: middle;\n",
              "    }\n",
              "\n",
              "    .dataframe tbody tr th {\n",
              "        vertical-align: top;\n",
              "    }\n",
              "\n",
              "    .dataframe thead th {\n",
              "        text-align: right;\n",
              "    }\n",
              "</style>\n",
              "<table border=\"1\" class=\"dataframe\">\n",
              "  <thead>\n",
              "    <tr style=\"text-align: right;\">\n",
              "      <th></th>\n",
              "      <th>video_id</th>\n",
              "      <th>trending_date</th>\n",
              "      <th>title</th>\n",
              "      <th>channel_title</th>\n",
              "      <th>category_id</th>\n",
              "      <th>publish_time</th>\n",
              "      <th>tags</th>\n",
              "      <th>views</th>\n",
              "      <th>likes</th>\n",
              "      <th>dislikes</th>\n",
              "      <th>comment_count</th>\n",
              "      <th>thumbnail_link</th>\n",
              "      <th>comments_disabled</th>\n",
              "      <th>ratings_disabled</th>\n",
              "      <th>video_error_or_removed</th>\n",
              "      <th>description</th>\n",
              "    </tr>\n",
              "  </thead>\n",
              "  <tbody>\n",
              "    <tr>\n",
              "      <th>0</th>\n",
              "      <td>Jw1Y-zhQURU</td>\n",
              "      <td>17.14.11</td>\n",
              "      <td>John Lewis Christmas Ad 2017 - #MozTheMonster</td>\n",
              "      <td>John Lewis</td>\n",
              "      <td>26</td>\n",
              "      <td>2017-11-10T07:38:29.000Z</td>\n",
              "      <td>christmas|\"john lewis christmas\"|\"john lewis\"|...</td>\n",
              "      <td>7224515</td>\n",
              "      <td>55681</td>\n",
              "      <td>10247</td>\n",
              "      <td>9479</td>\n",
              "      <td>https://i.ytimg.com/vi/Jw1Y-zhQURU/default.jpg</td>\n",
              "      <td>False</td>\n",
              "      <td>False</td>\n",
              "      <td>False</td>\n",
              "      <td>Click here to continue the story and make your...</td>\n",
              "    </tr>\n",
              "    <tr>\n",
              "      <th>1</th>\n",
              "      <td>3s1rvMFUweQ</td>\n",
              "      <td>17.14.11</td>\n",
              "      <td>Taylor Swift: …Ready for It? (Live) - SNL</td>\n",
              "      <td>Saturday Night Live</td>\n",
              "      <td>24</td>\n",
              "      <td>2017-11-12T06:24:44.000Z</td>\n",
              "      <td>SNL|\"Saturday Night Live\"|\"SNL Season 43\"|\"Epi...</td>\n",
              "      <td>1053632</td>\n",
              "      <td>25561</td>\n",
              "      <td>2294</td>\n",
              "      <td>2757</td>\n",
              "      <td>https://i.ytimg.com/vi/3s1rvMFUweQ/default.jpg</td>\n",
              "      <td>False</td>\n",
              "      <td>False</td>\n",
              "      <td>False</td>\n",
              "      <td>Musical guest Taylor Swift performs …Ready for...</td>\n",
              "    </tr>\n",
              "    <tr>\n",
              "      <th>2</th>\n",
              "      <td>n1WpP7iowLc</td>\n",
              "      <td>17.14.11</td>\n",
              "      <td>Eminem - Walk On Water (Audio) ft. Beyoncé</td>\n",
              "      <td>EminemVEVO</td>\n",
              "      <td>10</td>\n",
              "      <td>2017-11-10T17:00:03.000Z</td>\n",
              "      <td>Eminem|\"Walk\"|\"On\"|\"Water\"|\"Aftermath/Shady/In...</td>\n",
              "      <td>17158579</td>\n",
              "      <td>787420</td>\n",
              "      <td>43420</td>\n",
              "      <td>125882</td>\n",
              "      <td>https://i.ytimg.com/vi/n1WpP7iowLc/default.jpg</td>\n",
              "      <td>False</td>\n",
              "      <td>False</td>\n",
              "      <td>False</td>\n",
              "      <td>Eminem's new track Walk on Water ft. Beyoncé i...</td>\n",
              "    </tr>\n",
              "    <tr>\n",
              "      <th>3</th>\n",
              "      <td>PUTEiSjKwJU</td>\n",
              "      <td>17.14.11</td>\n",
              "      <td>Goals from Salford City vs Class of 92 and Fri...</td>\n",
              "      <td>Salford City Football Club</td>\n",
              "      <td>17</td>\n",
              "      <td>2017-11-13T02:30:38.000Z</td>\n",
              "      <td>Salford City FC|\"Salford City\"|\"Salford\"|\"Clas...</td>\n",
              "      <td>27833</td>\n",
              "      <td>193</td>\n",
              "      <td>12</td>\n",
              "      <td>37</td>\n",
              "      <td>https://i.ytimg.com/vi/PUTEiSjKwJU/default.jpg</td>\n",
              "      <td>False</td>\n",
              "      <td>False</td>\n",
              "      <td>False</td>\n",
              "      <td>Salford drew 4-4 against the Class of 92 and F...</td>\n",
              "    </tr>\n",
              "    <tr>\n",
              "      <th>4</th>\n",
              "      <td>rHwDegptbI4</td>\n",
              "      <td>17.14.11</td>\n",
              "      <td>Dashcam captures truck's near miss with child ...</td>\n",
              "      <td>Cute Girl Videos</td>\n",
              "      <td>25</td>\n",
              "      <td>2017-11-13T01:45:13.000Z</td>\n",
              "      <td>[none]</td>\n",
              "      <td>9815</td>\n",
              "      <td>30</td>\n",
              "      <td>2</td>\n",
              "      <td>30</td>\n",
              "      <td>https://i.ytimg.com/vi/rHwDegptbI4/default.jpg</td>\n",
              "      <td>False</td>\n",
              "      <td>False</td>\n",
              "      <td>False</td>\n",
              "      <td>Dashcam captures truck's near miss with child ...</td>\n",
              "    </tr>\n",
              "    <tr>\n",
              "      <th>...</th>\n",
              "      <td>...</td>\n",
              "      <td>...</td>\n",
              "      <td>...</td>\n",
              "      <td>...</td>\n",
              "      <td>...</td>\n",
              "      <td>...</td>\n",
              "      <td>...</td>\n",
              "      <td>...</td>\n",
              "      <td>...</td>\n",
              "      <td>...</td>\n",
              "      <td>...</td>\n",
              "      <td>...</td>\n",
              "      <td>...</td>\n",
              "      <td>...</td>\n",
              "      <td>...</td>\n",
              "      <td>...</td>\n",
              "    </tr>\n",
              "    <tr>\n",
              "      <th>38911</th>\n",
              "      <td>l884wKofd54</td>\n",
              "      <td>18.14.06</td>\n",
              "      <td>Enrique Iglesias - MOVE TO MIAMI (Official Vid...</td>\n",
              "      <td>EnriqueIglesiasVEVO</td>\n",
              "      <td>10</td>\n",
              "      <td>2018-05-09T07:00:01.000Z</td>\n",
              "      <td>Enrique Iglesias feat. Pitbull|\"MOVE TO MIAMI\"...</td>\n",
              "      <td>25066952</td>\n",
              "      <td>268088</td>\n",
              "      <td>12783</td>\n",
              "      <td>9933</td>\n",
              "      <td>https://i.ytimg.com/vi/l884wKofd54/default.jpg</td>\n",
              "      <td>False</td>\n",
              "      <td>False</td>\n",
              "      <td>False</td>\n",
              "      <td>NEW SONG - MOVE TO MIAMI feat. Pitbull (Click ...</td>\n",
              "    </tr>\n",
              "    <tr>\n",
              "      <th>38912</th>\n",
              "      <td>IP8k2xkhOdI</td>\n",
              "      <td>18.14.06</td>\n",
              "      <td>Jacob Sartorius - Up With It (Official Music V...</td>\n",
              "      <td>Jacob Sartorius</td>\n",
              "      <td>10</td>\n",
              "      <td>2018-05-11T17:09:16.000Z</td>\n",
              "      <td>jacob sartorius|\"jacob\"|\"up with it\"|\"jacob sa...</td>\n",
              "      <td>1492219</td>\n",
              "      <td>61998</td>\n",
              "      <td>13781</td>\n",
              "      <td>24330</td>\n",
              "      <td>https://i.ytimg.com/vi/IP8k2xkhOdI/default.jpg</td>\n",
              "      <td>False</td>\n",
              "      <td>False</td>\n",
              "      <td>False</td>\n",
              "      <td>THE OFFICIAL UP WITH IT MUSIC VIDEO!Get my new...</td>\n",
              "    </tr>\n",
              "    <tr>\n",
              "      <th>38913</th>\n",
              "      <td>Il-an3K9pjg</td>\n",
              "      <td>18.14.06</td>\n",
              "      <td>Anne-Marie - 2002 [Official Video]</td>\n",
              "      <td>Anne-Marie</td>\n",
              "      <td>10</td>\n",
              "      <td>2018-05-08T11:05:08.000Z</td>\n",
              "      <td>anne|\"marie\"|\"anne-marie\"|\"2002\"|\"two thousand...</td>\n",
              "      <td>29641412</td>\n",
              "      <td>394830</td>\n",
              "      <td>8892</td>\n",
              "      <td>19988</td>\n",
              "      <td>https://i.ytimg.com/vi/Il-an3K9pjg/default.jpg</td>\n",
              "      <td>False</td>\n",
              "      <td>False</td>\n",
              "      <td>False</td>\n",
              "      <td>Get 2002 by Anne-Marie HERE ▶ http://ad.gt/200...</td>\n",
              "    </tr>\n",
              "    <tr>\n",
              "      <th>38914</th>\n",
              "      <td>-DRsfNObKIQ</td>\n",
              "      <td>18.14.06</td>\n",
              "      <td>Eleni Foureira - Fuego - Cyprus - LIVE - First...</td>\n",
              "      <td>Eurovision Song Contest</td>\n",
              "      <td>24</td>\n",
              "      <td>2018-05-08T20:32:32.000Z</td>\n",
              "      <td>Eurovision Song Contest|\"2018\"|\"Lisbon\"|\"Cypru...</td>\n",
              "      <td>14317515</td>\n",
              "      <td>151870</td>\n",
              "      <td>45875</td>\n",
              "      <td>26766</td>\n",
              "      <td>https://i.ytimg.com/vi/-DRsfNObKIQ/default.jpg</td>\n",
              "      <td>False</td>\n",
              "      <td>False</td>\n",
              "      <td>False</td>\n",
              "      <td>Eleni Foureira represented Cyprus at the first...</td>\n",
              "    </tr>\n",
              "    <tr>\n",
              "      <th>38915</th>\n",
              "      <td>4YFo4bdMO8Q</td>\n",
              "      <td>18.14.06</td>\n",
              "      <td>KYLE - Ikuyo feat.  2 Chainz &amp; Sophia Black [A...</td>\n",
              "      <td>SuperDuperKyle</td>\n",
              "      <td>10</td>\n",
              "      <td>2018-05-11T04:06:35.000Z</td>\n",
              "      <td>Kyle|\"SuperDuperKyle\"|\"Ikuyo\"|\"2 Chainz\"|\"Soph...</td>\n",
              "      <td>607552</td>\n",
              "      <td>18271</td>\n",
              "      <td>274</td>\n",
              "      <td>1423</td>\n",
              "      <td>https://i.ytimg.com/vi/4YFo4bdMO8Q/default.jpg</td>\n",
              "      <td>False</td>\n",
              "      <td>False</td>\n",
              "      <td>False</td>\n",
              "      <td>Debut album 'Light of Mine' out now: http://ky...</td>\n",
              "    </tr>\n",
              "  </tbody>\n",
              "</table>\n",
              "<p>38916 rows × 16 columns</p>\n",
              "</div>"
            ],
            "text/plain": [
              "          video_id  ...                                        description\n",
              "0      Jw1Y-zhQURU  ...  Click here to continue the story and make your...\n",
              "1      3s1rvMFUweQ  ...  Musical guest Taylor Swift performs …Ready for...\n",
              "2      n1WpP7iowLc  ...  Eminem's new track Walk on Water ft. Beyoncé i...\n",
              "3      PUTEiSjKwJU  ...  Salford drew 4-4 against the Class of 92 and F...\n",
              "4      rHwDegptbI4  ...  Dashcam captures truck's near miss with child ...\n",
              "...            ...  ...                                                ...\n",
              "38911  l884wKofd54  ...  NEW SONG - MOVE TO MIAMI feat. Pitbull (Click ...\n",
              "38912  IP8k2xkhOdI  ...  THE OFFICIAL UP WITH IT MUSIC VIDEO!Get my new...\n",
              "38913  Il-an3K9pjg  ...  Get 2002 by Anne-Marie HERE ▶ http://ad.gt/200...\n",
              "38914  -DRsfNObKIQ  ...  Eleni Foureira represented Cyprus at the first...\n",
              "38915  4YFo4bdMO8Q  ...  Debut album 'Light of Mine' out now: http://ky...\n",
              "\n",
              "[38916 rows x 16 columns]"
            ]
          },
          "metadata": {
            "tags": []
          },
          "execution_count": 10
        }
      ]
    },
    {
      "cell_type": "code",
      "metadata": {
        "colab": {
          "base_uri": "https://localhost:8080/",
          "height": 1000
        },
        "id": "_kuH_Z3F19WH",
        "outputId": "6600ebbd-f5d1-4340-d489-70a0419820c6"
      },
      "source": [
        "pd.concat([canadian_youtube, british_youtube])"
      ],
      "execution_count": null,
      "outputs": [
        {
          "output_type": "execute_result",
          "data": {
            "text/html": [
              "<div>\n",
              "<style scoped>\n",
              "    .dataframe tbody tr th:only-of-type {\n",
              "        vertical-align: middle;\n",
              "    }\n",
              "\n",
              "    .dataframe tbody tr th {\n",
              "        vertical-align: top;\n",
              "    }\n",
              "\n",
              "    .dataframe thead th {\n",
              "        text-align: right;\n",
              "    }\n",
              "</style>\n",
              "<table border=\"1\" class=\"dataframe\">\n",
              "  <thead>\n",
              "    <tr style=\"text-align: right;\">\n",
              "      <th></th>\n",
              "      <th>video_id</th>\n",
              "      <th>trending_date</th>\n",
              "      <th>title</th>\n",
              "      <th>channel_title</th>\n",
              "      <th>category_id</th>\n",
              "      <th>publish_time</th>\n",
              "      <th>tags</th>\n",
              "      <th>views</th>\n",
              "      <th>likes</th>\n",
              "      <th>dislikes</th>\n",
              "      <th>comment_count</th>\n",
              "      <th>thumbnail_link</th>\n",
              "      <th>comments_disabled</th>\n",
              "      <th>ratings_disabled</th>\n",
              "      <th>video_error_or_removed</th>\n",
              "      <th>description</th>\n",
              "    </tr>\n",
              "  </thead>\n",
              "  <tbody>\n",
              "    <tr>\n",
              "      <th>0</th>\n",
              "      <td>n1WpP7iowLc</td>\n",
              "      <td>17.14.11</td>\n",
              "      <td>Eminem - Walk On Water (Audio) ft. Beyoncé</td>\n",
              "      <td>EminemVEVO</td>\n",
              "      <td>10</td>\n",
              "      <td>2017-11-10T17:00:03.000Z</td>\n",
              "      <td>Eminem|\"Walk\"|\"On\"|\"Water\"|\"Aftermath/Shady/In...</td>\n",
              "      <td>17158579</td>\n",
              "      <td>787425</td>\n",
              "      <td>43420</td>\n",
              "      <td>125882</td>\n",
              "      <td>https://i.ytimg.com/vi/n1WpP7iowLc/default.jpg</td>\n",
              "      <td>False</td>\n",
              "      <td>False</td>\n",
              "      <td>False</td>\n",
              "      <td>Eminem's new track Walk on Water ft. Beyoncé i...</td>\n",
              "    </tr>\n",
              "    <tr>\n",
              "      <th>1</th>\n",
              "      <td>0dBIkQ4Mz1M</td>\n",
              "      <td>17.14.11</td>\n",
              "      <td>PLUSH - Bad Unboxing Fan Mail</td>\n",
              "      <td>iDubbbzTV</td>\n",
              "      <td>23</td>\n",
              "      <td>2017-11-13T17:00:00.000Z</td>\n",
              "      <td>plush|\"bad unboxing\"|\"unboxing\"|\"fan mail\"|\"id...</td>\n",
              "      <td>1014651</td>\n",
              "      <td>127794</td>\n",
              "      <td>1688</td>\n",
              "      <td>13030</td>\n",
              "      <td>https://i.ytimg.com/vi/0dBIkQ4Mz1M/default.jpg</td>\n",
              "      <td>False</td>\n",
              "      <td>False</td>\n",
              "      <td>False</td>\n",
              "      <td>STill got a lot of packages. Probably will las...</td>\n",
              "    </tr>\n",
              "    <tr>\n",
              "      <th>2</th>\n",
              "      <td>5qpjK5DgCt4</td>\n",
              "      <td>17.14.11</td>\n",
              "      <td>Racist Superman | Rudy Mancuso, King Bach &amp; Le...</td>\n",
              "      <td>Rudy Mancuso</td>\n",
              "      <td>23</td>\n",
              "      <td>2017-11-12T19:05:24.000Z</td>\n",
              "      <td>racist superman|\"rudy\"|\"mancuso\"|\"king\"|\"bach\"...</td>\n",
              "      <td>3191434</td>\n",
              "      <td>146035</td>\n",
              "      <td>5339</td>\n",
              "      <td>8181</td>\n",
              "      <td>https://i.ytimg.com/vi/5qpjK5DgCt4/default.jpg</td>\n",
              "      <td>False</td>\n",
              "      <td>False</td>\n",
              "      <td>False</td>\n",
              "      <td>WATCH MY PREVIOUS VIDEO ▶ \\n\\nSUBSCRIBE ► http...</td>\n",
              "    </tr>\n",
              "    <tr>\n",
              "      <th>3</th>\n",
              "      <td>d380meD0W0M</td>\n",
              "      <td>17.14.11</td>\n",
              "      <td>I Dare You: GOING BALD!?</td>\n",
              "      <td>nigahiga</td>\n",
              "      <td>24</td>\n",
              "      <td>2017-11-12T18:01:41.000Z</td>\n",
              "      <td>ryan|\"higa\"|\"higatv\"|\"nigahiga\"|\"i dare you\"|\"...</td>\n",
              "      <td>2095828</td>\n",
              "      <td>132239</td>\n",
              "      <td>1989</td>\n",
              "      <td>17518</td>\n",
              "      <td>https://i.ytimg.com/vi/d380meD0W0M/default.jpg</td>\n",
              "      <td>False</td>\n",
              "      <td>False</td>\n",
              "      <td>False</td>\n",
              "      <td>I know it's been a while since we did this sho...</td>\n",
              "    </tr>\n",
              "    <tr>\n",
              "      <th>4</th>\n",
              "      <td>2Vv-BfVoq4g</td>\n",
              "      <td>17.14.11</td>\n",
              "      <td>Ed Sheeran - Perfect (Official Music Video)</td>\n",
              "      <td>Ed Sheeran</td>\n",
              "      <td>10</td>\n",
              "      <td>2017-11-09T11:04:14.000Z</td>\n",
              "      <td>edsheeran|\"ed sheeran\"|\"acoustic\"|\"live\"|\"cove...</td>\n",
              "      <td>33523622</td>\n",
              "      <td>1634130</td>\n",
              "      <td>21082</td>\n",
              "      <td>85067</td>\n",
              "      <td>https://i.ytimg.com/vi/2Vv-BfVoq4g/default.jpg</td>\n",
              "      <td>False</td>\n",
              "      <td>False</td>\n",
              "      <td>False</td>\n",
              "      <td>🎧: https://ad.gt/yt-perfect\\n💰: https://atlant...</td>\n",
              "    </tr>\n",
              "    <tr>\n",
              "      <th>...</th>\n",
              "      <td>...</td>\n",
              "      <td>...</td>\n",
              "      <td>...</td>\n",
              "      <td>...</td>\n",
              "      <td>...</td>\n",
              "      <td>...</td>\n",
              "      <td>...</td>\n",
              "      <td>...</td>\n",
              "      <td>...</td>\n",
              "      <td>...</td>\n",
              "      <td>...</td>\n",
              "      <td>...</td>\n",
              "      <td>...</td>\n",
              "      <td>...</td>\n",
              "      <td>...</td>\n",
              "      <td>...</td>\n",
              "    </tr>\n",
              "    <tr>\n",
              "      <th>38911</th>\n",
              "      <td>l884wKofd54</td>\n",
              "      <td>18.14.06</td>\n",
              "      <td>Enrique Iglesias - MOVE TO MIAMI (Official Vid...</td>\n",
              "      <td>EnriqueIglesiasVEVO</td>\n",
              "      <td>10</td>\n",
              "      <td>2018-05-09T07:00:01.000Z</td>\n",
              "      <td>Enrique Iglesias feat. Pitbull|\"MOVE TO MIAMI\"...</td>\n",
              "      <td>25066952</td>\n",
              "      <td>268088</td>\n",
              "      <td>12783</td>\n",
              "      <td>9933</td>\n",
              "      <td>https://i.ytimg.com/vi/l884wKofd54/default.jpg</td>\n",
              "      <td>False</td>\n",
              "      <td>False</td>\n",
              "      <td>False</td>\n",
              "      <td>NEW SONG - MOVE TO MIAMI feat. Pitbull (Click ...</td>\n",
              "    </tr>\n",
              "    <tr>\n",
              "      <th>38912</th>\n",
              "      <td>IP8k2xkhOdI</td>\n",
              "      <td>18.14.06</td>\n",
              "      <td>Jacob Sartorius - Up With It (Official Music V...</td>\n",
              "      <td>Jacob Sartorius</td>\n",
              "      <td>10</td>\n",
              "      <td>2018-05-11T17:09:16.000Z</td>\n",
              "      <td>jacob sartorius|\"jacob\"|\"up with it\"|\"jacob sa...</td>\n",
              "      <td>1492219</td>\n",
              "      <td>61998</td>\n",
              "      <td>13781</td>\n",
              "      <td>24330</td>\n",
              "      <td>https://i.ytimg.com/vi/IP8k2xkhOdI/default.jpg</td>\n",
              "      <td>False</td>\n",
              "      <td>False</td>\n",
              "      <td>False</td>\n",
              "      <td>THE OFFICIAL UP WITH IT MUSIC VIDEO!Get my new...</td>\n",
              "    </tr>\n",
              "    <tr>\n",
              "      <th>38913</th>\n",
              "      <td>Il-an3K9pjg</td>\n",
              "      <td>18.14.06</td>\n",
              "      <td>Anne-Marie - 2002 [Official Video]</td>\n",
              "      <td>Anne-Marie</td>\n",
              "      <td>10</td>\n",
              "      <td>2018-05-08T11:05:08.000Z</td>\n",
              "      <td>anne|\"marie\"|\"anne-marie\"|\"2002\"|\"two thousand...</td>\n",
              "      <td>29641412</td>\n",
              "      <td>394830</td>\n",
              "      <td>8892</td>\n",
              "      <td>19988</td>\n",
              "      <td>https://i.ytimg.com/vi/Il-an3K9pjg/default.jpg</td>\n",
              "      <td>False</td>\n",
              "      <td>False</td>\n",
              "      <td>False</td>\n",
              "      <td>Get 2002 by Anne-Marie HERE ▶ http://ad.gt/200...</td>\n",
              "    </tr>\n",
              "    <tr>\n",
              "      <th>38914</th>\n",
              "      <td>-DRsfNObKIQ</td>\n",
              "      <td>18.14.06</td>\n",
              "      <td>Eleni Foureira - Fuego - Cyprus - LIVE - First...</td>\n",
              "      <td>Eurovision Song Contest</td>\n",
              "      <td>24</td>\n",
              "      <td>2018-05-08T20:32:32.000Z</td>\n",
              "      <td>Eurovision Song Contest|\"2018\"|\"Lisbon\"|\"Cypru...</td>\n",
              "      <td>14317515</td>\n",
              "      <td>151870</td>\n",
              "      <td>45875</td>\n",
              "      <td>26766</td>\n",
              "      <td>https://i.ytimg.com/vi/-DRsfNObKIQ/default.jpg</td>\n",
              "      <td>False</td>\n",
              "      <td>False</td>\n",
              "      <td>False</td>\n",
              "      <td>Eleni Foureira represented Cyprus at the first...</td>\n",
              "    </tr>\n",
              "    <tr>\n",
              "      <th>38915</th>\n",
              "      <td>4YFo4bdMO8Q</td>\n",
              "      <td>18.14.06</td>\n",
              "      <td>KYLE - Ikuyo feat.  2 Chainz &amp; Sophia Black [A...</td>\n",
              "      <td>SuperDuperKyle</td>\n",
              "      <td>10</td>\n",
              "      <td>2018-05-11T04:06:35.000Z</td>\n",
              "      <td>Kyle|\"SuperDuperKyle\"|\"Ikuyo\"|\"2 Chainz\"|\"Soph...</td>\n",
              "      <td>607552</td>\n",
              "      <td>18271</td>\n",
              "      <td>274</td>\n",
              "      <td>1423</td>\n",
              "      <td>https://i.ytimg.com/vi/4YFo4bdMO8Q/default.jpg</td>\n",
              "      <td>False</td>\n",
              "      <td>False</td>\n",
              "      <td>False</td>\n",
              "      <td>Debut album 'Light of Mine' out now: http://ky...</td>\n",
              "    </tr>\n",
              "  </tbody>\n",
              "</table>\n",
              "<p>79797 rows × 16 columns</p>\n",
              "</div>"
            ],
            "text/plain": [
              "          video_id  ...                                        description\n",
              "0      n1WpP7iowLc  ...  Eminem's new track Walk on Water ft. Beyoncé i...\n",
              "1      0dBIkQ4Mz1M  ...  STill got a lot of packages. Probably will las...\n",
              "2      5qpjK5DgCt4  ...  WATCH MY PREVIOUS VIDEO ▶ \\n\\nSUBSCRIBE ► http...\n",
              "3      d380meD0W0M  ...  I know it's been a while since we did this sho...\n",
              "4      2Vv-BfVoq4g  ...  🎧: https://ad.gt/yt-perfect\\n💰: https://atlant...\n",
              "...            ...  ...                                                ...\n",
              "38911  l884wKofd54  ...  NEW SONG - MOVE TO MIAMI feat. Pitbull (Click ...\n",
              "38912  IP8k2xkhOdI  ...  THE OFFICIAL UP WITH IT MUSIC VIDEO!Get my new...\n",
              "38913  Il-an3K9pjg  ...  Get 2002 by Anne-Marie HERE ▶ http://ad.gt/200...\n",
              "38914  -DRsfNObKIQ  ...  Eleni Foureira represented Cyprus at the first...\n",
              "38915  4YFo4bdMO8Q  ...  Debut album 'Light of Mine' out now: http://ky...\n",
              "\n",
              "[79797 rows x 16 columns]"
            ]
          },
          "metadata": {
            "tags": []
          },
          "execution_count": 11
        }
      ]
    },
    {
      "cell_type": "code",
      "metadata": {
        "colab": {
          "base_uri": "https://localhost:8080/",
          "height": 1000
        },
        "id": "k5cP819p3o22",
        "outputId": "6b9af027-7181-430d-91fd-2feac2f4ba4f"
      },
      "source": [
        "left = canadian_youtube.set_index(['title', 'trending_date'])\n",
        "right = british_youtube.set_index(['title', 'trending_date'])\n",
        "\n",
        "left.join(right, lsuffix='_CAN', rsuffix='_UK')"
      ],
      "execution_count": null,
      "outputs": [
        {
          "output_type": "execute_result",
          "data": {
            "text/html": [
              "<div>\n",
              "<style scoped>\n",
              "    .dataframe tbody tr th:only-of-type {\n",
              "        vertical-align: middle;\n",
              "    }\n",
              "\n",
              "    .dataframe tbody tr th {\n",
              "        vertical-align: top;\n",
              "    }\n",
              "\n",
              "    .dataframe thead th {\n",
              "        text-align: right;\n",
              "    }\n",
              "</style>\n",
              "<table border=\"1\" class=\"dataframe\">\n",
              "  <thead>\n",
              "    <tr style=\"text-align: right;\">\n",
              "      <th></th>\n",
              "      <th></th>\n",
              "      <th>video_id_CAN</th>\n",
              "      <th>channel_title_CAN</th>\n",
              "      <th>category_id_CAN</th>\n",
              "      <th>publish_time_CAN</th>\n",
              "      <th>tags_CAN</th>\n",
              "      <th>views_CAN</th>\n",
              "      <th>likes_CAN</th>\n",
              "      <th>dislikes_CAN</th>\n",
              "      <th>comment_count_CAN</th>\n",
              "      <th>thumbnail_link_CAN</th>\n",
              "      <th>comments_disabled_CAN</th>\n",
              "      <th>ratings_disabled_CAN</th>\n",
              "      <th>video_error_or_removed_CAN</th>\n",
              "      <th>description_CAN</th>\n",
              "      <th>video_id_UK</th>\n",
              "      <th>channel_title_UK</th>\n",
              "      <th>category_id_UK</th>\n",
              "      <th>publish_time_UK</th>\n",
              "      <th>tags_UK</th>\n",
              "      <th>views_UK</th>\n",
              "      <th>likes_UK</th>\n",
              "      <th>dislikes_UK</th>\n",
              "      <th>comment_count_UK</th>\n",
              "      <th>thumbnail_link_UK</th>\n",
              "      <th>comments_disabled_UK</th>\n",
              "      <th>ratings_disabled_UK</th>\n",
              "      <th>video_error_or_removed_UK</th>\n",
              "      <th>description_UK</th>\n",
              "    </tr>\n",
              "    <tr>\n",
              "      <th>title</th>\n",
              "      <th>trending_date</th>\n",
              "      <th></th>\n",
              "      <th></th>\n",
              "      <th></th>\n",
              "      <th></th>\n",
              "      <th></th>\n",
              "      <th></th>\n",
              "      <th></th>\n",
              "      <th></th>\n",
              "      <th></th>\n",
              "      <th></th>\n",
              "      <th></th>\n",
              "      <th></th>\n",
              "      <th></th>\n",
              "      <th></th>\n",
              "      <th></th>\n",
              "      <th></th>\n",
              "      <th></th>\n",
              "      <th></th>\n",
              "      <th></th>\n",
              "      <th></th>\n",
              "      <th></th>\n",
              "      <th></th>\n",
              "      <th></th>\n",
              "      <th></th>\n",
              "      <th></th>\n",
              "      <th></th>\n",
              "      <th></th>\n",
              "      <th></th>\n",
              "    </tr>\n",
              "  </thead>\n",
              "  <tbody>\n",
              "    <tr>\n",
              "      <th>!! THIS VIDEO IS NOTHING BUT PAIN !! | Getting Over It - Part 7</th>\n",
              "      <th>18.04.01</th>\n",
              "      <td>PNn8sECd7io</td>\n",
              "      <td>Markiplier</td>\n",
              "      <td>20</td>\n",
              "      <td>2018-01-03T19:33:53.000Z</td>\n",
              "      <td>getting over it|\"markiplier\"|\"funny moments\"|\"...</td>\n",
              "      <td>835930</td>\n",
              "      <td>47058</td>\n",
              "      <td>1023</td>\n",
              "      <td>8250</td>\n",
              "      <td>https://i.ytimg.com/vi/PNn8sECd7io/default.jpg</td>\n",
              "      <td>False</td>\n",
              "      <td>False</td>\n",
              "      <td>False</td>\n",
              "      <td>Getting Over It continues with RAGE BEYOND ALL...</td>\n",
              "      <td>NaN</td>\n",
              "      <td>NaN</td>\n",
              "      <td>NaN</td>\n",
              "      <td>NaN</td>\n",
              "      <td>NaN</td>\n",
              "      <td>NaN</td>\n",
              "      <td>NaN</td>\n",
              "      <td>NaN</td>\n",
              "      <td>NaN</td>\n",
              "      <td>NaN</td>\n",
              "      <td>NaN</td>\n",
              "      <td>NaN</td>\n",
              "      <td>NaN</td>\n",
              "      <td>NaN</td>\n",
              "    </tr>\n",
              "    <tr>\n",
              "      <th>#1 Fortnite World Rank - 2,323 Solo Wins!</th>\n",
              "      <th>18.09.03</th>\n",
              "      <td>DvPW66IFhMI</td>\n",
              "      <td>AlexRamiGaming</td>\n",
              "      <td>20</td>\n",
              "      <td>2018-03-09T07:15:52.000Z</td>\n",
              "      <td>PS4 Battle Royale|\"PS4 Pro Battle Royale\"|\"Bat...</td>\n",
              "      <td>212838</td>\n",
              "      <td>5199</td>\n",
              "      <td>542</td>\n",
              "      <td>11</td>\n",
              "      <td>https://i.ytimg.com/vi/DvPW66IFhMI/default.jpg</td>\n",
              "      <td>False</td>\n",
              "      <td>False</td>\n",
              "      <td>False</td>\n",
              "      <td>Discord For EVERYONE - https://discord.gg/nhud...</td>\n",
              "      <td>NaN</td>\n",
              "      <td>NaN</td>\n",
              "      <td>NaN</td>\n",
              "      <td>NaN</td>\n",
              "      <td>NaN</td>\n",
              "      <td>NaN</td>\n",
              "      <td>NaN</td>\n",
              "      <td>NaN</td>\n",
              "      <td>NaN</td>\n",
              "      <td>NaN</td>\n",
              "      <td>NaN</td>\n",
              "      <td>NaN</td>\n",
              "      <td>NaN</td>\n",
              "      <td>NaN</td>\n",
              "    </tr>\n",
              "    <tr>\n",
              "      <th>#1 Fortnite World Rank - 2,330 Solo Wins!</th>\n",
              "      <th>18.10.03</th>\n",
              "      <td>EXEaMjFeiEk</td>\n",
              "      <td>AlexRamiGaming</td>\n",
              "      <td>20</td>\n",
              "      <td>2018-03-10T06:26:17.000Z</td>\n",
              "      <td>PS4 Battle Royale|\"PS4 Pro Battle Royale\"|\"Bat...</td>\n",
              "      <td>200764</td>\n",
              "      <td>5620</td>\n",
              "      <td>537</td>\n",
              "      <td>45</td>\n",
              "      <td>https://i.ytimg.com/vi/EXEaMjFeiEk/default.jpg</td>\n",
              "      <td>False</td>\n",
              "      <td>False</td>\n",
              "      <td>False</td>\n",
              "      <td>Discord For EVERYONE - https://discord.gg/nhud...</td>\n",
              "      <td>NaN</td>\n",
              "      <td>NaN</td>\n",
              "      <td>NaN</td>\n",
              "      <td>NaN</td>\n",
              "      <td>NaN</td>\n",
              "      <td>NaN</td>\n",
              "      <td>NaN</td>\n",
              "      <td>NaN</td>\n",
              "      <td>NaN</td>\n",
              "      <td>NaN</td>\n",
              "      <td>NaN</td>\n",
              "      <td>NaN</td>\n",
              "      <td>NaN</td>\n",
              "      <td>NaN</td>\n",
              "    </tr>\n",
              "    <tr>\n",
              "      <th rowspan=\"2\" valign=\"top\">#1 MOST ANTICIPATED VIDEO (Timber Frame House Raising)</th>\n",
              "      <th>17.20.12</th>\n",
              "      <td>bYvQmusLaxw</td>\n",
              "      <td>Pure Living for Life</td>\n",
              "      <td>24</td>\n",
              "      <td>2017-12-20T02:49:11.000Z</td>\n",
              "      <td>timber frame|\"timber framing\"|\"timber frame ra...</td>\n",
              "      <td>79152</td>\n",
              "      <td>7761</td>\n",
              "      <td>159</td>\n",
              "      <td>1965</td>\n",
              "      <td>https://i.ytimg.com/vi/bYvQmusLaxw/default.jpg</td>\n",
              "      <td>False</td>\n",
              "      <td>False</td>\n",
              "      <td>False</td>\n",
              "      <td>Shelter Institute: http://bit.ly/2iwXj8B\\nFull...</td>\n",
              "      <td>NaN</td>\n",
              "      <td>NaN</td>\n",
              "      <td>NaN</td>\n",
              "      <td>NaN</td>\n",
              "      <td>NaN</td>\n",
              "      <td>NaN</td>\n",
              "      <td>NaN</td>\n",
              "      <td>NaN</td>\n",
              "      <td>NaN</td>\n",
              "      <td>NaN</td>\n",
              "      <td>NaN</td>\n",
              "      <td>NaN</td>\n",
              "      <td>NaN</td>\n",
              "      <td>NaN</td>\n",
              "    </tr>\n",
              "    <tr>\n",
              "      <th>17.21.12</th>\n",
              "      <td>bYvQmusLaxw</td>\n",
              "      <td>Pure Living for Life</td>\n",
              "      <td>24</td>\n",
              "      <td>2017-12-20T02:49:11.000Z</td>\n",
              "      <td>timber frame|\"timber framing\"|\"timber frame ra...</td>\n",
              "      <td>232762</td>\n",
              "      <td>15515</td>\n",
              "      <td>329</td>\n",
              "      <td>3601</td>\n",
              "      <td>https://i.ytimg.com/vi/bYvQmusLaxw/default.jpg</td>\n",
              "      <td>False</td>\n",
              "      <td>False</td>\n",
              "      <td>False</td>\n",
              "      <td>Shelter Institute: http://bit.ly/2iwXj8B\\nFull...</td>\n",
              "      <td>NaN</td>\n",
              "      <td>NaN</td>\n",
              "      <td>NaN</td>\n",
              "      <td>NaN</td>\n",
              "      <td>NaN</td>\n",
              "      <td>NaN</td>\n",
              "      <td>NaN</td>\n",
              "      <td>NaN</td>\n",
              "      <td>NaN</td>\n",
              "      <td>NaN</td>\n",
              "      <td>NaN</td>\n",
              "      <td>NaN</td>\n",
              "      <td>NaN</td>\n",
              "      <td>NaN</td>\n",
              "    </tr>\n",
              "    <tr>\n",
              "      <th>...</th>\n",
              "      <th>...</th>\n",
              "      <td>...</td>\n",
              "      <td>...</td>\n",
              "      <td>...</td>\n",
              "      <td>...</td>\n",
              "      <td>...</td>\n",
              "      <td>...</td>\n",
              "      <td>...</td>\n",
              "      <td>...</td>\n",
              "      <td>...</td>\n",
              "      <td>...</td>\n",
              "      <td>...</td>\n",
              "      <td>...</td>\n",
              "      <td>...</td>\n",
              "      <td>...</td>\n",
              "      <td>...</td>\n",
              "      <td>...</td>\n",
              "      <td>...</td>\n",
              "      <td>...</td>\n",
              "      <td>...</td>\n",
              "      <td>...</td>\n",
              "      <td>...</td>\n",
              "      <td>...</td>\n",
              "      <td>...</td>\n",
              "      <td>...</td>\n",
              "      <td>...</td>\n",
              "      <td>...</td>\n",
              "      <td>...</td>\n",
              "      <td>...</td>\n",
              "    </tr>\n",
              "    <tr>\n",
              "      <th rowspan=\"3\" valign=\"top\">😲She Is So Nervous But BLOWS The ROOF After Taking on OPERA Song! | Britain´s Got Talent 2018</th>\n",
              "      <th>18.02.05</th>\n",
              "      <td>WttN1Z0XF4k</td>\n",
              "      <td>How Talented</td>\n",
              "      <td>24</td>\n",
              "      <td>2018-04-28T19:40:58.000Z</td>\n",
              "      <td>bgt|\"bgt 2018\"|\"britain got talent\"|\"britain´s...</td>\n",
              "      <td>713400</td>\n",
              "      <td>4684</td>\n",
              "      <td>260</td>\n",
              "      <td>266</td>\n",
              "      <td>https://i.ytimg.com/vi/WttN1Z0XF4k/default.jpg</td>\n",
              "      <td>False</td>\n",
              "      <td>False</td>\n",
              "      <td>False</td>\n",
              "      <td>Amy Marie Borg - Britain´s Got Talent 2018\\n\\n...</td>\n",
              "      <td>NaN</td>\n",
              "      <td>NaN</td>\n",
              "      <td>NaN</td>\n",
              "      <td>NaN</td>\n",
              "      <td>NaN</td>\n",
              "      <td>NaN</td>\n",
              "      <td>NaN</td>\n",
              "      <td>NaN</td>\n",
              "      <td>NaN</td>\n",
              "      <td>NaN</td>\n",
              "      <td>NaN</td>\n",
              "      <td>NaN</td>\n",
              "      <td>NaN</td>\n",
              "      <td>NaN</td>\n",
              "    </tr>\n",
              "    <tr>\n",
              "      <th>18.29.04</th>\n",
              "      <td>WttN1Z0XF4k</td>\n",
              "      <td>How Talented</td>\n",
              "      <td>24</td>\n",
              "      <td>2018-04-28T19:40:58.000Z</td>\n",
              "      <td>bgt|\"bgt 2018\"|\"britain got talent\"|\"britain´s...</td>\n",
              "      <td>231906</td>\n",
              "      <td>1924</td>\n",
              "      <td>78</td>\n",
              "      <td>146</td>\n",
              "      <td>https://i.ytimg.com/vi/WttN1Z0XF4k/default.jpg</td>\n",
              "      <td>False</td>\n",
              "      <td>False</td>\n",
              "      <td>False</td>\n",
              "      <td>Amy Marie Borg - Britain´s Got Talent 2018\\n\\n...</td>\n",
              "      <td>NaN</td>\n",
              "      <td>NaN</td>\n",
              "      <td>NaN</td>\n",
              "      <td>NaN</td>\n",
              "      <td>NaN</td>\n",
              "      <td>NaN</td>\n",
              "      <td>NaN</td>\n",
              "      <td>NaN</td>\n",
              "      <td>NaN</td>\n",
              "      <td>NaN</td>\n",
              "      <td>NaN</td>\n",
              "      <td>NaN</td>\n",
              "      <td>NaN</td>\n",
              "      <td>NaN</td>\n",
              "    </tr>\n",
              "    <tr>\n",
              "      <th>18.30.04</th>\n",
              "      <td>WttN1Z0XF4k</td>\n",
              "      <td>How Talented</td>\n",
              "      <td>24</td>\n",
              "      <td>2018-04-28T19:40:58.000Z</td>\n",
              "      <td>bgt|\"bgt 2018\"|\"britain got talent\"|\"britain´s...</td>\n",
              "      <td>476253</td>\n",
              "      <td>3417</td>\n",
              "      <td>176</td>\n",
              "      <td>240</td>\n",
              "      <td>https://i.ytimg.com/vi/WttN1Z0XF4k/default.jpg</td>\n",
              "      <td>False</td>\n",
              "      <td>False</td>\n",
              "      <td>False</td>\n",
              "      <td>Amy Marie Borg - Britain´s Got Talent 2018\\n\\n...</td>\n",
              "      <td>NaN</td>\n",
              "      <td>NaN</td>\n",
              "      <td>NaN</td>\n",
              "      <td>NaN</td>\n",
              "      <td>NaN</td>\n",
              "      <td>NaN</td>\n",
              "      <td>NaN</td>\n",
              "      <td>NaN</td>\n",
              "      <td>NaN</td>\n",
              "      <td>NaN</td>\n",
              "      <td>NaN</td>\n",
              "      <td>NaN</td>\n",
              "      <td>NaN</td>\n",
              "      <td>NaN</td>\n",
              "    </tr>\n",
              "    <tr>\n",
              "      <th>🚨 BREAKING NEWS 🔴 Raja Live all Slot Channels Welcome 🎰</th>\n",
              "      <th>18.07.05</th>\n",
              "      <td>Wt9Gkpmbt44</td>\n",
              "      <td>TheBigJackpot</td>\n",
              "      <td>24</td>\n",
              "      <td>2018-05-07T06:58:59.000Z</td>\n",
              "      <td>Slot Machine|\"win\"|\"Gambling\"|\"Big Win\"|\"raja\"...</td>\n",
              "      <td>28973</td>\n",
              "      <td>2167</td>\n",
              "      <td>175</td>\n",
              "      <td>10</td>\n",
              "      <td>https://i.ytimg.com/vi/Wt9Gkpmbt44/default.jpg</td>\n",
              "      <td>False</td>\n",
              "      <td>False</td>\n",
              "      <td>False</td>\n",
              "      <td>The Raja takes matters in to his own hands ton...</td>\n",
              "      <td>NaN</td>\n",
              "      <td>NaN</td>\n",
              "      <td>NaN</td>\n",
              "      <td>NaN</td>\n",
              "      <td>NaN</td>\n",
              "      <td>NaN</td>\n",
              "      <td>NaN</td>\n",
              "      <td>NaN</td>\n",
              "      <td>NaN</td>\n",
              "      <td>NaN</td>\n",
              "      <td>NaN</td>\n",
              "      <td>NaN</td>\n",
              "      <td>NaN</td>\n",
              "      <td>NaN</td>\n",
              "    </tr>\n",
              "    <tr>\n",
              "      <th>🚨Active Shooter at YouTube Headquarters - LIVE BREAKING NEWS COVERAGE</th>\n",
              "      <th>18.04.04</th>\n",
              "      <td>Az72jrKbANA</td>\n",
              "      <td>Right Side Broadcasting Network</td>\n",
              "      <td>25</td>\n",
              "      <td>2018-04-03T23:12:37.000Z</td>\n",
              "      <td>YouTube shooter|\"YouTube active shooter\"|\"acti...</td>\n",
              "      <td>103513</td>\n",
              "      <td>1722</td>\n",
              "      <td>181</td>\n",
              "      <td>76</td>\n",
              "      <td>https://i.ytimg.com/vi/Az72jrKbANA/default.jpg</td>\n",
              "      <td>False</td>\n",
              "      <td>False</td>\n",
              "      <td>False</td>\n",
              "      <td>An active shooter has been reported at the You...</td>\n",
              "      <td>NaN</td>\n",
              "      <td>NaN</td>\n",
              "      <td>NaN</td>\n",
              "      <td>NaN</td>\n",
              "      <td>NaN</td>\n",
              "      <td>NaN</td>\n",
              "      <td>NaN</td>\n",
              "      <td>NaN</td>\n",
              "      <td>NaN</td>\n",
              "      <td>NaN</td>\n",
              "      <td>NaN</td>\n",
              "      <td>NaN</td>\n",
              "      <td>NaN</td>\n",
              "      <td>NaN</td>\n",
              "    </tr>\n",
              "  </tbody>\n",
              "</table>\n",
              "<p>40900 rows × 28 columns</p>\n",
              "</div>"
            ],
            "text/plain": [
              "                                                                 video_id_CAN  ... description_UK\n",
              "title                                              trending_date               ...               \n",
              "!! THIS VIDEO IS NOTHING BUT PAIN !! | Getting ... 18.04.01       PNn8sECd7io  ...            NaN\n",
              "#1 Fortnite World Rank - 2,323 Solo Wins!          18.09.03       DvPW66IFhMI  ...            NaN\n",
              "#1 Fortnite World Rank - 2,330 Solo Wins!          18.10.03       EXEaMjFeiEk  ...            NaN\n",
              "#1 MOST ANTICIPATED VIDEO (Timber Frame House R... 17.20.12       bYvQmusLaxw  ...            NaN\n",
              "                                                   17.21.12       bYvQmusLaxw  ...            NaN\n",
              "...                                                                       ...  ...            ...\n",
              "😲She Is So Nervous But BLOWS The ROOF After Tak... 18.02.05       WttN1Z0XF4k  ...            NaN\n",
              "                                                   18.29.04       WttN1Z0XF4k  ...            NaN\n",
              "                                                   18.30.04       WttN1Z0XF4k  ...            NaN\n",
              "🚨 BREAKING NEWS 🔴 Raja Live all Slot Channels W... 18.07.05       Wt9Gkpmbt44  ...            NaN\n",
              "🚨Active Shooter at YouTube Headquarters - LIVE ... 18.04.04       Az72jrKbANA  ...            NaN\n",
              "\n",
              "[40900 rows x 28 columns]"
            ]
          },
          "metadata": {
            "tags": []
          },
          "execution_count": 12
        }
      ]
    },
    {
      "cell_type": "code",
      "metadata": {
        "colab": {
          "base_uri": "https://localhost:8080/"
        },
        "id": "jphgPtKckceY",
        "outputId": "d5453366-b87c-4f8a-96e1-81f0365c8692"
      },
      "source": [
        "!ls /content/"
      ],
      "execution_count": null,
      "outputs": [
        {
          "output_type": "stream",
          "text": [
            "sample_data\n"
          ],
          "name": "stdout"
        }
      ]
    },
    {
      "cell_type": "markdown",
      "metadata": {
        "id": "RiHWOayo6iZu"
      },
      "source": [
        " Pandas Exercise "
      ]
    },
    {
      "cell_type": "code",
      "metadata": {
        "colab": {
          "base_uri": "https://localhost:8080/",
          "height": 419
        },
        "id": "VJ5PsN4blG0D",
        "outputId": "5c54d15c-085a-4ec9-d2c3-f9ded89b3f5b"
      },
      "source": [
        "import numpy as np\n",
        "import matplotlib.pyplot as plt\n",
        "import pandas as pd\n",
        "\n",
        "x1 = (np.random.random(2000)-0.5)*30\n",
        "x2 = (np.random.random(2000)-0.5)*30\n",
        "\n",
        "A = np.column_stack((x1,x2))\n",
        "df = pd.DataFrame(A, columns=['x1','x2'])\n",
        "\n",
        "def pwr2(e):\n",
        "  return e*e\n",
        "def mult(e,f):\n",
        "  return e*f\n",
        "\n",
        "df['x1^2'] = df['x1'].apply(pwr2)\n",
        "df['x2^2'] = df['x2'].apply(pwr2)\n",
        "\n",
        "df['x1*x2'] = df.apply(lambda x: mult(x['x1'], x['x2']),axis=1)\n",
        "df"
      ],
      "execution_count": null,
      "outputs": [
        {
          "output_type": "execute_result",
          "data": {
            "text/html": [
              "<div>\n",
              "<style scoped>\n",
              "    .dataframe tbody tr th:only-of-type {\n",
              "        vertical-align: middle;\n",
              "    }\n",
              "\n",
              "    .dataframe tbody tr th {\n",
              "        vertical-align: top;\n",
              "    }\n",
              "\n",
              "    .dataframe thead th {\n",
              "        text-align: right;\n",
              "    }\n",
              "</style>\n",
              "<table border=\"1\" class=\"dataframe\">\n",
              "  <thead>\n",
              "    <tr style=\"text-align: right;\">\n",
              "      <th></th>\n",
              "      <th>x1</th>\n",
              "      <th>x2</th>\n",
              "      <th>x1^2</th>\n",
              "      <th>x2^2</th>\n",
              "      <th>x1*x2</th>\n",
              "    </tr>\n",
              "  </thead>\n",
              "  <tbody>\n",
              "    <tr>\n",
              "      <th>0</th>\n",
              "      <td>9.471841</td>\n",
              "      <td>8.539001</td>\n",
              "      <td>89.715765</td>\n",
              "      <td>72.914541</td>\n",
              "      <td>80.880058</td>\n",
              "    </tr>\n",
              "    <tr>\n",
              "      <th>1</th>\n",
              "      <td>-10.994578</td>\n",
              "      <td>-4.191573</td>\n",
              "      <td>120.880753</td>\n",
              "      <td>17.569282</td>\n",
              "      <td>46.084575</td>\n",
              "    </tr>\n",
              "    <tr>\n",
              "      <th>2</th>\n",
              "      <td>-8.986077</td>\n",
              "      <td>-2.788004</td>\n",
              "      <td>80.749574</td>\n",
              "      <td>7.772968</td>\n",
              "      <td>25.053220</td>\n",
              "    </tr>\n",
              "    <tr>\n",
              "      <th>3</th>\n",
              "      <td>0.020639</td>\n",
              "      <td>-4.055029</td>\n",
              "      <td>0.000426</td>\n",
              "      <td>16.443258</td>\n",
              "      <td>-0.083694</td>\n",
              "    </tr>\n",
              "    <tr>\n",
              "      <th>4</th>\n",
              "      <td>6.535312</td>\n",
              "      <td>-7.342137</td>\n",
              "      <td>42.710300</td>\n",
              "      <td>53.906979</td>\n",
              "      <td>-47.983156</td>\n",
              "    </tr>\n",
              "    <tr>\n",
              "      <th>...</th>\n",
              "      <td>...</td>\n",
              "      <td>...</td>\n",
              "      <td>...</td>\n",
              "      <td>...</td>\n",
              "      <td>...</td>\n",
              "    </tr>\n",
              "    <tr>\n",
              "      <th>1995</th>\n",
              "      <td>7.200177</td>\n",
              "      <td>0.311383</td>\n",
              "      <td>51.842544</td>\n",
              "      <td>0.096960</td>\n",
              "      <td>2.242015</td>\n",
              "    </tr>\n",
              "    <tr>\n",
              "      <th>1996</th>\n",
              "      <td>13.812195</td>\n",
              "      <td>4.598182</td>\n",
              "      <td>190.776728</td>\n",
              "      <td>21.143274</td>\n",
              "      <td>63.510980</td>\n",
              "    </tr>\n",
              "    <tr>\n",
              "      <th>1997</th>\n",
              "      <td>-12.859881</td>\n",
              "      <td>-0.474772</td>\n",
              "      <td>165.376529</td>\n",
              "      <td>0.225409</td>\n",
              "      <td>6.105516</td>\n",
              "    </tr>\n",
              "    <tr>\n",
              "      <th>1998</th>\n",
              "      <td>7.649672</td>\n",
              "      <td>9.036184</td>\n",
              "      <td>58.517484</td>\n",
              "      <td>81.652630</td>\n",
              "      <td>69.123849</td>\n",
              "    </tr>\n",
              "    <tr>\n",
              "      <th>1999</th>\n",
              "      <td>-7.555122</td>\n",
              "      <td>2.084692</td>\n",
              "      <td>57.079873</td>\n",
              "      <td>4.345942</td>\n",
              "      <td>-15.750106</td>\n",
              "    </tr>\n",
              "  </tbody>\n",
              "</table>\n",
              "<p>2000 rows × 5 columns</p>\n",
              "</div>"
            ],
            "text/plain": [
              "             x1        x2        x1^2       x2^2      x1*x2\n",
              "0      9.471841  8.539001   89.715765  72.914541  80.880058\n",
              "1    -10.994578 -4.191573  120.880753  17.569282  46.084575\n",
              "2     -8.986077 -2.788004   80.749574   7.772968  25.053220\n",
              "3      0.020639 -4.055029    0.000426  16.443258  -0.083694\n",
              "4      6.535312 -7.342137   42.710300  53.906979 -47.983156\n",
              "...         ...       ...         ...        ...        ...\n",
              "1995   7.200177  0.311383   51.842544   0.096960   2.242015\n",
              "1996  13.812195  4.598182  190.776728  21.143274  63.510980\n",
              "1997 -12.859881 -0.474772  165.376529   0.225409   6.105516\n",
              "1998   7.649672  9.036184   58.517484  81.652630  69.123849\n",
              "1999  -7.555122  2.084692   57.079873   4.345942 -15.750106\n",
              "\n",
              "[2000 rows x 5 columns]"
            ]
          },
          "metadata": {
            "tags": []
          },
          "execution_count": 6
        }
      ]
    },
    {
      "cell_type": "code",
      "metadata": {
        "colab": {
          "base_uri": "https://localhost:8080/",
          "height": 282
        },
        "id": "zS5uLNvgqWps",
        "outputId": "00c756bc-75aa-475e-d0c7-47f97cbc79ce"
      },
      "source": [
        "import numpy as np\n",
        "import pandas as pd\n",
        "import matplotlib.pyplot as plt\n",
        "\n",
        "radius = 5\n",
        "points = 200\n",
        "\n",
        "# repeating sequence to store negative y values\n",
        "x = np.repeat(np.linspace(-radius,radius,num=points),2)\n",
        "\n",
        "y = np.zeros(400)\n",
        "# generating y array with positive and negative sqrt values\n",
        "for n in range(len(x)):\n",
        "  if n % 2 == 0:\n",
        "    y[n] = (radius**2 - x[n]**2)**0.5       #X^2+Y^2 = R^2 (circle equation )\n",
        "  else:\n",
        "    y[n] = -((radius**2 - x[n]**2)**0.5)\n",
        "\n",
        "# Generating random numbers and adding to y\n",
        "arr = (np.random.random(400) + y)\n",
        "\n",
        "# plotting x and arr\n",
        "plt.scatter(x,arr)"
      ],
      "execution_count": null,
      "outputs": [
        {
          "output_type": "execute_result",
          "data": {
            "text/plain": [
              "<matplotlib.collections.PathCollection at 0x7fc43783a450>"
            ]
          },
          "metadata": {
            "tags": []
          },
          "execution_count": 4
        },
        {
          "output_type": "display_data",
          "data": {
            "image/png": "[encoded data removed]",
            "text/plain": [
              "<Figure size 432x288 with 1 Axes>"
            ]
          },
          "metadata": {
            "tags": [],
            "needs_background": "light"
          }
        }
      ]
    },
    {
      "cell_type": "code",
      "metadata": {
        "colab": {
          "base_uri": "https://localhost:8080/",
          "height": 334
        },
        "id": "sw5MsWs20KYo",
        "outputId": "c1013a66-7503-4357-c6f4-aed0215c4c07"
      },
      "source": [
        "import numpy as np\n",
        "import pandas as pd\n",
        "import matplotlib.pyplot as plot\n",
        "\n",
        "def create_donut(radius, size=1000):\n",
        "    # assume that arr is in polar coordinates\n",
        "    arr = np.array([np.linspace(0, 2 * np.pi, size), np.random.randn(size)]).T + radius\n",
        "    cartesian_arr = np.array([arr[:, 1] * np.cos(arr[:, 0]), arr[:, 1] * np.sin(arr[:, 0])]).T\n",
        "    return cartesian_arr\n",
        "\n",
        "\n",
        "outerCircle = create_donut(10)\n",
        "innerCircle = create_donut(5)\n",
        "\n",
        "dfo = pd.DataFrame(outerCircle, columns=[\"x1\", \"x2\"])\n",
        "dfo[\"y\"] = 1\n",
        "dfi = pd.DataFrame(innerCircle, columns=[\"x1\", \"x2\"])\n",
        "dfi[\"y\"] = 0\n",
        "\n",
        "# generate DataFrame for result csv\n",
        "df_result = pd.concat([dfi, dfo], ignore_index=True)\n",
        "\n",
        "df_result[\"x1^2\"] = df_result[\"x1\"] ** 2\n",
        "df_result[\"x2^2\"] = df_result[\"x2\"] ** 2\n",
        "df_result[\"x1*x2\"] = df_result[\"x1\"] * df_result[\"x2\"]\n",
        "\n",
        "# rearrange columns\n",
        "df_result = df_result[[\"x1\", \"x2\", \"x1^2\", \"x2^2\", \"x1*x2\", \"y\"]]\n",
        "# shuffle to mix up \"y\" values\n",
        "df_result = df_result.sample(frac=1.0)\n",
        "\n",
        "df_result.to_csv(\"result.csv\", header=False, index=False)\n",
        "\n",
        "# plot\n",
        "ax = dfo.plot(x=0, y=1, kind=\"scatter\", color=\"gold\")\n",
        "dfi.plot(x=0, y=1, kind=\"scatter\", color=\"indigo\", ax=ax, figsize=(5, 5), legend=False)\n",
        "\n",
        "plot.show()"
      ],
      "execution_count": 3,
      "outputs": [
        {
          "output_type": "display_data",
          "data": {
            "image/png": "[encoded data removed]",
            "text/plain": [
              "<Figure size 360x360 with 1 Axes>"
            ]
          },
          "metadata": {
            "tags": [],
            "needs_background": "light"
          }
        }
      ]
    },
    {
      "cell_type": "code",
      "metadata": {
        "colab": {
          "base_uri": "https://localhost:8080/",
          "height": 419
        },
        "id": "ow_8iodLIFoI",
        "outputId": "80512567-ef2f-4457-eb8d-ef6b7cd09e19"
      },
      "source": [
        "import matplotlib.pyplot as plot\n",
        "\n",
        "def create_donut(radius, size=1000):\n",
        "    # assume that arr is in polar coordinates\n",
        "    arr = np.array([np.linspace(0, 2 * np.pi, size), np.random.randn(size)]).T + radius\n",
        "    cartesian_arr = np.array([arr[:, 1] * np.cos(arr[:, 0]), arr[:, 1] * np.sin(arr[:, 0])]).T\n",
        "    return cartesian_arr\n",
        "\n",
        "outerCircle = create_donut(10)\n",
        "innerCircle = create_donut(5)\n",
        "\n",
        "dfo = pd.DataFrame(outerCircle, columns=[\"x1\", \"x2\"])\n",
        "dfo[\"y\"] = 1\n",
        "dfi = pd.DataFrame(innerCircle, columns=[\"x1\", \"x2\"])\n",
        "dfi[\"y\"] = 0\n",
        "\n",
        "df_result = pd.concat([dfi, dfo], ignore_index=True)\n",
        "df_result[\"x1^2\"] = df_result[\"x1\"] ** 2\n",
        "df_result[\"x2^2\"] = df_result[\"x2\"] ** 2\n",
        "df_result[\"x1*x2\"] = df_result[\"x1\"] * df_result[\"x2\"]\n",
        "\n",
        "# rearrange columns\n",
        "df_result = df_result[[\"x1\", \"x2\", \"x1^2\", \"x2^2\", \"x1*x2\", \"y\"]]\n",
        "df_result"
      ],
      "execution_count": 29,
      "outputs": [
        {
          "output_type": "execute_result",
          "data": {
            "text/html": [
              "<div>\n",
              "<style scoped>\n",
              "    .dataframe tbody tr th:only-of-type {\n",
              "        vertical-align: middle;\n",
              "    }\n",
              "\n",
              "    .dataframe tbody tr th {\n",
              "        vertical-align: top;\n",
              "    }\n",
              "\n",
              "    .dataframe thead th {\n",
              "        text-align: right;\n",
              "    }\n",
              "</style>\n",
              "<table border=\"1\" class=\"dataframe\">\n",
              "  <thead>\n",
              "    <tr style=\"text-align: right;\">\n",
              "      <th></th>\n",
              "      <th>x1</th>\n",
              "      <th>x2</th>\n",
              "      <th>x1^2</th>\n",
              "      <th>x2^2</th>\n",
              "      <th>x1*x2</th>\n",
              "      <th>y</th>\n",
              "    </tr>\n",
              "  </thead>\n",
              "  <tbody>\n",
              "    <tr>\n",
              "      <th>0</th>\n",
              "      <td>1.843883</td>\n",
              "      <td>-6.233276</td>\n",
              "      <td>3.399906</td>\n",
              "      <td>38.853725</td>\n",
              "      <td>-11.493434</td>\n",
              "      <td>0</td>\n",
              "    </tr>\n",
              "    <tr>\n",
              "      <th>1</th>\n",
              "      <td>1.990038</td>\n",
              "      <td>-6.575037</td>\n",
              "      <td>3.960250</td>\n",
              "      <td>43.231116</td>\n",
              "      <td>-13.084571</td>\n",
              "      <td>0</td>\n",
              "    </tr>\n",
              "    <tr>\n",
              "      <th>2</th>\n",
              "      <td>1.795354</td>\n",
              "      <td>-5.799990</td>\n",
              "      <td>3.223298</td>\n",
              "      <td>33.639885</td>\n",
              "      <td>-10.413038</td>\n",
              "      <td>0</td>\n",
              "    </tr>\n",
              "    <tr>\n",
              "      <th>3</th>\n",
              "      <td>1.361226</td>\n",
              "      <td>-4.301552</td>\n",
              "      <td>1.852937</td>\n",
              "      <td>18.503346</td>\n",
              "      <td>-5.855385</td>\n",
              "      <td>0</td>\n",
              "    </tr>\n",
              "    <tr>\n",
              "      <th>4</th>\n",
              "      <td>1.900420</td>\n",
              "      <td>-5.876681</td>\n",
              "      <td>3.611597</td>\n",
              "      <td>34.535381</td>\n",
              "      <td>-11.168164</td>\n",
              "      <td>0</td>\n",
              "    </tr>\n",
              "    <tr>\n",
              "      <th>...</th>\n",
              "      <td>...</td>\n",
              "      <td>...</td>\n",
              "      <td>...</td>\n",
              "      <td>...</td>\n",
              "      <td>...</td>\n",
              "      <td>...</td>\n",
              "    </tr>\n",
              "    <tr>\n",
              "      <th>1995</th>\n",
              "      <td>-8.760042</td>\n",
              "      <td>-5.371601</td>\n",
              "      <td>76.738339</td>\n",
              "      <td>28.854093</td>\n",
              "      <td>47.055448</td>\n",
              "      <td>1</td>\n",
              "    </tr>\n",
              "    <tr>\n",
              "      <th>1996</th>\n",
              "      <td>-9.243456</td>\n",
              "      <td>-5.748334</td>\n",
              "      <td>85.441488</td>\n",
              "      <td>33.043345</td>\n",
              "      <td>53.134476</td>\n",
              "      <td>1</td>\n",
              "    </tr>\n",
              "    <tr>\n",
              "      <th>1997</th>\n",
              "      <td>-8.132048</td>\n",
              "      <td>-5.128376</td>\n",
              "      <td>66.130212</td>\n",
              "      <td>26.300240</td>\n",
              "      <td>41.704201</td>\n",
              "      <td>1</td>\n",
              "    </tr>\n",
              "    <tr>\n",
              "      <th>1998</th>\n",
              "      <td>-9.333966</td>\n",
              "      <td>-5.968732</td>\n",
              "      <td>87.122927</td>\n",
              "      <td>35.625758</td>\n",
              "      <td>55.711941</td>\n",
              "      <td>1</td>\n",
              "    </tr>\n",
              "    <tr>\n",
              "      <th>1999</th>\n",
              "      <td>-8.815611</td>\n",
              "      <td>-5.715697</td>\n",
              "      <td>77.714991</td>\n",
              "      <td>32.669188</td>\n",
              "      <td>50.387356</td>\n",
              "      <td>1</td>\n",
              "    </tr>\n",
              "  </tbody>\n",
              "</table>\n",
              "<p>2000 rows × 6 columns</p>\n",
              "</div>"
            ],
            "text/plain": [
              "            x1        x2       x1^2       x2^2      x1*x2  y\n",
              "0     1.843883 -6.233276   3.399906  38.853725 -11.493434  0\n",
              "1     1.990038 -6.575037   3.960250  43.231116 -13.084571  0\n",
              "2     1.795354 -5.799990   3.223298  33.639885 -10.413038  0\n",
              "3     1.361226 -4.301552   1.852937  18.503346  -5.855385  0\n",
              "4     1.900420 -5.876681   3.611597  34.535381 -11.168164  0\n",
              "...        ...       ...        ...        ...        ... ..\n",
              "1995 -8.760042 -5.371601  76.738339  28.854093  47.055448  1\n",
              "1996 -9.243456 -5.748334  85.441488  33.043345  53.134476  1\n",
              "1997 -8.132048 -5.128376  66.130212  26.300240  41.704201  1\n",
              "1998 -9.333966 -5.968732  87.122927  35.625758  55.711941  1\n",
              "1999 -8.815611 -5.715697  77.714991  32.669188  50.387356  1\n",
              "\n",
              "[2000 rows x 6 columns]"
            ]
          },
          "metadata": {
            "tags": []
          },
          "execution_count": 29
        }
      ]
    },
    {
      "cell_type": "code",
      "metadata": {
        "colab": {
          "base_uri": "https://localhost:8080/"
        },
        "id": "wI0oFXu4e_Zb",
        "outputId": "f1549384-ac90-480e-da19-e7b0b6df4346"
      },
      "source": [
        "arr = np.array([np.linspace(0, 2 * np.pi, 1000), np.random.randn(1000)]).T + 10\n",
        "arr"
      ],
      "execution_count": 21,
      "outputs": [
        {
          "output_type": "execute_result",
          "data": {
            "text/plain": [
              "array([[10.        ,  8.9064223 ],\n",
              "       [10.00628947,  9.35487567],\n",
              "       [10.01257895, 10.17848873],\n",
              "       ...,\n",
              "       [16.27060636, 10.76519196],\n",
              "       [16.27689583, 11.49683033],\n",
              "       [16.28318531,  8.95059609]])"
            ]
          },
          "metadata": {
            "tags": []
          },
          "execution_count": 21
        }
      ]
    },
    {
      "cell_type": "code",
      "metadata": {
        "colab": {
          "base_uri": "https://localhost:8080/"
        },
        "id": "xdzWjgxkg2of",
        "outputId": "59ccb3fe-3b37-43a0-f3e9-7b3d1059824b"
      },
      "source": [
        "cartesian_arr = np.array([arr[:, 1] * np.cos(arr[:, 0]), arr[:, 1] * np.sin(arr[:, 0])]).T\n",
        "cartesian_arr"
      ],
      "execution_count": 22,
      "outputs": [
        {
          "output_type": "execute_result",
          "data": {
            "text/plain": [
              "array([[-7.47312537, -4.84528175],\n",
              "       [-7.81724609, -5.13851754],\n",
              "       [-8.47015269, -5.6443021 ],\n",
              "       ...,\n",
              "       [-9.10571803, -5.74240864],\n",
              "       [-9.68580958, -6.19372266],\n",
              "       [-7.51019035, -4.86931323]])"
            ]
          },
          "metadata": {
            "tags": []
          },
          "execution_count": 22
        }
      ]
    },
    {
      "cell_type": "code",
      "metadata": {
        "colab": {
          "base_uri": "https://localhost:8080/",
          "height": 282
        },
        "id": "Ozb4xGj2kY9Z",
        "outputId": "f4ae4b2a-5c2f-4d1c-f31c-49eb3d2f7847"
      },
      "source": [
        "def create_donut(radius, size=1000):\n",
        "    # assume that arr is in polar coordinates\n",
        "    arr = np.array([np.linspace(0, 2 * np.pi, size), np.random.randn(size)]).T + radius\n",
        "    cartesian_arr = np.array([arr[:, 1] * np.cos(arr[:, 0]), arr[:, 1] * np.sin(arr[:, 0])]).T\n",
        "    return cartesian_arr\n",
        "\n",
        "outerCircle = create_donut(10)\n",
        "innerCircle = create_donut(5)\n",
        "plot.scatter(outerCircle, innerCircle)"
      ],
      "execution_count": 24,
      "outputs": [
        {
          "output_type": "execute_result",
          "data": {
            "text/plain": [
              "<matplotlib.collections.PathCollection at 0x7f3f776e3d10>"
            ]
          },
          "metadata": {
            "tags": []
          },
          "execution_count": 24
        },
        {
          "output_type": "display_data",
          "data": {
            "image/png": "[encoded data removed]",
            "text/plain": [
              "<Figure size 432x288 with 1 Axes>"
            ]
          },
          "metadata": {
            "tags": [],
            "needs_background": "light"
          }
        }
      ]
    }
  ]
}